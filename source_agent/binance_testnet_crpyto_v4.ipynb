{
  "cells": [
    {
      "cell_type": "markdown",
      "metadata": {
        "id": "plMUuxMFwME2"
      },
      "source": [
        "\n",
        "> **Binance Spot and Futures Testnet**\n",
        "\n",
        "After developing your functions, you can utilize the [Binance Spot Testnet](https://testnet.binance.vision/) and [Futures Testnet](https://testnet.binancefuture.com/) to test your use cases for free.\n",
        "\n",
        "> **How to Test Functions on the Spot Testnet?**\n",
        "\n",
        "Log in to the Binance Spot Test Network website by clicking [Log In with GitHub](https://testnet.binance.vision/)."
      ]
    },
    {
      "cell_type": "markdown",
      "metadata": {
        "id": "bEROHezxxqaF"
      },
      "source": [
        "> If you don’t have any API Keys, click `[Generate HMAC_SHA256 Key] `\n",
        "\n",
        "and follow the instructions to create one. Please keep your Secret Key secure as it will not be shown again. Do not share this key with anyone.\n",
        "\n",
        "> If you forget your Secret Key, you will need to click `[Revoke]`\n",
        "\n",
        "to delete the API and create a new one."
      ]
    },
    {
      "cell_type": "code",
      "execution_count": null,
      "metadata": {
        "id": "ePi-VK5rQWKd"
      },
      "outputs": [],
      "source": [
        "!pip install python-binance"
      ]
    },
    {
      "cell_type": "code",
      "execution_count": null,
      "metadata": {
        "id": "bII71xp7y-RW"
      },
      "outputs": [],
      "source": [
        "from binance.client import Client\n",
        "\n",
        "# Initialize the Binance API\n",
        "api_key = ''\n",
        "api_secret = ''\n",
        "\n",
        "client = Client(api_key, api_secret, testnet=True)\n",
        "\n",
        "# Fetch historical kline (candlestick) data\n",
        "bars = client.get_historical_klines(\"BTCUSDT\", Client.KLINE_INTERVAL_1MINUTE, \"2 hours ago UTC\")\n",
        "\n",
        "# Print the fetched data\n",
        "for bar in bars:\n",
        "    print(bar)"
      ]
    },
    {
      "cell_type": "markdown",
      "metadata": {
        "id": "Srd50vEazR-s"
      },
      "source": [
        "`pd.to_datetime(df['Open time'], unit='ms')`: Converts the timestamp from milliseconds to a readable datetime format.\n",
        "\n",
        "`df.set_index('Open time', inplace=True)`: Sets the 'Open time' column as the index.\n",
        "\n",
        "`df.iloc[:, :5]`: Selects only the first five columns: Open, High, Low, Close, and Volume."
      ]
    },
    {
      "cell_type": "code",
      "execution_count": null,
      "metadata": {
        "colab": {
          "base_uri": "https://localhost:8080/"
        },
        "id": "_4--mzsszQpT",
        "outputId": "a88ba81e-de4f-43c4-b2e4-6d263c35ad1f"
      },
      "outputs": [
        {
          "name": "stdout",
          "output_type": "stream",
          "text": [
            "                                Open             High              Low  \\\n",
            "Open time                                                                \n",
            "2025-05-18 22:15:00  104095.26000000  104100.02000000  104066.44000000   \n",
            "2025-05-18 22:16:00  104066.46000000  104077.78000000  104061.24000000   \n",
            "2025-05-18 22:17:00  104061.24000000  104072.14000000  104056.01000000   \n",
            "2025-05-18 22:18:00  104072.14000000  104130.90000000  104070.00000000   \n",
            "2025-05-18 22:19:00  104130.90000000  104177.58000000  104103.26000000   \n",
            "\n",
            "                               Close      Volume  \n",
            "Open time                                         \n",
            "2025-05-18 22:15:00  104066.46000000  1.55568000  \n",
            "2025-05-18 22:16:00  104061.24000000  2.11579000  \n",
            "2025-05-18 22:17:00  104072.13000000  1.15056000  \n",
            "2025-05-18 22:18:00  104130.90000000  3.81242000  \n",
            "2025-05-18 22:19:00  104103.26000000  1.82887000  \n"
          ]
        }
      ],
      "source": [
        "import pandas as pd\n",
        "\n",
        "# Load result into a DataFrame\n",
        "df = pd.DataFrame(bars)\n",
        "\n",
        "# Set the column names\n",
        "df.columns = [\n",
        "    \"Open time\", \"Open\", \"High\", \"Low\", \"Close\", \"Volume\", \"Close time\",\n",
        "    \"Quote asset volume\", \"Number of trades\", \"Taker buy base asset volume\",\n",
        "    \"Taker buy quote asset volume\", \"Ignore\"\n",
        "]\n",
        "\n",
        "# Convert the timestamp into datetime objects\n",
        "df['Open time'] = pd.to_datetime(df['Open time'], unit='ms')\n",
        "\n",
        "# Set the Open time as the index of our DataFrame\n",
        "df.set_index('Open time', inplace=True)\n",
        "\n",
        "# Keep only the first 5 columns (Volume included)\n",
        "df = df.iloc[:, :5]\n",
        "\n",
        "print(df.head())\n"
      ]
    },
    {
      "cell_type": "markdown",
      "metadata": {
        "id": "FFHRd3Iizztp"
      },
      "source": [
        "Explanation:\n",
        "\n",
        "`order_market_buy`: Places a market order to buy the specified quantity of BTC with USDT.\n",
        "\n",
        "`get_open_orders`: Retrieves a list of the user's open orders for the specified symbol."
      ]
    },
    {
      "cell_type": "code",
      "execution_count": null,
      "metadata": {
        "colab": {
          "base_uri": "https://localhost:8080/"
        },
        "id": "71wISHJ8z4PZ",
        "outputId": "acc812ba-1740-4a86-a6b0-fa4323f27f19"
      },
      "outputs": [
        {
          "name": "stdout",
          "output_type": "stream",
          "text": [
            "{'symbol': 'BTCUSDT', 'orderId': 3670686, 'orderListId': -1, 'clientOrderId': 'x-HNA2TXFJ33128ddbc94b1786c76689', 'transactTime': 1747613657494, 'price': '0.00000000', 'origQty': '0.00100000', 'executedQty': '0.00100000', 'origQuoteOrderQty': '0.00000000', 'cummulativeQuoteQty': '106.57561000', 'status': 'FILLED', 'timeInForce': 'GTC', 'type': 'MARKET', 'side': 'BUY', 'workingTime': 1747613657494, 'fills': [{'price': '106575.61000000', 'qty': '0.00100000', 'commission': '0.00000000', 'commissionAsset': 'BTC', 'tradeId': 1741791}], 'selfTradePreventionMode': 'EXPIRE_MAKER'}\n"
          ]
        }
      ],
      "source": [
        "# Buy a little bit of bitcoin\n",
        "order = client.order_market_buy(\n",
        "    symbol='BTCUSDT',\n",
        "    quantity=.001)\n",
        "print(order)"
      ]
    },
    {
      "cell_type": "code",
      "execution_count": null,
      "metadata": {
        "colab": {
          "base_uri": "https://localhost:8080/"
        },
        "id": "oYHXpUs70ln-",
        "outputId": "4625dd13-ca96-4c67-d9af-946aba3cf36a"
      },
      "outputs": [
        {
          "data": {
            "text/plain": [
              "[]"
            ]
          },
          "execution_count": 5,
          "metadata": {},
          "output_type": "execute_result"
        }
      ],
      "source": [
        "# Get a list of orders that are pending\n",
        "open_orders = client.get_open_orders(symbol='BTCUSDT')\n",
        "open_orders"
      ]
    },
    {
      "cell_type": "code",
      "execution_count": null,
      "metadata": {
        "colab": {
          "base_uri": "https://localhost:8080/"
        },
        "id": "QJ8x7ieR1GRN",
        "outputId": "43ce2775-3a89-46c0-9771-61c1a9c56bc7"
      },
      "outputs": [
        {
          "name": "stdout",
          "output_type": "stream",
          "text": [
            "No open orders.\n"
          ]
        }
      ],
      "source": [
        "# Fetch a list of open orders for BTCUSDT\n",
        "open_orders = client.get_open_orders(symbol='BTCUSDT')\n",
        "\n",
        "if open_orders:\n",
        "    print(\"Open Orders: \", open_orders)\n",
        "else:\n",
        "    print(\"No open orders.\")\n"
      ]
    },
    {
      "cell_type": "code",
      "execution_count": null,
      "metadata": {
        "colab": {
          "base_uri": "https://localhost:8080/"
        },
        "id": "m8cR5gGD0rgz",
        "outputId": "85caa14d-6c88-4b3e-e547-e1b0ad5e7938"
      },
      "outputs": [
        {
          "name": "stdout",
          "output_type": "stream",
          "text": [
            "[{'symbol': 'BTCUSDT', 'orderId': 3668529, 'orderListId': -1, 'clientOrderId': 'x-HNA2TXFJb71d384ba355141dd6a787', 'price': '0.00000000', 'origQty': '0.00100000', 'executedQty': '0.00100000', 'cummulativeQuoteQty': '106.42085000', 'status': 'FILLED', 'timeInForce': 'GTC', 'type': 'MARKET', 'side': 'BUY', 'stopPrice': '0.00000000', 'icebergQty': '0.00000000', 'time': 1747613038845, 'updateTime': 1747613038845, 'isWorking': True, 'workingTime': 1747613038845, 'origQuoteOrderQty': '0.00000000', 'selfTradePreventionMode': 'EXPIRE_MAKER'}, {'symbol': 'BTCUSDT', 'orderId': 3668558, 'orderListId': -1, 'clientOrderId': 'x-HNA2TXFJ5ea16a80e358d621d1fc2', 'price': '0.00000000', 'origQty': '0.00100000', 'executedQty': '0.00100000', 'cummulativeQuoteQty': '106.42085000', 'status': 'FILLED', 'timeInForce': 'GTC', 'type': 'MARKET', 'side': 'BUY', 'stopPrice': '0.00000000', 'icebergQty': '0.00000000', 'time': 1747613055296, 'updateTime': 1747613055296, 'isWorking': True, 'workingTime': 1747613055296, 'origQuoteOrderQty': '0.00000000', 'selfTradePreventionMode': 'EXPIRE_MAKER'}, {'symbol': 'BTCUSDT', 'orderId': 3670686, 'orderListId': -1, 'clientOrderId': 'x-HNA2TXFJ33128ddbc94b1786c76689', 'price': '0.00000000', 'origQty': '0.00100000', 'executedQty': '0.00100000', 'cummulativeQuoteQty': '106.57561000', 'status': 'FILLED', 'timeInForce': 'GTC', 'type': 'MARKET', 'side': 'BUY', 'stopPrice': '0.00000000', 'icebergQty': '0.00000000', 'time': 1747613657494, 'updateTime': 1747613657494, 'isWorking': True, 'workingTime': 1747613657494, 'origQuoteOrderQty': '0.00000000', 'selfTradePreventionMode': 'EXPIRE_MAKER'}]\n"
          ]
        }
      ],
      "source": [
        "#Get a list of orders that we made previously\n",
        "all_orders = client.get_all_orders(symbol='BTCUSDT')\n",
        "print(all_orders)"
      ]
    },
    {
      "cell_type": "code",
      "execution_count": null,
      "metadata": {
        "colab": {
          "base_uri": "https://localhost:8080/"
        },
        "collapsed": true,
        "id": "vCimHHdd0xbK",
        "outputId": "dfb0faf6-3b70-4cea-8bad-71a763bd0d74"
      },
      "outputs": [
        {
          "name": "stdout",
          "output_type": "stream",
          "text": [
            "{\n",
            "    \"accountType\": \"SPOT\",\n",
            "    \"balances\": [\n",
            "        {\n",
            "            \"asset\": \"ETH\",\n",
            "            \"free\": \"1.00000000\",\n",
            "            \"locked\": \"0.00000000\"\n",
            "        },\n",
            "        {\n",
            "            \"asset\": \"BTC\",\n",
            "            \"free\": \"1.00300000\",\n",
            "            \"locked\": \"0.00000000\"\n",
            "        },\n",
            "        {\n",
            "            \"asset\": \"LTC\",\n",
            "            \"free\": \"5.00000000\",\n",
            "            \"locked\": \"0.00000000\"\n",
            "        },\n",
            "        {\n",
            "            \"asset\": \"BNB\",\n",
            "            \"free\": \"1.00000000\",\n",
            "            \"locked\": \"0.00000000\"\n",
            "        },\n",
            "        {\n",
            "            \"asset\": \"USDT\",\n",
            "            \"free\": \"9680.58269000\",\n",
            "            \"locked\": \"0.00000000\"\n",
            "        },\n",
            "        {\n",
            "            \"asset\": \"TRX\",\n",
            "            \"free\": \"2022.00000000\",\n",
            "            \"locked\": \"0.00000000\"\n",
            "        },\n",
            "        {\n",
            "            \"asset\": \"XRP\",\n",
            "            \"free\": \"233.00000000\",\n",
            "            \"locked\": \"0.00000000\"\n",
            "        },\n",
            "        {\n",
            "            \"asset\": \"NEO\",\n",
            "            \"free\": \"89.00000000\",\n",
            "            \"locked\": \"0.00000000\"\n",
            "        },\n",
            "        {\n",
            "            \"asset\": \"QTUM\",\n",
            "            \"free\": \"238.00000000\",\n",
            "            \"locked\": \"0.00000000\"\n",
            "        },\n",
            "        {\n",
            "            \"asset\": \"EOS\",\n",
            "            \"free\": \"691.00000000\",\n",
            "            \"locked\": \"0.00000000\"\n",
            "        },\n",
            "        {\n",
            "            \"asset\": \"GAS\",\n",
            "            \"free\": \"161.00000000\",\n",
            "            \"locked\": \"0.00000000\"\n",
            "        },\n",
            "        {\n",
            "            \"asset\": \"LRC\",\n",
            "            \"free\": \"4859.00000000\",\n",
            "            \"locked\": \"0.00000000\"\n",
            "        },\n",
            "        {\n",
            "            \"asset\": \"ZRX\",\n",
            "            \"free\": \"1978.00000000\",\n",
            "            \"locked\": \"0.00000000\"\n",
            "        },\n",
            "        {\n",
            "            \"asset\": \"KNC\",\n",
            "            \"free\": \"1459.00000000\",\n",
            "            \"locked\": \"0.00000000\"\n",
            "        },\n",
            "        {\n",
            "            \"asset\": \"IOTA\",\n",
            "            \"free\": \"2402.00000000\",\n",
            "            \"locked\": \"0.00000000\"\n",
            "        },\n",
            "        {\n",
            "            \"asset\": \"LINK\",\n",
            "            \"free\": \"36.00000000\",\n",
            "            \"locked\": \"0.00000000\"\n",
            "        },\n",
            "        {\n",
            "            \"asset\": \"XVG\",\n",
            "            \"free\": \"18446.00000000\",\n",
            "            \"locked\": \"0.00000000\"\n",
            "        },\n",
            "        {\n",
            "            \"asset\": \"MTL\",\n",
            "            \"free\": \"633.00000000\",\n",
            "            \"locked\": \"0.00000000\"\n",
            "        },\n",
            "        {\n",
            "            \"asset\": \"ETC\",\n",
            "            \"free\": \"30.00000000\",\n",
            "            \"locked\": \"0.00000000\"\n",
            "        },\n",
            "        {\n",
            "            \"asset\": \"ZEC\",\n",
            "            \"free\": \"13.00000000\",\n",
            "            \"locked\": \"0.00000000\"\n",
            "        },\n",
            "        {\n",
            "            \"asset\": \"DASH\",\n",
            "            \"free\": \"23.00000000\",\n",
            "            \"locked\": \"0.00000000\"\n",
            "        },\n",
            "        {\n",
            "            \"asset\": \"REQ\",\n",
            "            \"free\": \"3614.00000000\",\n",
            "            \"locked\": \"0.00000000\"\n",
            "        },\n",
            "        {\n",
            "            \"asset\": \"POWR\",\n",
            "            \"free\": \"2957.00000000\",\n",
            "            \"locked\": \"0.00000000\"\n",
            "        },\n",
            "        {\n",
            "            \"asset\": \"ENJ\",\n",
            "            \"free\": \"6688.00000000\",\n",
            "            \"locked\": \"0.00000000\"\n",
            "        },\n",
            "        {\n",
            "            \"asset\": \"STORJ\",\n",
            "            \"free\": \"1813.00000000\",\n",
            "            \"locked\": \"0.00000000\"\n",
            "        },\n",
            "        {\n",
            "            \"asset\": \"KMD\",\n",
            "            \"free\": \"3567.00000000\",\n",
            "            \"locked\": \"0.00000000\"\n",
            "        },\n",
            "        {\n",
            "            \"asset\": \"BAT\",\n",
            "            \"free\": \"3613.00000000\",\n",
            "            \"locked\": \"0.00000000\"\n",
            "        },\n",
            "        {\n",
            "            \"asset\": \"LSK\",\n",
            "            \"free\": \"1046.00000000\",\n",
            "            \"locked\": \"0.00000000\"\n",
            "        },\n",
            "        {\n",
            "            \"asset\": \"MANA\",\n",
            "            \"free\": \"1677.00000000\",\n",
            "            \"locked\": \"0.00000000\"\n",
            "        },\n",
            "        {\n",
            "            \"asset\": \"ADX\",\n",
            "            \"free\": \"5111.00000000\",\n",
            "            \"locked\": \"0.00000000\"\n",
            "        },\n",
            "        {\n",
            "            \"asset\": \"ADA\",\n",
            "            \"free\": \"734.00000000\",\n",
            "            \"locked\": \"0.00000000\"\n",
            "        },\n",
            "        {\n",
            "            \"asset\": \"XLM\",\n",
            "            \"free\": \"1910.00000000\",\n",
            "            \"locked\": \"0.00000000\"\n",
            "        },\n",
            "        {\n",
            "            \"asset\": \"ICX\",\n",
            "            \"free\": \"5216.00000000\",\n",
            "            \"locked\": \"0.00000000\"\n",
            "        },\n",
            "        {\n",
            "            \"asset\": \"RLC\",\n",
            "            \"free\": \"455.00000000\",\n",
            "            \"locked\": \"0.00000000\"\n",
            "        },\n",
            "        {\n",
            "            \"asset\": \"PIVX\",\n",
            "            \"free\": \"3045.00000000\",\n",
            "            \"locked\": \"0.00000000\"\n",
            "        },\n",
            "        {\n",
            "            \"asset\": \"STEEM\",\n",
            "            \"free\": \"3586.00000000\",\n",
            "            \"locked\": \"0.00000000\"\n",
            "        },\n",
            "        {\n",
            "            \"asset\": \"ZIL\",\n",
            "            \"free\": \"18446.00000000\",\n",
            "            \"locked\": \"0.00000000\"\n",
            "        },\n",
            "        {\n",
            "            \"asset\": \"ONT\",\n",
            "            \"free\": \"3556.00000000\",\n",
            "            \"locked\": \"0.00000000\"\n",
            "        },\n",
            "        {\n",
            "            \"asset\": \"WAN\",\n",
            "            \"free\": \"4524.00000000\",\n",
            "            \"locked\": \"0.00000000\"\n",
            "        },\n",
            "        {\n",
            "            \"asset\": \"SYS\",\n",
            "            \"free\": \"10071.00000000\",\n",
            "            \"locked\": \"0.00000000\"\n",
            "        },\n",
            "        {\n",
            "            \"asset\": \"TUSD\",\n",
            "            \"free\": \"10000.00000000\",\n",
            "            \"locked\": \"0.00000000\"\n",
            "        },\n",
            "        {\n",
            "            \"asset\": \"ZEN\",\n",
            "            \"free\": \"59.00000000\",\n",
            "            \"locked\": \"0.00000000\"\n",
            "        },\n",
            "        {\n",
            "            \"asset\": \"THETA\",\n",
            "            \"free\": \"695.00000000\",\n",
            "            \"locked\": \"0.00000000\"\n",
            "        },\n",
            "        {\n",
            "            \"asset\": \"IOTX\",\n",
            "            \"free\": \"18446.00000000\",\n",
            "            \"locked\": \"0.00000000\"\n",
            "        },\n",
            "        {\n",
            "            \"asset\": \"DATA\",\n",
            "            \"free\": \"18446.00000000\",\n",
            "            \"locked\": \"0.00000000\"\n",
            "        },\n",
            "        {\n",
            "            \"asset\": \"SC\",\n",
            "            \"free\": \"18446.00000000\",\n",
            "            \"locked\": \"0.00000000\"\n",
            "        },\n",
            "        {\n",
            "            \"asset\": \"DENT\",\n",
            "            \"free\": \"18446.00000000\",\n",
            "            \"locked\": \"0.00000000\"\n",
            "        },\n",
            "        {\n",
            "            \"asset\": \"ARDR\",\n",
            "            \"free\": \"5208.00000000\",\n",
            "            \"locked\": \"0.00000000\"\n",
            "        },\n",
            "        {\n",
            "            \"asset\": \"HOT\",\n",
            "            \"free\": \"18446.00000000\",\n",
            "            \"locked\": \"0.00000000\"\n",
            "        },\n",
            "        {\n",
            "            \"asset\": \"VET\",\n",
            "            \"free\": \"18446.00000000\",\n",
            "            \"locked\": \"0.00000000\"\n",
            "        },\n",
            "        {\n",
            "            \"asset\": \"RVN\",\n",
            "            \"free\": \"18446.00000000\",\n",
            "            \"locked\": \"0.00000000\"\n",
            "        },\n",
            "        {\n",
            "            \"asset\": \"USDC\",\n",
            "            \"free\": \"10000.00000000\",\n",
            "            \"locked\": \"0.00000000\"\n",
            "        },\n",
            "        {\n",
            "            \"asset\": \"ONG\",\n",
            "            \"free\": \"2564.00000000\",\n",
            "            \"locked\": \"0.00000000\"\n",
            "        },\n",
            "        {\n",
            "            \"asset\": \"FET\",\n",
            "            \"free\": \"726.00000000\",\n",
            "            \"locked\": \"0.00000000\"\n",
            "        },\n",
            "        {\n",
            "            \"asset\": \"IOST\",\n",
            "            \"free\": \"18446.00000000\",\n",
            "            \"locked\": \"0.00000000\"\n",
            "        },\n",
            "        {\n",
            "            \"asset\": \"CELR\",\n",
            "            \"free\": \"18446.00000000\",\n",
            "            \"locked\": \"0.00000000\"\n",
            "        },\n",
            "        {\n",
            "            \"asset\": \"ATOM\",\n",
            "            \"free\": \"120.00000000\",\n",
            "            \"locked\": \"0.00000000\"\n",
            "        },\n",
            "        {\n",
            "            \"asset\": \"PHB\",\n",
            "            \"free\": \"963.00000000\",\n",
            "            \"locked\": \"0.00000000\"\n",
            "        },\n",
            "        {\n",
            "            \"asset\": \"TFUEL\",\n",
            "            \"free\": \"14245.00000000\",\n",
            "            \"locked\": \"0.00000000\"\n",
            "        },\n",
            "        {\n",
            "            \"asset\": \"ONE\",\n",
            "            \"free\": \"18446.00000000\",\n",
            "            \"locked\": \"0.00000000\"\n",
            "        },\n",
            "        {\n",
            "            \"asset\": \"ALGO\",\n",
            "            \"free\": \"2504.00000000\",\n",
            "            \"locked\": \"0.00000000\"\n",
            "        },\n",
            "        {\n",
            "            \"asset\": \"DOGE\",\n",
            "            \"free\": \"2887.00000000\",\n",
            "            \"locked\": \"0.00000000\"\n",
            "        },\n",
            "        {\n",
            "            \"asset\": \"DUSK\",\n",
            "            \"free\": \"6491.00000000\",\n",
            "            \"locked\": \"0.00000000\"\n",
            "        },\n",
            "        {\n",
            "            \"asset\": \"ANKR\",\n",
            "            \"free\": \"18446.00000000\",\n",
            "            \"locked\": \"0.00000000\"\n",
            "        },\n",
            "        {\n",
            "            \"asset\": \"WIN\",\n",
            "            \"free\": \"18446.00000000\",\n",
            "            \"locked\": \"0.00000000\"\n",
            "        },\n",
            "        {\n",
            "            \"asset\": \"COS\",\n",
            "            \"free\": \"18446.00000000\",\n",
            "            \"locked\": \"0.00000000\"\n",
            "        },\n",
            "        {\n",
            "            \"asset\": \"FUN\",\n",
            "            \"free\": \"18446.00000000\",\n",
            "            \"locked\": \"0.00000000\"\n",
            "        },\n",
            "        {\n",
            "            \"asset\": \"CVC\",\n",
            "            \"free\": \"4863.00000000\",\n",
            "            \"locked\": \"0.00000000\"\n",
            "        },\n",
            "        {\n",
            "            \"asset\": \"CHZ\",\n",
            "            \"free\": \"12722.00000000\",\n",
            "            \"locked\": \"0.00000000\"\n",
            "        },\n",
            "        {\n",
            "            \"asset\": \"BAND\",\n",
            "            \"free\": \"678.00000000\",\n",
            "            \"locked\": \"0.00000000\"\n",
            "        },\n",
            "        {\n",
            "            \"asset\": \"XTZ\",\n",
            "            \"free\": \"922.00000000\",\n",
            "            \"locked\": \"0.00000000\"\n",
            "        },\n",
            "        {\n",
            "            \"asset\": \"HBAR\",\n",
            "            \"free\": \"2829.00000000\",\n",
            "            \"locked\": \"0.00000000\"\n",
            "        },\n",
            "        {\n",
            "            \"asset\": \"NKN\",\n",
            "            \"free\": \"13168.00000000\",\n",
            "            \"locked\": \"0.00000000\"\n",
            "        },\n",
            "        {\n",
            "            \"asset\": \"STX\",\n",
            "            \"free\": \"571.00000000\",\n",
            "            \"locked\": \"0.00000000\"\n",
            "        },\n",
            "        {\n",
            "            \"asset\": \"KAVA\",\n",
            "            \"free\": \"1143.00000000\",\n",
            "            \"locked\": \"0.00000000\"\n",
            "        },\n",
            "        {\n",
            "            \"asset\": \"ARPA\",\n",
            "            \"free\": \"18446.00000000\",\n",
            "            \"locked\": \"0.00000000\"\n",
            "        },\n",
            "        {\n",
            "            \"asset\": \"BCH\",\n",
            "            \"free\": \"1.00000000\",\n",
            "            \"locked\": \"0.00000000\"\n",
            "        },\n",
            "        {\n",
            "            \"asset\": \"FTT\",\n",
            "            \"free\": \"484.00000000\",\n",
            "            \"locked\": \"0.00000000\"\n",
            "        },\n",
            "        {\n",
            "            \"asset\": \"TRY\",\n",
            "            \"free\": \"18466.00000000\",\n",
            "            \"locked\": \"0.00000000\"\n",
            "        },\n",
            "        {\n",
            "            \"asset\": \"EUR\",\n",
            "            \"free\": \"440.00000000\",\n",
            "            \"locked\": \"0.00000000\"\n",
            "        },\n",
            "        {\n",
            "            \"asset\": \"OGN\",\n",
            "            \"free\": \"8912.00000000\",\n",
            "            \"locked\": \"0.00000000\"\n",
            "        },\n",
            "        {\n",
            "            \"asset\": \"BNT\",\n",
            "            \"free\": \"1048.00000000\",\n",
            "            \"locked\": \"0.00000000\"\n",
            "        },\n",
            "        {\n",
            "            \"asset\": \"LTO\",\n",
            "            \"free\": \"11719.00000000\",\n",
            "            \"locked\": \"0.00000000\"\n",
            "        },\n",
            "        {\n",
            "            \"asset\": \"MBL\",\n",
            "            \"free\": \"18446.00000000\",\n",
            "            \"locked\": \"0.00000000\"\n",
            "        },\n",
            "        {\n",
            "            \"asset\": \"COTI\",\n",
            "            \"free\": \"6765.00000000\",\n",
            "            \"locked\": \"0.00000000\"\n",
            "        },\n",
            "        {\n",
            "            \"asset\": \"STPT\",\n",
            "            \"free\": \"6415.00000000\",\n",
            "            \"locked\": \"0.00000000\"\n",
            "        },\n",
            "        {\n",
            "            \"asset\": \"ZAR\",\n",
            "            \"free\": \"18466.00000000\",\n",
            "            \"locked\": \"0.00000000\"\n",
            "        },\n",
            "        {\n",
            "            \"asset\": \"SOL\",\n",
            "            \"free\": \"3.00000000\",\n",
            "            \"locked\": \"0.00000000\"\n",
            "        },\n",
            "        {\n",
            "            \"asset\": \"CTSI\",\n",
            "            \"free\": \"8274.00000000\",\n",
            "            \"locked\": \"0.00000000\"\n",
            "        },\n",
            "        {\n",
            "            \"asset\": \"HIVE\",\n",
            "            \"free\": \"2112.00000000\",\n",
            "            \"locked\": \"0.00000000\"\n",
            "        },\n",
            "        {\n",
            "            \"asset\": \"CHR\",\n",
            "            \"free\": \"6059.00000000\",\n",
            "            \"locked\": \"0.00000000\"\n",
            "        },\n",
            "        {\n",
            "            \"asset\": \"MDT\",\n",
            "            \"free\": \"16639.00000000\",\n",
            "            \"locked\": \"0.00000000\"\n",
            "        },\n",
            "        {\n",
            "            \"asset\": \"UAH\",\n",
            "            \"free\": \"18466.00000000\",\n",
            "            \"locked\": \"0.00000000\"\n",
            "        },\n",
            "        {\n",
            "            \"asset\": \"COMP\",\n",
            "            \"free\": \"12.00000000\",\n",
            "            \"locked\": \"0.00000000\"\n",
            "        },\n",
            "        {\n",
            "            \"asset\": \"SXP\",\n",
            "            \"free\": \"2636.00000000\",\n",
            "            \"locked\": \"0.00000000\"\n",
            "        },\n",
            "        {\n",
            "            \"asset\": \"SNX\",\n",
            "            \"free\": \"767.00000000\",\n",
            "            \"locked\": \"0.00000000\"\n",
            "        },\n",
            "        {\n",
            "            \"asset\": \"VTHO\",\n",
            "            \"free\": \"18446.00000000\",\n",
            "            \"locked\": \"0.00000000\"\n",
            "        },\n",
            "        {\n",
            "            \"asset\": \"DGB\",\n",
            "            \"free\": \"18446.00000000\",\n",
            "            \"locked\": \"0.00000000\"\n",
            "        },\n",
            "        {\n",
            "            \"asset\": \"MKR\",\n",
            "            \"free\": \"1.00000000\",\n",
            "            \"locked\": \"0.00000000\"\n",
            "        },\n",
            "        {\n",
            "            \"asset\": \"RUNE\",\n",
            "            \"free\": \"399.00000000\",\n",
            "            \"locked\": \"0.00000000\"\n",
            "        },\n",
            "        {\n",
            "            \"asset\": \"DCR\",\n",
            "            \"free\": \"38.00000000\",\n",
            "            \"locked\": \"0.00000000\"\n",
            "        },\n",
            "        {\n",
            "            \"asset\": \"FIO\",\n",
            "            \"free\": \"18446.00000000\",\n",
            "            \"locked\": \"0.00000000\"\n",
            "        },\n",
            "        {\n",
            "            \"asset\": \"AVA\",\n",
            "            \"free\": \"874.00000000\",\n",
            "            \"locked\": \"0.00000000\"\n",
            "        },\n",
            "        {\n",
            "            \"asset\": \"YFI\",\n",
            "            \"free\": \"1.00000000\",\n",
            "            \"locked\": \"0.00000000\"\n",
            "        },\n",
            "        {\n",
            "            \"asset\": \"DAI\",\n",
            "            \"free\": \"10000.00000000\",\n",
            "            \"locked\": \"0.00000000\"\n",
            "        },\n",
            "        {\n",
            "            \"asset\": \"JST\",\n",
            "            \"free\": \"14648.00000000\",\n",
            "            \"locked\": \"0.00000000\"\n",
            "        },\n",
            "        {\n",
            "            \"asset\": \"CRV\",\n",
            "            \"free\": \"746.00000000\",\n",
            "            \"locked\": \"0.00000000\"\n",
            "        },\n",
            "        {\n",
            "            \"asset\": \"SAND\",\n",
            "            \"free\": \"1831.00000000\",\n",
            "            \"locked\": \"0.00000000\"\n",
            "        },\n",
            "        {\n",
            "            \"asset\": \"NMR\",\n",
            "            \"free\": \"59.00000000\",\n",
            "            \"locked\": \"0.00000000\"\n",
            "        },\n",
            "        {\n",
            "            \"asset\": \"DOT\",\n",
            "            \"free\": \"126.00000000\",\n",
            "            \"locked\": \"0.00000000\"\n",
            "        },\n",
            "        {\n",
            "            \"asset\": \"LUNA\",\n",
            "            \"free\": \"3012.00000000\",\n",
            "            \"locked\": \"0.00000000\"\n",
            "        },\n",
            "        {\n",
            "            \"asset\": \"RSR\",\n",
            "            \"free\": \"18446.00000000\",\n",
            "            \"locked\": \"0.00000000\"\n",
            "        },\n",
            "        {\n",
            "            \"asset\": \"PAXG\",\n",
            "            \"free\": \"1.00000000\",\n",
            "            \"locked\": \"0.00000000\"\n",
            "        },\n",
            "        {\n",
            "            \"asset\": \"TRB\",\n",
            "            \"free\": \"18.00000000\",\n",
            "            \"locked\": \"0.00000000\"\n",
            "        },\n",
            "        {\n",
            "            \"asset\": \"WBTC\",\n",
            "            \"free\": \"1.00000000\",\n",
            "            \"locked\": \"0.00000000\"\n",
            "        },\n",
            "        {\n",
            "            \"asset\": \"SUSHI\",\n",
            "            \"free\": \"829.00000000\",\n",
            "            \"locked\": \"0.00000000\"\n",
            "        },\n",
            "        {\n",
            "            \"asset\": \"KSM\",\n",
            "            \"free\": \"34.00000000\",\n",
            "            \"locked\": \"0.00000000\"\n",
            "        },\n",
            "        {\n",
            "            \"asset\": \"EGLD\",\n",
            "            \"free\": \"32.00000000\",\n",
            "            \"locked\": \"0.00000000\"\n",
            "        },\n",
            "        {\n",
            "            \"asset\": \"DIA\",\n",
            "            \"free\": \"1014.00000000\",\n",
            "            \"locked\": \"0.00000000\"\n",
            "        },\n",
            "        {\n",
            "            \"asset\": \"UMA\",\n",
            "            \"free\": \"447.00000000\",\n",
            "            \"locked\": \"0.00000000\"\n",
            "        },\n",
            "        {\n",
            "            \"asset\": \"BEL\",\n",
            "            \"free\": \"1550.00000000\",\n",
            "            \"locked\": \"0.00000000\"\n",
            "        },\n",
            "        {\n",
            "            \"asset\": \"UNI\",\n",
            "            \"free\": \"103.00000000\",\n",
            "            \"locked\": \"0.00000000\"\n",
            "        },\n",
            "        {\n",
            "            \"asset\": \"OXT\",\n",
            "            \"free\": \"7580.00000000\",\n",
            "            \"locked\": \"0.00000000\"\n",
            "        },\n",
            "        {\n",
            "            \"asset\": \"SUN\",\n",
            "            \"free\": \"18446.00000000\",\n",
            "            \"locked\": \"0.00000000\"\n",
            "        },\n",
            "        {\n",
            "            \"asset\": \"AVAX\",\n",
            "            \"free\": \"25.00000000\",\n",
            "            \"locked\": \"0.00000000\"\n",
            "        },\n",
            "        {\n",
            "            \"asset\": \"FLM\",\n",
            "            \"free\": \"16861.00000000\",\n",
            "            \"locked\": \"0.00000000\"\n",
            "        },\n",
            "        {\n",
            "            \"asset\": \"SCRT\",\n",
            "            \"free\": \"2436.00000000\",\n",
            "            \"locked\": \"0.00000000\"\n",
            "        },\n",
            "        {\n",
            "            \"asset\": \"CAKE\",\n",
            "            \"free\": \"244.00000000\",\n",
            "            \"locked\": \"0.00000000\"\n",
            "        },\n",
            "        {\n",
            "            \"asset\": \"UTK\",\n",
            "            \"free\": \"15000.00000000\",\n",
            "            \"locked\": \"0.00000000\"\n",
            "        },\n",
            "        {\n",
            "            \"asset\": \"XVS\",\n",
            "            \"free\": \"86.00000000\",\n",
            "            \"locked\": \"0.00000000\"\n",
            "        },\n",
            "        {\n",
            "            \"asset\": \"ALPHA\",\n",
            "            \"free\": \"18031.00000000\",\n",
            "            \"locked\": \"0.00000000\"\n",
            "        },\n",
            "        {\n",
            "            \"asset\": \"BRL\",\n",
            "            \"free\": \"97.00000000\",\n",
            "            \"locked\": \"0.00000000\"\n",
            "        },\n",
            "        {\n",
            "            \"asset\": \"AAVE\",\n",
            "            \"free\": \"2.00000000\",\n",
            "            \"locked\": \"0.00000000\"\n",
            "        },\n",
            "        {\n",
            "            \"asset\": \"NEAR\",\n",
            "            \"free\": \"215.00000000\",\n",
            "            \"locked\": \"0.00000000\"\n",
            "        },\n",
            "        {\n",
            "            \"asset\": \"FIL\",\n",
            "            \"free\": \"193.00000000\",\n",
            "            \"locked\": \"0.00000000\"\n",
            "        },\n",
            "        {\n",
            "            \"asset\": \"INJ\",\n",
            "            \"free\": \"52.00000000\",\n",
            "            \"locked\": \"0.00000000\"\n",
            "        },\n",
            "        {\n",
            "            \"asset\": \"AUDIO\",\n",
            "            \"free\": \"7080.00000000\",\n",
            "            \"locked\": \"0.00000000\"\n",
            "        },\n",
            "        {\n",
            "            \"asset\": \"CTK\",\n",
            "            \"free\": \"1403.00000000\",\n",
            "            \"locked\": \"0.00000000\"\n",
            "        },\n",
            "        {\n",
            "            \"asset\": \"AXS\",\n",
            "            \"free\": \"212.00000000\",\n",
            "            \"locked\": \"0.00000000\"\n",
            "        },\n",
            "        {\n",
            "            \"asset\": \"SLP\",\n",
            "            \"free\": \"18446.00000000\",\n",
            "            \"locked\": \"0.00000000\"\n",
            "        },\n",
            "        {\n",
            "            \"asset\": \"STRAX\",\n",
            "            \"free\": \"9739.00000000\",\n",
            "            \"locked\": \"0.00000000\"\n",
            "        },\n",
            "        {\n",
            "            \"asset\": \"ROSE\",\n",
            "            \"free\": \"18162.00000000\",\n",
            "            \"locked\": \"0.00000000\"\n",
            "        },\n",
            "        {\n",
            "            \"asset\": \"SKL\",\n",
            "            \"free\": \"18446.00000000\",\n",
            "            \"locked\": \"0.00000000\"\n",
            "        },\n",
            "        {\n",
            "            \"asset\": \"GLM\",\n",
            "            \"free\": \"1974.00000000\",\n",
            "            \"locked\": \"0.00000000\"\n",
            "        },\n",
            "        {\n",
            "            \"asset\": \"GRT\",\n",
            "            \"free\": \"5465.00000000\",\n",
            "            \"locked\": \"0.00000000\"\n",
            "        },\n",
            "        {\n",
            "            \"asset\": \"JUV\",\n",
            "            \"free\": \"436.00000000\",\n",
            "            \"locked\": \"0.00000000\"\n",
            "        },\n",
            "        {\n",
            "            \"asset\": \"PSG\",\n",
            "            \"free\": \"185.00000000\",\n",
            "            \"locked\": \"0.00000000\"\n",
            "        },\n",
            "        {\n",
            "            \"asset\": \"1INCH\",\n",
            "            \"free\": \"2617.00000000\",\n",
            "            \"locked\": \"0.00000000\"\n",
            "        },\n",
            "        {\n",
            "            \"asset\": \"OG\",\n",
            "            \"free\": \"118.00000000\",\n",
            "            \"locked\": \"0.00000000\"\n",
            "        },\n",
            "        {\n",
            "            \"asset\": \"ATM\",\n",
            "            \"free\": \"429.00000000\",\n",
            "            \"locked\": \"0.00000000\"\n",
            "        },\n",
            "        {\n",
            "            \"asset\": \"ASR\",\n",
            "            \"free\": \"310.00000000\",\n",
            "            \"locked\": \"0.00000000\"\n",
            "        },\n",
            "        {\n",
            "            \"asset\": \"CELO\",\n",
            "            \"free\": \"1533.00000000\",\n",
            "            \"locked\": \"0.00000000\"\n",
            "        },\n",
            "        {\n",
            "            \"asset\": \"RIF\",\n",
            "            \"free\": \"11176.00000000\",\n",
            "            \"locked\": \"0.00000000\"\n",
            "        },\n",
            "        {\n",
            "            \"asset\": \"TRU\",\n",
            "            \"free\": \"13439.00000000\",\n",
            "            \"locked\": \"0.00000000\"\n",
            "        },\n",
            "        {\n",
            "            \"asset\": \"CKB\",\n",
            "            \"free\": \"18446.00000000\",\n",
            "            \"locked\": \"0.00000000\"\n",
            "        },\n",
            "        {\n",
            "            \"asset\": \"TWT\",\n",
            "            \"free\": \"648.00000000\",\n",
            "            \"locked\": \"0.00000000\"\n",
            "        },\n",
            "        {\n",
            "            \"asset\": \"SFP\",\n",
            "            \"free\": \"958.00000000\",\n",
            "            \"locked\": \"0.00000000\"\n",
            "        },\n",
            "        {\n",
            "            \"asset\": \"DODO\",\n",
            "            \"free\": \"11019.00000000\",\n",
            "            \"locked\": \"0.00000000\"\n",
            "        },\n",
            "        {\n",
            "            \"asset\": \"ACM\",\n",
            "            \"free\": \"568.00000000\",\n",
            "            \"locked\": \"0.00000000\"\n",
            "        },\n",
            "        {\n",
            "            \"asset\": \"AUCTION\",\n",
            "            \"free\": \"44.00000000\",\n",
            "            \"locked\": \"0.00000000\"\n",
            "        },\n",
            "        {\n",
            "            \"asset\": \"PHA\",\n",
            "            \"free\": \"4341.00000000\",\n",
            "            \"locked\": \"0.00000000\"\n",
            "        },\n",
            "        {\n",
            "            \"asset\": \"FIS\",\n",
            "            \"free\": \"2687.00000000\",\n",
            "            \"locked\": \"0.00000000\"\n",
            "        },\n",
            "        {\n",
            "            \"asset\": \"OM\",\n",
            "            \"free\": \"1288.00000000\",\n",
            "            \"locked\": \"0.00000000\"\n",
            "        },\n",
            "        {\n",
            "            \"asset\": \"POND\",\n",
            "            \"free\": \"18446.00000000\",\n",
            "            \"locked\": \"0.00000000\"\n",
            "        },\n",
            "        {\n",
            "            \"asset\": \"DEGO\",\n",
            "            \"free\": \"299.00000000\",\n",
            "            \"locked\": \"0.00000000\"\n",
            "        },\n",
            "        {\n",
            "            \"asset\": \"ALICE\",\n",
            "            \"free\": \"1246.00000000\",\n",
            "            \"locked\": \"0.00000000\"\n",
            "        },\n",
            "        {\n",
            "            \"asset\": \"PERP\",\n",
            "            \"free\": \"1665.00000000\",\n",
            "            \"locked\": \"0.00000000\"\n",
            "        },\n",
            "        {\n",
            "            \"asset\": \"SUPER\",\n",
            "            \"free\": \"756.00000000\",\n",
            "            \"locked\": \"0.00000000\"\n",
            "        },\n",
            "        {\n",
            "            \"asset\": \"CFX\",\n",
            "            \"free\": \"6873.00000000\",\n",
            "            \"locked\": \"0.00000000\"\n",
            "        },\n",
            "        {\n",
            "            \"asset\": \"TKO\",\n",
            "            \"free\": \"3152.00000000\",\n",
            "            \"locked\": \"0.00000000\"\n",
            "        },\n",
            "        {\n",
            "            \"asset\": \"PUNDIX\",\n",
            "            \"free\": \"1205.00000000\",\n",
            "            \"locked\": \"0.00000000\"\n",
            "        },\n",
            "        {\n",
            "            \"asset\": \"TLM\",\n",
            "            \"free\": \"18446.00000000\",\n",
            "            \"locked\": \"0.00000000\"\n",
            "        },\n",
            "        {\n",
            "            \"asset\": \"BAR\",\n",
            "            \"free\": \"250.00000000\",\n",
            "            \"locked\": \"0.00000000\"\n",
            "        },\n",
            "        {\n",
            "            \"asset\": \"FORTH\",\n",
            "            \"free\": \"190.00000000\",\n",
            "            \"locked\": \"0.00000000\"\n",
            "        },\n",
            "        {\n",
            "            \"asset\": \"BAKE\",\n",
            "            \"free\": \"4280.00000000\",\n",
            "            \"locked\": \"0.00000000\"\n",
            "        },\n",
            "        {\n",
            "            \"asset\": \"SHIB\",\n",
            "            \"free\": \"18446.00\",\n",
            "            \"locked\": \"0.00\"\n",
            "        },\n",
            "        {\n",
            "            \"asset\": \"ICP\",\n",
            "            \"free\": \"108.00000000\",\n",
            "            \"locked\": \"0.00000000\"\n",
            "        },\n",
            "        {\n",
            "            \"asset\": \"AR\",\n",
            "            \"free\": \"73.00000000\",\n",
            "            \"locked\": \"0.00000000\"\n",
            "        },\n",
            "        {\n",
            "            \"asset\": \"MASK\",\n",
            "            \"free\": \"452.00000000\",\n",
            "            \"locked\": \"0.00000000\"\n",
            "        },\n",
            "        {\n",
            "            \"asset\": \"LPT\",\n",
            "            \"free\": \"108.00000000\",\n",
            "            \"locked\": \"0.00000000\"\n",
            "        },\n",
            "        {\n",
            "            \"asset\": \"ATA\",\n",
            "            \"free\": \"9453.00000000\",\n",
            "            \"locked\": \"0.00000000\"\n",
            "        },\n",
            "        {\n",
            "            \"asset\": \"GTC\",\n",
            "            \"free\": \"1811.00000000\",\n",
            "            \"locked\": \"0.00000000\"\n",
            "        },\n",
            "        {\n",
            "            \"asset\": \"MLN\",\n",
            "            \"free\": \"60.00000000\",\n",
            "            \"locked\": \"0.00000000\"\n",
            "        },\n",
            "        {\n",
            "            \"asset\": \"DEXE\",\n",
            "            \"free\": \"33.00000000\",\n",
            "            \"locked\": \"0.00000000\"\n",
            "        },\n",
            "        {\n",
            "            \"asset\": \"C98\",\n",
            "            \"free\": \"9069.00000000\",\n",
            "            \"locked\": \"0.00000000\"\n",
            "        },\n",
            "        {\n",
            "            \"asset\": \"QNT\",\n",
            "            \"free\": \"5.00000000\",\n",
            "            \"locked\": \"0.00000000\"\n",
            "        },\n",
            "        {\n",
            "            \"asset\": \"FLOW\",\n",
            "            \"free\": \"1344.00000000\",\n",
            "            \"locked\": \"0.00000000\"\n",
            "        },\n",
            "        {\n",
            "            \"asset\": \"MINA\",\n",
            "            \"free\": \"2255.00000000\",\n",
            "            \"locked\": \"0.00000000\"\n",
            "        },\n",
            "        {\n",
            "            \"asset\": \"RAY\",\n",
            "            \"free\": \"206.00000000\",\n",
            "            \"locked\": \"0.00000000\"\n",
            "        },\n",
            "        {\n",
            "            \"asset\": \"FARM\",\n",
            "            \"free\": \"16.00000000\",\n",
            "            \"locked\": \"0.00000000\"\n",
            "        },\n",
            "        {\n",
            "            \"asset\": \"QUICK\",\n",
            "            \"free\": \"18446.00000000\",\n",
            "            \"locked\": \"0.00000000\"\n",
            "        },\n",
            "        {\n",
            "            \"asset\": \"MBOX\",\n",
            "            \"free\": \"9577.00000000\",\n",
            "            \"locked\": \"0.00000000\"\n",
            "        },\n",
            "        {\n",
            "            \"asset\": \"GHST\",\n",
            "            \"free\": \"1136.00000000\",\n",
            "            \"locked\": \"0.00000000\"\n",
            "        },\n",
            "        {\n",
            "            \"asset\": \"WAXP\",\n",
            "            \"free\": \"18446.00000000\",\n",
            "            \"locked\": \"0.00000000\"\n",
            "        },\n",
            "        {\n",
            "            \"asset\": \"GNO\",\n",
            "            \"free\": \"4.00000000\",\n",
            "            \"locked\": \"0.00000000\"\n",
            "        },\n",
            "        {\n",
            "            \"asset\": \"XEC\",\n",
            "            \"free\": \"18446.00\",\n",
            "            \"locked\": \"0.00\"\n",
            "        },\n",
            "        {\n",
            "            \"asset\": \"DYDX\",\n",
            "            \"free\": \"892.00000000\",\n",
            "            \"locked\": \"0.00000000\"\n",
            "        },\n",
            "        {\n",
            "            \"asset\": \"IDEX\",\n",
            "            \"free\": \"18446.00000000\",\n",
            "            \"locked\": \"0.00000000\"\n",
            "        },\n",
            "        {\n",
            "            \"asset\": \"USDP\",\n",
            "            \"free\": \"500.00000000\",\n",
            "            \"locked\": \"0.00000000\"\n",
            "        },\n",
            "        {\n",
            "            \"asset\": \"GALA\",\n",
            "            \"free\": \"18446.00000000\",\n",
            "            \"locked\": \"0.00000000\"\n",
            "        },\n",
            "        {\n",
            "            \"asset\": \"ILV\",\n",
            "            \"free\": \"36.00000000\",\n",
            "            \"locked\": \"0.00000000\"\n",
            "        },\n",
            "        {\n",
            "            \"asset\": \"YGG\",\n",
            "            \"free\": \"2737.00000000\",\n",
            "            \"locked\": \"0.00000000\"\n",
            "        },\n",
            "        {\n",
            "            \"asset\": \"DF\",\n",
            "            \"free\": \"9805.00000000\",\n",
            "            \"locked\": \"0.00000000\"\n",
            "        },\n",
            "        {\n",
            "            \"asset\": \"FIDA\",\n",
            "            \"free\": \"7978.00000000\",\n",
            "            \"locked\": \"0.00000000\"\n",
            "        },\n",
            "        {\n",
            "            \"asset\": \"AGLD\",\n",
            "            \"free\": \"548.00000000\",\n",
            "            \"locked\": \"0.00000000\"\n",
            "        },\n",
            "        {\n",
            "            \"asset\": \"RAD\",\n",
            "            \"free\": \"651.00000000\",\n",
            "            \"locked\": \"0.00000000\"\n",
            "        },\n",
            "        {\n",
            "            \"asset\": \"RARE\",\n",
            "            \"free\": \"8457.00000000\",\n",
            "            \"locked\": \"0.00000000\"\n",
            "        },\n",
            "        {\n",
            "            \"asset\": \"SSV\",\n",
            "            \"free\": \"78.00000000\",\n",
            "            \"locked\": \"0.00000000\"\n",
            "        },\n",
            "        {\n",
            "            \"asset\": \"LAZIO\",\n",
            "            \"free\": \"510.00000000\",\n",
            "            \"locked\": \"0.00000000\"\n",
            "        },\n",
            "        {\n",
            "            \"asset\": \"CHESS\",\n",
            "            \"free\": \"8068.00000000\",\n",
            "            \"locked\": \"0.00000000\"\n",
            "        },\n",
            "        {\n",
            "            \"asset\": \"MOVR\",\n",
            "            \"free\": \"80.00000000\",\n",
            "            \"locked\": \"0.00000000\"\n",
            "        },\n",
            "        {\n",
            "            \"asset\": \"CITY\",\n",
            "            \"free\": \"453.00000000\",\n",
            "            \"locked\": \"0.00000000\"\n",
            "        },\n",
            "        {\n",
            "            \"asset\": \"ENS\",\n",
            "            \"free\": \"28.00000000\",\n",
            "            \"locked\": \"0.00000000\"\n",
            "        },\n",
            "        {\n",
            "            \"asset\": \"QI\",\n",
            "            \"free\": \"18446.00000000\",\n",
            "            \"locked\": \"0.00000000\"\n",
            "        },\n",
            "        {\n",
            "            \"asset\": \"PORTO\",\n",
            "            \"free\": \"498.00000000\",\n",
            "            \"locked\": \"0.00000000\"\n",
            "        },\n",
            "        {\n",
            "            \"asset\": \"JASMY\",\n",
            "            \"free\": \"18446.00000000\",\n",
            "            \"locked\": \"0.00000000\"\n",
            "        },\n",
            "        {\n",
            "            \"asset\": \"AMP\",\n",
            "            \"free\": \"18446.00000000\",\n",
            "            \"locked\": \"0.00000000\"\n",
            "        },\n",
            "        {\n",
            "            \"asset\": \"PYR\",\n",
            "            \"free\": \"452.00000000\",\n",
            "            \"locked\": \"0.00000000\"\n",
            "        },\n",
            "        {\n",
            "            \"asset\": \"ALCX\",\n",
            "            \"free\": \"58.00000000\",\n",
            "            \"locked\": \"0.00000000\"\n",
            "        },\n",
            "        {\n",
            "            \"asset\": \"SANTOS\",\n",
            "            \"free\": \"212.00000000\",\n",
            "            \"locked\": \"0.00000000\"\n",
            "        },\n",
            "        {\n",
            "            \"asset\": \"BICO\",\n",
            "            \"free\": \"4246.00000000\",\n",
            "            \"locked\": \"0.00000000\"\n",
            "        },\n",
            "        {\n",
            "            \"asset\": \"FLUX\",\n",
            "            \"free\": \"1876.00000000\",\n",
            "            \"locked\": \"0.00000000\"\n",
            "        },\n",
            "        {\n",
            "            \"asset\": \"FXS\",\n",
            "            \"free\": \"250.00000000\",\n",
            "            \"locked\": \"0.00000000\"\n",
            "        },\n",
            "        {\n",
            "            \"asset\": \"VOXEL\",\n",
            "            \"free\": \"5560.00000000\",\n",
            "            \"locked\": \"0.00000000\"\n",
            "        },\n",
            "        {\n",
            "            \"asset\": \"HIGH\",\n",
            "            \"free\": \"778.00000000\",\n",
            "            \"locked\": \"0.00000000\"\n",
            "        },\n",
            "        {\n",
            "            \"asset\": \"CVX\",\n",
            "            \"free\": \"159.00000000\",\n",
            "            \"locked\": \"0.00000000\"\n",
            "        },\n",
            "        {\n",
            "            \"asset\": \"PEOPLE\",\n",
            "            \"free\": \"18446.00000000\",\n",
            "            \"locked\": \"0.00000000\"\n",
            "        },\n",
            "        {\n",
            "            \"asset\": \"SPELL\",\n",
            "            \"free\": \"18446.00000000\",\n",
            "            \"locked\": \"0.00000000\"\n",
            "        },\n",
            "        {\n",
            "            \"asset\": \"JOE\",\n",
            "            \"free\": \"2868.00000000\",\n",
            "            \"locked\": \"0.00000000\"\n",
            "        },\n",
            "        {\n",
            "            \"asset\": \"ACH\",\n",
            "            \"free\": \"18446.00000000\",\n",
            "            \"locked\": \"0.00000000\"\n",
            "        },\n",
            "        {\n",
            "            \"asset\": \"IMX\",\n",
            "            \"free\": \"932.00000000\",\n",
            "            \"locked\": \"0.00000000\"\n",
            "        },\n",
            "        {\n",
            "            \"asset\": \"GLMR\",\n",
            "            \"free\": \"6711.00000000\",\n",
            "            \"locked\": \"0.00000000\"\n",
            "        },\n",
            "        {\n",
            "            \"asset\": \"LOKA\",\n",
            "            \"free\": \"6533.00000000\",\n",
            "            \"locked\": \"0.00000000\"\n",
            "        },\n",
            "        {\n",
            "            \"asset\": \"API3\",\n",
            "            \"free\": \"683.00000000\",\n",
            "            \"locked\": \"0.00000000\"\n",
            "        },\n",
            "        {\n",
            "            \"asset\": \"BTTC\",\n",
            "            \"free\": \"18446.0\",\n",
            "            \"locked\": \"0.0\"\n",
            "        },\n",
            "        {\n",
            "            \"asset\": \"ACA\",\n",
            "            \"free\": \"16860.00000000\",\n",
            "            \"locked\": \"0.00000000\"\n",
            "        },\n",
            "        {\n",
            "            \"asset\": \"XNO\",\n",
            "            \"free\": \"569.00000000\",\n",
            "            \"locked\": \"0.00000000\"\n",
            "        },\n",
            "        {\n",
            "            \"asset\": \"WOO\",\n",
            "            \"free\": \"7528.00000000\",\n",
            "            \"locked\": \"0.00000000\"\n",
            "        },\n",
            "        {\n",
            "            \"asset\": \"ALPINE\",\n",
            "            \"free\": \"530.00000000\",\n",
            "            \"locked\": \"0.00000000\"\n",
            "        },\n",
            "        {\n",
            "            \"asset\": \"T\",\n",
            "            \"free\": \"18446.00000000\",\n",
            "            \"locked\": \"0.00000000\"\n",
            "        },\n",
            "        {\n",
            "            \"asset\": \"ASTR\",\n",
            "            \"free\": \"18446.00000000\",\n",
            "            \"locked\": \"0.00000000\"\n",
            "        },\n",
            "        {\n",
            "            \"asset\": \"GMT\",\n",
            "            \"free\": \"9708.00000000\",\n",
            "            \"locked\": \"0.00000000\"\n",
            "        },\n",
            "        {\n",
            "            \"asset\": \"KDA\",\n",
            "            \"free\": \"851.00000000\",\n",
            "            \"locked\": \"0.00000000\"\n",
            "        },\n",
            "        {\n",
            "            \"asset\": \"APE\",\n",
            "            \"free\": \"1024.00000000\",\n",
            "            \"locked\": \"0.00000000\"\n",
            "        },\n",
            "        {\n",
            "            \"asset\": \"BSW\",\n",
            "            \"free\": \"12416.00000000\",\n",
            "            \"locked\": \"0.00000000\"\n",
            "        },\n",
            "        {\n",
            "            \"asset\": \"BIFI\",\n",
            "            \"free\": \"2.00000000\",\n",
            "            \"locked\": \"0.00000000\"\n",
            "        },\n",
            "        {\n",
            "            \"asset\": \"NEXO\",\n",
            "            \"free\": \"399.00000000\",\n",
            "            \"locked\": \"0.00000000\"\n",
            "        },\n",
            "        {\n",
            "            \"asset\": \"REI\",\n",
            "            \"free\": \"18446.00000000\",\n",
            "            \"locked\": \"0.00000000\"\n",
            "        },\n",
            "        {\n",
            "            \"asset\": \"LDO\",\n",
            "            \"free\": \"634.00000000\",\n",
            "            \"locked\": \"0.00000000\"\n",
            "        },\n",
            "        {\n",
            "            \"asset\": \"OP\",\n",
            "            \"free\": \"834.00000000\",\n",
            "            \"locked\": \"0.00000000\"\n",
            "        },\n",
            "        {\n",
            "            \"asset\": \"LEVER\",\n",
            "            \"free\": \"18446.00000000\",\n",
            "            \"locked\": \"0.00000000\"\n",
            "        },\n",
            "        {\n",
            "            \"asset\": \"STG\",\n",
            "            \"free\": \"2552.00000000\",\n",
            "            \"locked\": \"0.00000000\"\n",
            "        },\n",
            "        {\n",
            "            \"asset\": \"LUNC\",\n",
            "            \"free\": \"18446.00000000\",\n",
            "            \"locked\": \"0.00000000\"\n",
            "        },\n",
            "        {\n",
            "            \"asset\": \"GMX\",\n",
            "            \"free\": \"37.00000000\",\n",
            "            \"locked\": \"0.00000000\"\n",
            "        },\n",
            "        {\n",
            "            \"asset\": \"POLYX\",\n",
            "            \"free\": \"3550.00000000\",\n",
            "            \"locked\": \"0.00000000\"\n",
            "        },\n",
            "        {\n",
            "            \"asset\": \"APT\",\n",
            "            \"free\": \"105.00000000\",\n",
            "            \"locked\": \"0.00000000\"\n",
            "        },\n",
            "        {\n",
            "            \"asset\": \"PLN\",\n",
            "            \"free\": \"18466.00000000\",\n",
            "            \"locked\": \"0.00000000\"\n",
            "        },\n",
            "        {\n",
            "            \"asset\": \"OSMO\",\n",
            "            \"free\": \"2301.00000000\",\n",
            "            \"locked\": \"0.00000000\"\n",
            "        },\n",
            "        {\n",
            "            \"asset\": \"HFT\",\n",
            "            \"free\": \"8182.00000000\",\n",
            "            \"locked\": \"0.00000000\"\n",
            "        },\n",
            "        {\n",
            "            \"asset\": \"HOOK\",\n",
            "            \"free\": \"3983.00000000\",\n",
            "            \"locked\": \"0.00000000\"\n",
            "        },\n",
            "        {\n",
            "            \"asset\": \"MAGIC\",\n",
            "            \"free\": \"3174.00000000\",\n",
            "            \"locked\": \"0.00000000\"\n",
            "        },\n",
            "        {\n",
            "            \"asset\": \"HIFI\",\n",
            "            \"free\": \"1993.00000000\",\n",
            "            \"locked\": \"0.00000000\"\n",
            "        },\n",
            "        {\n",
            "            \"asset\": \"RPL\",\n",
            "            \"free\": \"124.00000000\",\n",
            "            \"locked\": \"0.00000000\"\n",
            "        },\n",
            "        {\n",
            "            \"asset\": \"RON\",\n",
            "            \"free\": \"18466.00000000\",\n",
            "            \"locked\": \"0.00000000\"\n",
            "        },\n",
            "        {\n",
            "            \"asset\": \"GNS\",\n",
            "            \"free\": \"369.00000000\",\n",
            "            \"locked\": \"0.00000000\"\n",
            "        },\n",
            "        {\n",
            "            \"asset\": \"SYN\",\n",
            "            \"free\": \"2120.00000000\",\n",
            "            \"locked\": \"0.00000000\"\n",
            "        },\n",
            "        {\n",
            "            \"asset\": \"LQTY\",\n",
            "            \"free\": \"794.00000000\",\n",
            "            \"locked\": \"0.00000000\"\n",
            "        },\n",
            "        {\n",
            "            \"asset\": \"USTC\",\n",
            "            \"free\": \"18446.00000000\",\n",
            "            \"locked\": \"0.00000000\"\n",
            "        },\n",
            "        {\n",
            "            \"asset\": \"PROM\",\n",
            "            \"free\": \"90.00000000\",\n",
            "            \"locked\": \"0.00000000\"\n",
            "        },\n",
            "        {\n",
            "            \"asset\": \"QKC\",\n",
            "            \"free\": \"18446.00000000\",\n",
            "            \"locked\": \"0.00000000\"\n",
            "        },\n",
            "        {\n",
            "            \"asset\": \"ID\",\n",
            "            \"free\": \"2630.00000000\",\n",
            "            \"locked\": \"0.00000000\"\n",
            "        },\n",
            "        {\n",
            "            \"asset\": \"ARB\",\n",
            "            \"free\": \"1630.00000000\",\n",
            "            \"locked\": \"0.00000000\"\n",
            "        },\n",
            "        {\n",
            "            \"asset\": \"RDNT\",\n",
            "            \"free\": \"18446.00000000\",\n",
            "            \"locked\": \"0.00000000\"\n",
            "        },\n",
            "        {\n",
            "            \"asset\": \"ARS\",\n",
            "            \"free\": \"18466.00000000\",\n",
            "            \"locked\": \"0.00000000\"\n",
            "        },\n",
            "        {\n",
            "            \"asset\": \"EDU\",\n",
            "            \"free\": \"3649.00000000\",\n",
            "            \"locked\": \"0.00000000\"\n",
            "        },\n",
            "        {\n",
            "            \"asset\": \"SUI\",\n",
            "            \"free\": \"147.00000000\",\n",
            "            \"locked\": \"0.00000000\"\n",
            "        },\n",
            "        {\n",
            "            \"asset\": \"PEPE\",\n",
            "            \"free\": \"18446.00\",\n",
            "            \"locked\": \"0.00\"\n",
            "        },\n",
            "        {\n",
            "            \"asset\": \"FLOKI\",\n",
            "            \"free\": \"18446.00\",\n",
            "            \"locked\": \"0.00\"\n",
            "        },\n",
            "        {\n",
            "            \"asset\": \"WBETH\",\n",
            "            \"free\": \"1.00000000\",\n",
            "            \"locked\": \"0.00000000\"\n",
            "        },\n",
            "        {\n",
            "            \"asset\": \"MAV\",\n",
            "            \"free\": \"9163.00000000\",\n",
            "            \"locked\": \"0.00000000\"\n",
            "        },\n",
            "        {\n",
            "            \"asset\": \"PENDLE\",\n",
            "            \"free\": \"156.00000000\",\n",
            "            \"locked\": \"0.00000000\"\n",
            "        },\n",
            "        {\n",
            "            \"asset\": \"ARKM\",\n",
            "            \"free\": \"984.00000000\",\n",
            "            \"locked\": \"0.00000000\"\n",
            "        },\n",
            "        {\n",
            "            \"asset\": \"WLD\",\n",
            "            \"free\": \"534.00000000\",\n",
            "            \"locked\": \"0.00000000\"\n",
            "        },\n",
            "        {\n",
            "            \"asset\": \"FDUSD\",\n",
            "            \"free\": \"10000.00000000\",\n",
            "            \"locked\": \"0.00000000\"\n",
            "        },\n",
            "        {\n",
            "            \"asset\": \"SEI\",\n",
            "            \"free\": \"2503.00000000\",\n",
            "            \"locked\": \"0.00000000\"\n",
            "        },\n",
            "        {\n",
            "            \"asset\": \"CYBER\",\n",
            "            \"free\": \"375.00000000\",\n",
            "            \"locked\": \"0.00000000\"\n",
            "        },\n",
            "        {\n",
            "            \"asset\": \"ARK\",\n",
            "            \"free\": \"1247.00000000\",\n",
            "            \"locked\": \"0.00000000\"\n",
            "        },\n",
            "        {\n",
            "            \"asset\": \"IQ\",\n",
            "            \"free\": \"18446.00000000\",\n",
            "            \"locked\": \"0.00000000\"\n",
            "        },\n",
            "        {\n",
            "            \"asset\": \"NTRN\",\n",
            "            \"free\": \"4030.00000000\",\n",
            "            \"locked\": \"0.00000000\"\n",
            "        },\n",
            "        {\n",
            "            \"asset\": \"TIA\",\n",
            "            \"free\": \"207.00000000\",\n",
            "            \"locked\": \"0.00000000\"\n",
            "        },\n",
            "        {\n",
            "            \"asset\": \"MEME\",\n",
            "            \"free\": \"18446.00000000\",\n",
            "            \"locked\": \"0.00000000\"\n",
            "        },\n",
            "        {\n",
            "            \"asset\": \"ORDI\",\n",
            "            \"free\": \"70.00000000\",\n",
            "            \"locked\": \"0.00000000\"\n",
            "        },\n",
            "        {\n",
            "            \"asset\": \"BEAMX\",\n",
            "            \"free\": \"18446.00000000\",\n",
            "            \"locked\": \"0.00000000\"\n",
            "        },\n",
            "        {\n",
            "            \"asset\": \"VIC\",\n",
            "            \"free\": \"2390.00000000\",\n",
            "            \"locked\": \"0.00000000\"\n",
            "        },\n",
            "        {\n",
            "            \"asset\": \"BLUR\",\n",
            "            \"free\": \"5207.00000000\",\n",
            "            \"locked\": \"0.00000000\"\n",
            "        },\n",
            "        {\n",
            "            \"asset\": \"VANRY\",\n",
            "            \"free\": \"17111.00000000\",\n",
            "            \"locked\": \"0.00000000\"\n",
            "        },\n",
            "        {\n",
            "            \"asset\": \"AEUR\",\n",
            "            \"free\": \"482.00000000\",\n",
            "            \"locked\": \"0.00000000\"\n",
            "        },\n",
            "        {\n",
            "            \"asset\": \"JTO\",\n",
            "            \"free\": \"312.00000000\",\n",
            "            \"locked\": \"0.00000000\"\n",
            "        },\n",
            "        {\n",
            "            \"asset\": \"1000SATS\",\n",
            "            \"free\": \"18446.00\",\n",
            "            \"locked\": \"0.00\"\n",
            "        },\n",
            "        {\n",
            "            \"asset\": \"BONK\",\n",
            "            \"free\": \"18446.00\",\n",
            "            \"locked\": \"0.00\"\n",
            "        },\n",
            "        {\n",
            "            \"asset\": \"ACE\",\n",
            "            \"free\": \"932.00000000\",\n",
            "            \"locked\": \"0.00000000\"\n",
            "        },\n",
            "        {\n",
            "            \"asset\": \"NFP\",\n",
            "            \"free\": \"7163.00000000\",\n",
            "            \"locked\": \"0.00000000\"\n",
            "        },\n",
            "        {\n",
            "            \"asset\": \"AI\",\n",
            "            \"free\": \"3379.00000000\",\n",
            "            \"locked\": \"0.00000000\"\n",
            "        },\n",
            "        {\n",
            "            \"asset\": \"XAI\",\n",
            "            \"free\": \"9706.00000000\",\n",
            "            \"locked\": \"0.00000000\"\n",
            "        },\n",
            "        {\n",
            "            \"asset\": \"MANTA\",\n",
            "            \"free\": \"2392.00000000\",\n",
            "            \"locked\": \"0.00000000\"\n",
            "        },\n",
            "        {\n",
            "            \"asset\": \"ALT\",\n",
            "            \"free\": \"18446.00000000\",\n",
            "            \"locked\": \"0.00000000\"\n",
            "        },\n",
            "        {\n",
            "            \"asset\": \"JUP\",\n",
            "            \"free\": \"1182.00000000\",\n",
            "            \"locked\": \"0.00000000\"\n",
            "        },\n",
            "        {\n",
            "            \"asset\": \"PYTH\",\n",
            "            \"free\": \"3718.00000000\",\n",
            "            \"locked\": \"0.00000000\"\n",
            "        },\n",
            "        {\n",
            "            \"asset\": \"RONIN\",\n",
            "            \"free\": \"1010.00000000\",\n",
            "            \"locked\": \"0.00000000\"\n",
            "        },\n",
            "        {\n",
            "            \"asset\": \"DYM\",\n",
            "            \"free\": \"1771.00000000\",\n",
            "            \"locked\": \"0.00000000\"\n",
            "        },\n",
            "        {\n",
            "            \"asset\": \"PIXEL\",\n",
            "            \"free\": \"14445.00000000\",\n",
            "            \"locked\": \"0.00000000\"\n",
            "        },\n",
            "        {\n",
            "            \"asset\": \"STRK\",\n",
            "            \"free\": \"3804.00000000\",\n",
            "            \"locked\": \"0.00000000\"\n",
            "        },\n",
            "        {\n",
            "            \"asset\": \"PORTAL\",\n",
            "            \"free\": \"8051.00000000\",\n",
            "            \"locked\": \"0.00000000\"\n",
            "        },\n",
            "        {\n",
            "            \"asset\": \"AXL\",\n",
            "            \"free\": \"1343.00000000\",\n",
            "            \"locked\": \"0.00000000\"\n",
            "        },\n",
            "        {\n",
            "            \"asset\": \"WIF\",\n",
            "            \"free\": \"880.00000000\",\n",
            "            \"locked\": \"0.00000000\"\n",
            "        },\n",
            "        {\n",
            "            \"asset\": \"METIS\",\n",
            "            \"free\": \"33.00000000\",\n",
            "            \"locked\": \"0.00000000\"\n",
            "        },\n",
            "        {\n",
            "            \"asset\": \"JPY\",\n",
            "            \"free\": \"18466.00000000\",\n",
            "            \"locked\": \"0.00000000\"\n",
            "        },\n",
            "        {\n",
            "            \"asset\": \"AEVO\",\n",
            "            \"free\": \"4937.00000000\",\n",
            "            \"locked\": \"0.00000000\"\n",
            "        },\n",
            "        {\n",
            "            \"asset\": \"BOME\",\n",
            "            \"free\": \"18446.00\",\n",
            "            \"locked\": \"0.00\"\n",
            "        },\n",
            "        {\n",
            "            \"asset\": \"ETHFI\",\n",
            "            \"free\": \"963.00000000\",\n",
            "            \"locked\": \"0.00000000\"\n",
            "        },\n",
            "        {\n",
            "            \"asset\": \"ENA\",\n",
            "            \"free\": \"1860.00000000\",\n",
            "            \"locked\": \"0.00000000\"\n",
            "        },\n",
            "        {\n",
            "            \"asset\": \"W\",\n",
            "            \"free\": \"6385.00000000\",\n",
            "            \"locked\": \"0.00000000\"\n",
            "        },\n",
            "        {\n",
            "            \"asset\": \"TNSR\",\n",
            "            \"free\": \"3687.00000000\",\n",
            "            \"locked\": \"0.00000000\"\n",
            "        },\n",
            "        {\n",
            "            \"asset\": \"SAGA\",\n",
            "            \"free\": \"1834.00000000\",\n",
            "            \"locked\": \"0.00000000\"\n",
            "        },\n",
            "        {\n",
            "            \"asset\": \"MXN\",\n",
            "            \"free\": \"18466.00000000\",\n",
            "            \"locked\": \"0.00000000\"\n",
            "        },\n",
            "        {\n",
            "            \"asset\": \"TAO\",\n",
            "            \"free\": \"1.00000000\",\n",
            "            \"locked\": \"0.00000000\"\n",
            "        },\n",
            "        {\n",
            "            \"asset\": \"OMNI\",\n",
            "            \"free\": \"234.00000000\",\n",
            "            \"locked\": \"0.00000000\"\n",
            "        },\n",
            "        {\n",
            "            \"asset\": \"REZ\",\n",
            "            \"free\": \"18446.00000000\",\n",
            "            \"locked\": \"0.00000000\"\n",
            "        },\n",
            "        {\n",
            "            \"asset\": \"BB\",\n",
            "            \"free\": \"4362.00000000\",\n",
            "            \"locked\": \"0.00000000\"\n",
            "        },\n",
            "        {\n",
            "            \"asset\": \"NOT\",\n",
            "            \"free\": \"18446.00\",\n",
            "            \"locked\": \"0.00\"\n",
            "        },\n",
            "        {\n",
            "            \"asset\": \"COP\",\n",
            "            \"free\": \"18466.00000000\",\n",
            "            \"locked\": \"0.00000000\"\n",
            "        },\n",
            "        {\n",
            "            \"asset\": \"IO\",\n",
            "            \"free\": \"687.00000000\",\n",
            "            \"locked\": \"0.00000000\"\n",
            "        },\n",
            "        {\n",
            "            \"asset\": \"ZK\",\n",
            "            \"free\": \"9898.00000000\",\n",
            "            \"locked\": \"0.00000000\"\n",
            "        },\n",
            "        {\n",
            "            \"asset\": \"LISTA\",\n",
            "            \"free\": \"2867.00000000\",\n",
            "            \"locked\": \"0.00000000\"\n",
            "        },\n",
            "        {\n",
            "            \"asset\": \"ZRO\",\n",
            "            \"free\": \"204.00000000\",\n",
            "            \"locked\": \"0.00000000\"\n",
            "        },\n",
            "        {\n",
            "            \"asset\": \"G\",\n",
            "            \"free\": \"18446.00000000\",\n",
            "            \"locked\": \"0.00000000\"\n",
            "        },\n",
            "        {\n",
            "            \"asset\": \"BANANA\",\n",
            "            \"free\": \"28.00000000\",\n",
            "            \"locked\": \"0.00000000\"\n",
            "        },\n",
            "        {\n",
            "            \"asset\": \"RENDER\",\n",
            "            \"free\": \"118.00000000\",\n",
            "            \"locked\": \"0.00000000\"\n",
            "        },\n",
            "        {\n",
            "            \"asset\": \"TON\",\n",
            "            \"free\": \"165.00000000\",\n",
            "            \"locked\": \"0.00000000\"\n",
            "        },\n",
            "        {\n",
            "            \"asset\": \"DOGS\",\n",
            "            \"free\": \"18446.00\",\n",
            "            \"locked\": \"0.00\"\n",
            "        },\n",
            "        {\n",
            "            \"asset\": \"EURI\",\n",
            "            \"free\": \"440.00000000\",\n",
            "            \"locked\": \"0.00000000\"\n",
            "        },\n",
            "        {\n",
            "            \"asset\": \"SLF\",\n",
            "            \"free\": \"2616.00000000\",\n",
            "            \"locked\": \"0.00000000\"\n",
            "        },\n",
            "        {\n",
            "            \"asset\": \"POL\",\n",
            "            \"free\": \"2275.00000000\",\n",
            "            \"locked\": \"0.00000000\"\n",
            "        },\n",
            "        {\n",
            "            \"asset\": \"NEIRO\",\n",
            "            \"free\": \"18446.00\",\n",
            "            \"locked\": \"0.00\"\n",
            "        },\n",
            "        {\n",
            "            \"asset\": \"TURBO\",\n",
            "            \"free\": \"18446.00000000\",\n",
            "            \"locked\": \"0.00000000\"\n",
            "        },\n",
            "        {\n",
            "            \"asset\": \"1MBABYDOGE\",\n",
            "            \"free\": \"18446.00\",\n",
            "            \"locked\": \"0.00\"\n",
            "        },\n",
            "        {\n",
            "            \"asset\": \"CATI\",\n",
            "            \"free\": \"6162.00000000\",\n",
            "            \"locked\": \"0.00000000\"\n",
            "        },\n",
            "        {\n",
            "            \"asset\": \"HMSTR\",\n",
            "            \"free\": \"18446.00\",\n",
            "            \"locked\": \"0.00\"\n",
            "        },\n",
            "        {\n",
            "            \"asset\": \"EIGEN\",\n",
            "            \"free\": \"651.00000000\",\n",
            "            \"locked\": \"0.00000000\"\n",
            "        },\n",
            "        {\n",
            "            \"asset\": \"BNSOL\",\n",
            "            \"free\": \"3.00000000\",\n",
            "            \"locked\": \"0.00000000\"\n",
            "        },\n",
            "        {\n",
            "            \"asset\": \"SCR\",\n",
            "            \"free\": \"1754.00000000\",\n",
            "            \"locked\": \"0.00000000\"\n",
            "        },\n",
            "        {\n",
            "            \"asset\": \"LUMIA\",\n",
            "            \"free\": \"1461.00000000\",\n",
            "            \"locked\": \"0.00000000\"\n",
            "        },\n",
            "        {\n",
            "            \"asset\": \"KAIA\",\n",
            "            \"free\": \"4461.00000000\",\n",
            "            \"locked\": \"0.00000000\"\n",
            "        },\n",
            "        {\n",
            "            \"asset\": \"COW\",\n",
            "            \"free\": \"1752.00000000\",\n",
            "            \"locked\": \"0.00000000\"\n",
            "        },\n",
            "        {\n",
            "            \"asset\": \"CETUS\",\n",
            "            \"free\": \"2620.00000000\",\n",
            "            \"locked\": \"0.00000000\"\n",
            "        },\n",
            "        {\n",
            "            \"asset\": \"PNUT\",\n",
            "            \"free\": \"3231.00000000\",\n",
            "            \"locked\": \"0.00000000\"\n",
            "        },\n",
            "        {\n",
            "            \"asset\": \"ACT\",\n",
            "            \"free\": \"9797.00000000\",\n",
            "            \"locked\": \"0.00000000\"\n",
            "        },\n",
            "        {\n",
            "            \"asset\": \"USUAL\",\n",
            "            \"free\": \"4319.00000000\",\n",
            "            \"locked\": \"0.00000000\"\n",
            "        },\n",
            "        {\n",
            "            \"asset\": \"THE\",\n",
            "            \"free\": \"2026.00000000\",\n",
            "            \"locked\": \"0.00000000\"\n",
            "        },\n",
            "        {\n",
            "            \"asset\": \"ACX\",\n",
            "            \"free\": \"2358.00000000\",\n",
            "            \"locked\": \"0.00000000\"\n",
            "        },\n",
            "        {\n",
            "            \"asset\": \"ORCA\",\n",
            "            \"free\": \"202.00000000\",\n",
            "            \"locked\": \"0.00000000\"\n",
            "        },\n",
            "        {\n",
            "            \"asset\": \"MOVE\",\n",
            "            \"free\": \"3173.00000000\",\n",
            "            \"locked\": \"0.00000000\"\n",
            "        },\n",
            "        {\n",
            "            \"asset\": \"ME\",\n",
            "            \"free\": \"547.00000000\",\n",
            "            \"locked\": \"0.00000000\"\n",
            "        },\n",
            "        {\n",
            "            \"asset\": \"VELODROME\",\n",
            "            \"free\": \"10092.00000000\",\n",
            "            \"locked\": \"0.00000000\"\n",
            "        },\n",
            "        {\n",
            "            \"asset\": \"VANA\",\n",
            "            \"free\": \"94.00000000\",\n",
            "            \"locked\": \"0.00000000\"\n",
            "        },\n",
            "        {\n",
            "            \"asset\": \"1000CAT\",\n",
            "            \"free\": \"18446.00000000\",\n",
            "            \"locked\": \"0.00000000\"\n",
            "        },\n",
            "        {\n",
            "            \"asset\": \"PENGU\",\n",
            "            \"free\": \"18446.00000000\",\n",
            "            \"locked\": \"0.00000000\"\n",
            "        },\n",
            "        {\n",
            "            \"asset\": \"BIO\",\n",
            "            \"free\": \"8326.00000000\",\n",
            "            \"locked\": \"0.00000000\"\n",
            "        },\n",
            "        {\n",
            "            \"asset\": \"D\",\n",
            "            \"free\": \"11546.00000000\",\n",
            "            \"locked\": \"0.00000000\"\n",
            "        },\n",
            "        {\n",
            "            \"asset\": \"AIXBT\",\n",
            "            \"free\": \"3023.00000000\",\n",
            "            \"locked\": \"0.00000000\"\n",
            "        },\n",
            "        {\n",
            "            \"asset\": \"CGPT\",\n",
            "            \"free\": \"4430.00000000\",\n",
            "            \"locked\": \"0.00000000\"\n",
            "        },\n",
            "        {\n",
            "            \"asset\": \"COOKIE\",\n",
            "            \"free\": \"2962.00000000\",\n",
            "            \"locked\": \"0.00000000\"\n",
            "        },\n",
            "        {\n",
            "            \"asset\": \"S\",\n",
            "            \"free\": \"974.00000000\",\n",
            "            \"locked\": \"0.00000000\"\n",
            "        },\n",
            "        {\n",
            "            \"asset\": \"SOLV\",\n",
            "            \"free\": \"12809.00000000\",\n",
            "            \"locked\": \"0.00000000\"\n",
            "        },\n",
            "        {\n",
            "            \"asset\": \"TRUMP\",\n",
            "            \"free\": \"45.00000000\",\n",
            "            \"locked\": \"0.00000000\"\n",
            "        },\n",
            "        {\n",
            "            \"asset\": \"ANIME\",\n",
            "            \"free\": \"18446.00000000\",\n",
            "            \"locked\": \"0.00000000\"\n",
            "        },\n",
            "        {\n",
            "            \"asset\": \"BERA\",\n",
            "            \"free\": \"167.00000000\",\n",
            "            \"locked\": \"0.00000000\"\n",
            "        },\n",
            "        {\n",
            "            \"asset\": \"1000CHEEMS\",\n",
            "            \"free\": \"18446.00\",\n",
            "            \"locked\": \"0.00\"\n",
            "        },\n",
            "        {\n",
            "            \"asset\": \"TST\",\n",
            "            \"free\": \"6723.00000000\",\n",
            "            \"locked\": \"0.00000000\"\n",
            "        },\n",
            "        {\n",
            "            \"asset\": \"LAYER\",\n",
            "            \"free\": \"284.00000000\",\n",
            "            \"locked\": \"0.00000000\"\n",
            "        },\n",
            "        {\n",
            "            \"asset\": \"HEI\",\n",
            "            \"free\": \"1523.00000000\",\n",
            "            \"locked\": \"0.00000000\"\n",
            "        },\n",
            "        {\n",
            "            \"asset\": \"KAITO\",\n",
            "            \"free\": \"359.00000000\",\n",
            "            \"locked\": \"0.00000000\"\n",
            "        },\n",
            "        {\n",
            "            \"asset\": \"SHELL\",\n",
            "            \"free\": \"2724.00000000\",\n",
            "            \"locked\": \"0.00000000\"\n",
            "        },\n",
            "        {\n",
            "            \"asset\": \"RED\",\n",
            "            \"free\": \"1355.00000000\",\n",
            "            \"locked\": \"0.00000000\"\n",
            "        },\n",
            "        {\n",
            "            \"asset\": \"GPS\",\n",
            "            \"free\": \"18446.00000000\",\n",
            "            \"locked\": \"0.00000000\"\n",
            "        },\n",
            "        {\n",
            "            \"asset\": \"EPIC\",\n",
            "            \"free\": \"398.00000000\",\n",
            "            \"locked\": \"0.00000000\"\n",
            "        },\n",
            "        {\n",
            "            \"asset\": \"BMT\",\n",
            "            \"free\": \"3131.00000000\",\n",
            "            \"locked\": \"0.00000000\"\n",
            "        },\n",
            "        {\n",
            "            \"asset\": \"FORM\",\n",
            "            \"free\": \"195.00000000\",\n",
            "            \"locked\": \"0.00000000\"\n",
            "        },\n",
            "        {\n",
            "            \"asset\": \"XUSD\",\n",
            "            \"free\": \"500.00000000\",\n",
            "            \"locked\": \"0.00000000\"\n",
            "        },\n",
            "        {\n",
            "            \"asset\": \"CZK\",\n",
            "            \"free\": \"18466.00000000\",\n",
            "            \"locked\": \"0.00000000\"\n",
            "        },\n",
            "        {\n",
            "            \"asset\": \"NIL\",\n",
            "            \"free\": \"1319.00000000\",\n",
            "            \"locked\": \"0.00000000\"\n",
            "        },\n",
            "        {\n",
            "            \"asset\": \"PARTI\",\n",
            "            \"free\": \"2304.00000000\",\n",
            "            \"locked\": \"0.00000000\"\n",
            "        },\n",
            "        {\n",
            "            \"asset\": \"MUBARAK\",\n",
            "            \"free\": \"18434.00000000\",\n",
            "            \"locked\": \"0.00000000\"\n",
            "        },\n",
            "        {\n",
            "            \"asset\": \"TUT\",\n",
            "            \"free\": \"18446.00000000\",\n",
            "            \"locked\": \"0.00000000\"\n",
            "        },\n",
            "        {\n",
            "            \"asset\": \"BROCCOLI714\",\n",
            "            \"free\": \"18359.00000000\",\n",
            "            \"locked\": \"0.00000000\"\n",
            "        },\n",
            "        {\n",
            "            \"asset\": \"BANANAS31\",\n",
            "            \"free\": \"18446.00000000\",\n",
            "            \"locked\": \"0.00000000\"\n",
            "        },\n",
            "        {\n",
            "            \"asset\": \"GUN\",\n",
            "            \"free\": \"10837.00000000\",\n",
            "            \"locked\": \"0.00000000\"\n",
            "        },\n",
            "        {\n",
            "            \"asset\": \"BABY\",\n",
            "            \"free\": \"6347.00000000\",\n",
            "            \"locked\": \"0.00000000\"\n",
            "        },\n",
            "        {\n",
            "            \"asset\": \"ONDO\",\n",
            "            \"free\": \"572.00000000\",\n",
            "            \"locked\": \"0.00000000\"\n",
            "        },\n",
            "        {\n",
            "            \"asset\": \"BIGTIME\",\n",
            "            \"free\": \"7348.00000000\",\n",
            "            \"locked\": \"0.00000000\"\n",
            "        },\n",
            "        {\n",
            "            \"asset\": \"VIRTUAL\",\n",
            "            \"free\": \"363.00000000\",\n",
            "            \"locked\": \"0.00000000\"\n",
            "        },\n",
            "        {\n",
            "            \"asset\": \"KERNEL\",\n",
            "            \"free\": \"3444.00000000\",\n",
            "            \"locked\": \"0.00000000\"\n",
            "        },\n",
            "        {\n",
            "            \"asset\": \"WCT\",\n",
            "            \"free\": \"1245.00000000\",\n",
            "            \"locked\": \"0.00000000\"\n",
            "        },\n",
            "        {\n",
            "            \"asset\": \"HYPER\",\n",
            "            \"free\": \"3480.00000000\",\n",
            "            \"locked\": \"0.00000000\"\n",
            "        },\n",
            "        {\n",
            "            \"asset\": \"INIT\",\n",
            "            \"free\": \"846.00000000\",\n",
            "            \"locked\": \"0.00000000\"\n",
            "        },\n",
            "        {\n",
            "            \"asset\": \"SIGN\",\n",
            "            \"free\": \"6726.00000000\",\n",
            "            \"locked\": \"0.00000000\"\n",
            "        },\n",
            "        {\n",
            "            \"asset\": \"STO\",\n",
            "            \"free\": \"3811.00000000\",\n",
            "            \"locked\": \"0.00000000\"\n",
            "        },\n",
            "        {\n",
            "            \"asset\": \"SYRUP\",\n",
            "            \"free\": \"2392.00000000\",\n",
            "            \"locked\": \"0.00000000\"\n",
            "        },\n",
            "        {\n",
            "            \"asset\": \"KMNO\",\n",
            "            \"free\": \"7111.00000000\",\n",
            "            \"locked\": \"0.00000000\"\n",
            "        }\n",
            "    ],\n",
            "    \"brokered\": false,\n",
            "    \"buyerCommission\": 0,\n",
            "    \"canDeposit\": true,\n",
            "    \"canTrade\": true,\n",
            "    \"canWithdraw\": true,\n",
            "    \"commissionRates\": {\n",
            "        \"buyer\": \"0.00000000\",\n",
            "        \"maker\": \"0.00000000\",\n",
            "        \"seller\": \"0.00000000\",\n",
            "        \"taker\": \"0.00000000\"\n",
            "    },\n",
            "    \"makerCommission\": 0,\n",
            "    \"permissions\": [\n",
            "        \"SPOT\"\n",
            "    ],\n",
            "    \"preventSor\": false,\n",
            "    \"requireSelfTradePrevention\": false,\n",
            "    \"sellerCommission\": 0,\n",
            "    \"takerCommission\": 0,\n",
            "    \"uid\": 1736689116263929383,\n",
            "    \"updateTime\": 1747613657494\n",
            "}\n"
          ]
        }
      ],
      "source": [
        "import json\n",
        "\n",
        "#Get account info\n",
        "acct = client.get_account()\n",
        "\n",
        "# Show the results in a formatted way\n",
        "print(json.dumps(acct, indent=4, sort_keys=True))"
      ]
    },
    {
      "cell_type": "markdown",
      "metadata": {
        "id": "b0OMoA341XvU"
      },
      "source": [
        "`order_market_buy`: Places a market order to buy the specified quantity of BTC with USDT.\n",
        "\n",
        "`get_open_orders`: Retrieves a list of open orders for the specified symbol.\n",
        "\n",
        "`get_all_orders`: Fetches a list of all previous orders for BTCUSDT.\n",
        "\n",
        "`get_account`: Retrieves the account information, formatted using the json library for better readability."
      ]
    },
    {
      "cell_type": "code",
      "execution_count": null,
      "metadata": {
        "id": "7fhnS3wy1b83"
      },
      "outputs": [],
      "source": [
        "client = Client(api_key, api_secret, testnet=True)\n",
        "\n",
        "# Place a market buy order to purchase 0.001 BTC\n",
        "order = client.order_market_buy(\n",
        "    symbol='BTCUSDT',\n",
        "    quantity=0.001)\n",
        "print(\"Order: \", order)\n",
        "\n",
        "# Get a list of pending orders for BTCUSDT\n",
        "open_orders = client.get_open_orders(symbol='BTCUSDT')\n",
        "print(\"Open Orders: \", open_orders)\n",
        "\n",
        "# Get a list of all previous orders for BTCUSDT\n",
        "all_orders = client.get_all_orders(symbol='BTCUSDT')\n",
        "print(\"All Orders: \", all_orders)\n",
        "\n",
        "# Get account info\n",
        "acct = client.get_account()\n",
        "\n",
        "# Show the results in a formatted way\n",
        "print(\"Account Info: \", json.dumps(acct, indent=4, sort_keys=True))"
      ]
    },
    {
      "cell_type": "markdown",
      "metadata": {
        "id": "UHdAQihL1y56"
      },
      "source": [
        "The `MACD (Moving Average Convergence Divergence)` is a popular momentum indicator that helps identify trend reversals and can be very useful for your trading bot. Below is your code with some explanations:\n",
        "\n",
        "Explanation:\n",
        "\n",
        "`pd.to_numeric(df['Close'], errors='coerce')`: Converts the 'Close' column to numeric, setting non-convertible entries to NaN.\n",
        "\n",
        "`df.dropna(inplace=True)`: Removes rows with NaN values to ensure consistency.\n",
        "\n",
        "Function Usage: MACD calculation and plotting remain unchanged."
      ]
    },
    {
      "cell_type": "code",
      "execution_count": null,
      "metadata": {
        "id": "acEAmNXl16gS"
      },
      "outputs": [],
      "source": [
        "! pip uninstall pandas_ta\n",
        "! pip install pandas_ta"
      ]
    },
    {
      "cell_type": "code",
      "execution_count": null,
      "metadata": {
        "id": "7eGsjzwl26pr"
      },
      "outputs": [],
      "source": [
        "!pip uninstall numpy\n",
        "!pip install numpy==1.26.4"
      ]
    },
    {
      "cell_type": "code",
      "execution_count": null,
      "metadata": {
        "colab": {
          "base_uri": "https://localhost:8080/",
          "height": 516
        },
        "id": "eiywrzO_131n",
        "outputId": "4973eed4-1cde-4603-f7ee-2cd79b7956e5"
      },
      "outputs": [
        {
          "data": {
            "image/png": "[encoded data removed]",
            "text/plain": [
              "<Figure size 1200x600 with 1 Axes>"
            ]
          },
          "metadata": {},
          "output_type": "display_data"
        }
      ],
      "source": [
        "import pandas_ta as ta\n",
        "import matplotlib.pyplot as plt\n",
        "\n",
        "# Convert data to numeric, forcing errors to NaN (then drop them)\n",
        "df['Close'] = pd.to_numeric(df['Close'], errors='coerce')\n",
        "\n",
        "# Drop any rows with NaN values to prevent type issues\n",
        "df.dropna(inplace=True)\n",
        "\n",
        "# Function to calculate MACD\n",
        "def get_macd(data, slow=26, fast=12, signal=9):\n",
        "    macd = ta.macd(data, slow=slow, fast=fast, signal=signal)\n",
        "    return macd.iloc[:,-1]\n",
        "\n",
        "# Calculate MACD for the closing prices\n",
        "macd = get_macd(df[\"Close\"])\n",
        "\n",
        "# Plot MACD\n",
        "plt.figure(figsize=(12,6))\n",
        "plt.plot(df.index, macd)\n",
        "plt.title('MACD of Closing Price')\n",
        "plt.xlabel('Date')\n",
        "plt.ylabel('MACD')\n",
        "plt.grid(True)\n",
        "plt.show()\n"
      ]
    },
    {
      "cell_type": "markdown",
      "metadata": {
        "id": "SlCGMOgP24i3"
      },
      "source": [
        "`Wrapper Function`: This function wraps the previous script, fetching and processing 1-minute historical data.\n",
        "\n",
        "`DataFrame Columns`: Consolidates the columns for readability.\n",
        "\n",
        "`Numeric Conversion`: Ensures all data remains numeric to avoid type issues.\n",
        "\n",
        "`Indicators`: Adds MACD and a 30-minute percentage change to the DataFrame."
      ]
    },
    {
      "cell_type": "code",
      "execution_count": null,
      "metadata": {
        "colab": {
          "base_uri": "https://localhost:8080/"
        },
        "id": "WbHFy9ju29nT",
        "outputId": "7bb131d0-85a3-4fcc-89ef-7ff5cf666495"
      },
      "outputs": [
        {
          "name": "stdout",
          "output_type": "stream",
          "text": [
            "                          Open       High        Low      Close   Volume  \\\n",
            "Open time                                                                  \n",
            "2025-05-18 23:16:00  105613.94  105728.01  105556.84  105593.68  1.16080   \n",
            "2025-05-18 23:17:00  105593.45  105600.76  105591.33  105600.76  0.87219   \n",
            "2025-05-18 23:18:00  105600.76  105637.38  105460.00  105464.30  3.85055   \n",
            "2025-05-18 23:19:00  105464.30  105501.33  105464.30  105499.75  2.05652   \n",
            "2025-05-18 23:20:00  105501.33  105629.07  105501.33  105625.06  2.60175   \n",
            "\n",
            "                     MACD  Pct Change 30m  \n",
            "Open time                                  \n",
            "2025-05-18 23:16:00   NaN             NaN  \n",
            "2025-05-18 23:17:00   NaN             NaN  \n",
            "2025-05-18 23:18:00   NaN             NaN  \n",
            "2025-05-18 23:19:00   NaN             NaN  \n",
            "2025-05-18 23:20:00   NaN             NaN  \n"
          ]
        }
      ],
      "source": [
        "# Get up-to-date 1-minute data from Binance and add the MACD and price changes\n",
        "def get_bars(asset='ETH'):\n",
        "    # Fetch historical 1-minute klines for the given asset\n",
        "    bars = client.get_historical_klines(\n",
        "        f\"{asset}USDT\", Client.KLINE_INTERVAL_1MINUTE, start_str=\"1 hour ago UTC\")\n",
        "\n",
        "    # Load the result into a DataFrame\n",
        "    df = pd.DataFrame(bars)\n",
        "    df.columns = [\n",
        "        \"Open time\", \"Open\", \"High\", \"Low\", \"Close\", \"Volume\", \"Close time\",\n",
        "        \"Quote asset volume\", \"Number of trades\", \"Taker buy base asset volume\",\n",
        "        \"Taker buy quote asset volume\", \"Ignore\"]\n",
        "\n",
        "    # Convert the timestamp into datetime objects\n",
        "    df['Open time'] = pd.to_datetime(df['Open time'], unit='ms')\n",
        "\n",
        "    # Set the Open time as the index of the DataFrame\n",
        "    df.set_index('Open time', inplace=True)\n",
        "\n",
        "    # Retain relevant columns\n",
        "    df = df.iloc[:, :5]\n",
        "\n",
        "    # Convert column data to numeric type\n",
        "    for col in df.columns:\n",
        "        df[col] = pd.to_numeric(df[col], errors='coerce')\n",
        "\n",
        "    # Add trading indicators\n",
        "    df['MACD'] = get_macd(df[\"Close\"])\n",
        "    df['Pct Change 30m'] = df['Close'].pct_change(30)\n",
        "\n",
        "    return df\n",
        "\n",
        "# Fetch and display data for BTC\n",
        "btc_data = get_bars('BTC')\n",
        "print(btc_data.head())\n"
      ]
    },
    {
      "cell_type": "markdown",
      "metadata": {
        "id": "Vqe4o_293Ih-"
      },
      "source": [
        "`Logical Conditions`: should_buy and should_sell are based on the last values of MACD and percentage change.\n",
        "\n",
        "`Status Update`: The is_long variable is updated based on the buy/sell conditions.\n",
        "\n",
        "`Time Sleep`: Introduce a 10-second pause before checking again."
      ]
    },
    {
      "cell_type": "markdown",
      "metadata": {
        "id": "mFL8-Yyl3XvF"
      },
      "source": [
        "**Buying condition:**\n",
        "\n",
        "`MACD`: The MACD value of the latest bar (bars['MACD'][-1]) must be greater than 0. This indicates that the MACD line is above the signal line, suggesting positive momentum.\n",
        "\n",
        "`Percentage Change 30m`: The 30-minute percentage change (bars['Pct Change 30m'][-1]) must also be **greater** than 0. This indicates that the asset's price has been increasing over the past 30 minutes.\n",
        "\n",
        "\n",
        "**Selling condition:**\n",
        "\n",
        "`MACD`: The MACD value of the latest bar (bars['MACD'][-1]) must be less than 0. This indicates that the MACD line is below the signal line, suggesting negative momentum.\n",
        "\n",
        "`Percentage Change 30m`: The 30-minute percentage change (bars['Pct Change 30m'][-1]) must also be **less** than 0."
      ]
    },
    {
      "cell_type": "code",
      "execution_count": null,
      "metadata": {
        "colab": {
          "base_uri": "https://localhost:8080/"
        },
        "id": "xMxsU9Ep3MZ7",
        "outputId": "710db36a-da18-4594-c7ff-a6771db3efa3"
      },
      "outputs": [
        {
          "name": "stderr",
          "output_type": "stream",
          "text": [
            "<ipython-input-18-57a669cd8a3e>:16: FutureWarning: Series.__getitem__ treating keys as positions is deprecated. In a future version, integer keys will always be treated as labels (consistent with DataFrame behavior). To access a value by position, use `ser.iloc[pos]`\n",
            "  should_buy = bars['MACD'][-1] > 0 and bars['Pct Change 30m'][-1] > 0\n",
            "<ipython-input-18-57a669cd8a3e>:17: FutureWarning: Series.__getitem__ treating keys as positions is deprecated. In a future version, integer keys will always be treated as labels (consistent with DataFrame behavior). To access a value by position, use `ser.iloc[pos]`\n",
            "  should_sell = bars['MACD'][-1] < 0 and bars['Pct Change 30m'][-1] < 0\n"
          ]
        },
        {
          "name": "stdout",
          "output_type": "stream",
          "text": [
            "Is Long: True / Should Buy: True / Should Sell: False\n",
            "********************\n"
          ]
        },
        {
          "name": "stderr",
          "output_type": "stream",
          "text": [
            "<ipython-input-18-57a669cd8a3e>:16: FutureWarning: Series.__getitem__ treating keys as positions is deprecated. In a future version, integer keys will always be treated as labels (consistent with DataFrame behavior). To access a value by position, use `ser.iloc[pos]`\n",
            "  should_buy = bars['MACD'][-1] > 0 and bars['Pct Change 30m'][-1] > 0\n",
            "<ipython-input-18-57a669cd8a3e>:17: FutureWarning: Series.__getitem__ treating keys as positions is deprecated. In a future version, integer keys will always be treated as labels (consistent with DataFrame behavior). To access a value by position, use `ser.iloc[pos]`\n",
            "  should_sell = bars['MACD'][-1] < 0 and bars['Pct Change 30m'][-1] < 0\n"
          ]
        },
        {
          "name": "stdout",
          "output_type": "stream",
          "text": [
            "Is Long: True / Should Buy: True / Should Sell: False\n",
            "********************\n"
          ]
        },
        {
          "name": "stderr",
          "output_type": "stream",
          "text": [
            "<ipython-input-18-57a669cd8a3e>:16: FutureWarning: Series.__getitem__ treating keys as positions is deprecated. In a future version, integer keys will always be treated as labels (consistent with DataFrame behavior). To access a value by position, use `ser.iloc[pos]`\n",
            "  should_buy = bars['MACD'][-1] > 0 and bars['Pct Change 30m'][-1] > 0\n",
            "<ipython-input-18-57a669cd8a3e>:17: FutureWarning: Series.__getitem__ treating keys as positions is deprecated. In a future version, integer keys will always be treated as labels (consistent with DataFrame behavior). To access a value by position, use `ser.iloc[pos]`\n",
            "  should_sell = bars['MACD'][-1] < 0 and bars['Pct Change 30m'][-1] < 0\n"
          ]
        },
        {
          "name": "stdout",
          "output_type": "stream",
          "text": [
            "Is Long: True / Should Buy: True / Should Sell: False\n",
            "********************\n"
          ]
        },
        {
          "name": "stderr",
          "output_type": "stream",
          "text": [
            "<ipython-input-18-57a669cd8a3e>:16: FutureWarning: Series.__getitem__ treating keys as positions is deprecated. In a future version, integer keys will always be treated as labels (consistent with DataFrame behavior). To access a value by position, use `ser.iloc[pos]`\n",
            "  should_buy = bars['MACD'][-1] > 0 and bars['Pct Change 30m'][-1] > 0\n",
            "<ipython-input-18-57a669cd8a3e>:17: FutureWarning: Series.__getitem__ treating keys as positions is deprecated. In a future version, integer keys will always be treated as labels (consistent with DataFrame behavior). To access a value by position, use `ser.iloc[pos]`\n",
            "  should_sell = bars['MACD'][-1] < 0 and bars['Pct Change 30m'][-1] < 0\n"
          ]
        },
        {
          "name": "stdout",
          "output_type": "stream",
          "text": [
            "Is Long: True / Should Buy: True / Should Sell: False\n",
            "********************\n"
          ]
        },
        {
          "name": "stderr",
          "output_type": "stream",
          "text": [
            "<ipython-input-18-57a669cd8a3e>:16: FutureWarning: Series.__getitem__ treating keys as positions is deprecated. In a future version, integer keys will always be treated as labels (consistent with DataFrame behavior). To access a value by position, use `ser.iloc[pos]`\n",
            "  should_buy = bars['MACD'][-1] > 0 and bars['Pct Change 30m'][-1] > 0\n",
            "<ipython-input-18-57a669cd8a3e>:17: FutureWarning: Series.__getitem__ treating keys as positions is deprecated. In a future version, integer keys will always be treated as labels (consistent with DataFrame behavior). To access a value by position, use `ser.iloc[pos]`\n",
            "  should_sell = bars['MACD'][-1] < 0 and bars['Pct Change 30m'][-1] < 0\n"
          ]
        },
        {
          "name": "stdout",
          "output_type": "stream",
          "text": [
            "Is Long: True / Should Buy: True / Should Sell: False\n",
            "********************\n"
          ]
        },
        {
          "name": "stderr",
          "output_type": "stream",
          "text": [
            "<ipython-input-18-57a669cd8a3e>:16: FutureWarning: Series.__getitem__ treating keys as positions is deprecated. In a future version, integer keys will always be treated as labels (consistent with DataFrame behavior). To access a value by position, use `ser.iloc[pos]`\n",
            "  should_buy = bars['MACD'][-1] > 0 and bars['Pct Change 30m'][-1] > 0\n",
            "<ipython-input-18-57a669cd8a3e>:17: FutureWarning: Series.__getitem__ treating keys as positions is deprecated. In a future version, integer keys will always be treated as labels (consistent with DataFrame behavior). To access a value by position, use `ser.iloc[pos]`\n",
            "  should_sell = bars['MACD'][-1] < 0 and bars['Pct Change 30m'][-1] < 0\n"
          ]
        },
        {
          "name": "stdout",
          "output_type": "stream",
          "text": [
            "Is Long: True / Should Buy: True / Should Sell: False\n",
            "********************\n"
          ]
        },
        {
          "name": "stderr",
          "output_type": "stream",
          "text": [
            "<ipython-input-18-57a669cd8a3e>:16: FutureWarning: Series.__getitem__ treating keys as positions is deprecated. In a future version, integer keys will always be treated as labels (consistent with DataFrame behavior). To access a value by position, use `ser.iloc[pos]`\n",
            "  should_buy = bars['MACD'][-1] > 0 and bars['Pct Change 30m'][-1] > 0\n",
            "<ipython-input-18-57a669cd8a3e>:17: FutureWarning: Series.__getitem__ treating keys as positions is deprecated. In a future version, integer keys will always be treated as labels (consistent with DataFrame behavior). To access a value by position, use `ser.iloc[pos]`\n",
            "  should_sell = bars['MACD'][-1] < 0 and bars['Pct Change 30m'][-1] < 0\n"
          ]
        },
        {
          "name": "stdout",
          "output_type": "stream",
          "text": [
            "Is Long: True / Should Buy: True / Should Sell: False\n",
            "********************\n"
          ]
        },
        {
          "name": "stderr",
          "output_type": "stream",
          "text": [
            "<ipython-input-18-57a669cd8a3e>:16: FutureWarning: Series.__getitem__ treating keys as positions is deprecated. In a future version, integer keys will always be treated as labels (consistent with DataFrame behavior). To access a value by position, use `ser.iloc[pos]`\n",
            "  should_buy = bars['MACD'][-1] > 0 and bars['Pct Change 30m'][-1] > 0\n",
            "<ipython-input-18-57a669cd8a3e>:17: FutureWarning: Series.__getitem__ treating keys as positions is deprecated. In a future version, integer keys will always be treated as labels (consistent with DataFrame behavior). To access a value by position, use `ser.iloc[pos]`\n",
            "  should_sell = bars['MACD'][-1] < 0 and bars['Pct Change 30m'][-1] < 0\n"
          ]
        },
        {
          "name": "stdout",
          "output_type": "stream",
          "text": [
            "Is Long: True / Should Buy: True / Should Sell: False\n",
            "********************\n"
          ]
        },
        {
          "name": "stderr",
          "output_type": "stream",
          "text": [
            "<ipython-input-18-57a669cd8a3e>:16: FutureWarning: Series.__getitem__ treating keys as positions is deprecated. In a future version, integer keys will always be treated as labels (consistent with DataFrame behavior). To access a value by position, use `ser.iloc[pos]`\n",
            "  should_buy = bars['MACD'][-1] > 0 and bars['Pct Change 30m'][-1] > 0\n",
            "<ipython-input-18-57a669cd8a3e>:17: FutureWarning: Series.__getitem__ treating keys as positions is deprecated. In a future version, integer keys will always be treated as labels (consistent with DataFrame behavior). To access a value by position, use `ser.iloc[pos]`\n",
            "  should_sell = bars['MACD'][-1] < 0 and bars['Pct Change 30m'][-1] < 0\n"
          ]
        },
        {
          "name": "stdout",
          "output_type": "stream",
          "text": [
            "Is Long: True / Should Buy: True / Should Sell: False\n",
            "********************\n"
          ]
        },
        {
          "name": "stderr",
          "output_type": "stream",
          "text": [
            "<ipython-input-18-57a669cd8a3e>:16: FutureWarning: Series.__getitem__ treating keys as positions is deprecated. In a future version, integer keys will always be treated as labels (consistent with DataFrame behavior). To access a value by position, use `ser.iloc[pos]`\n",
            "  should_buy = bars['MACD'][-1] > 0 and bars['Pct Change 30m'][-1] > 0\n",
            "<ipython-input-18-57a669cd8a3e>:17: FutureWarning: Series.__getitem__ treating keys as positions is deprecated. In a future version, integer keys will always be treated as labels (consistent with DataFrame behavior). To access a value by position, use `ser.iloc[pos]`\n",
            "  should_sell = bars['MACD'][-1] < 0 and bars['Pct Change 30m'][-1] < 0\n"
          ]
        },
        {
          "name": "stdout",
          "output_type": "stream",
          "text": [
            "Is Long: True / Should Buy: True / Should Sell: False\n",
            "********************\n"
          ]
        },
        {
          "name": "stderr",
          "output_type": "stream",
          "text": [
            "<ipython-input-18-57a669cd8a3e>:16: FutureWarning: Series.__getitem__ treating keys as positions is deprecated. In a future version, integer keys will always be treated as labels (consistent with DataFrame behavior). To access a value by position, use `ser.iloc[pos]`\n",
            "  should_buy = bars['MACD'][-1] > 0 and bars['Pct Change 30m'][-1] > 0\n",
            "<ipython-input-18-57a669cd8a3e>:17: FutureWarning: Series.__getitem__ treating keys as positions is deprecated. In a future version, integer keys will always be treated as labels (consistent with DataFrame behavior). To access a value by position, use `ser.iloc[pos]`\n",
            "  should_sell = bars['MACD'][-1] < 0 and bars['Pct Change 30m'][-1] < 0\n"
          ]
        },
        {
          "name": "stdout",
          "output_type": "stream",
          "text": [
            "Is Long: True / Should Buy: True / Should Sell: False\n",
            "********************\n"
          ]
        },
        {
          "name": "stderr",
          "output_type": "stream",
          "text": [
            "<ipython-input-18-57a669cd8a3e>:16: FutureWarning: Series.__getitem__ treating keys as positions is deprecated. In a future version, integer keys will always be treated as labels (consistent with DataFrame behavior). To access a value by position, use `ser.iloc[pos]`\n",
            "  should_buy = bars['MACD'][-1] > 0 and bars['Pct Change 30m'][-1] > 0\n",
            "<ipython-input-18-57a669cd8a3e>:17: FutureWarning: Series.__getitem__ treating keys as positions is deprecated. In a future version, integer keys will always be treated as labels (consistent with DataFrame behavior). To access a value by position, use `ser.iloc[pos]`\n",
            "  should_sell = bars['MACD'][-1] < 0 and bars['Pct Change 30m'][-1] < 0\n"
          ]
        },
        {
          "name": "stdout",
          "output_type": "stream",
          "text": [
            "Is Long: True / Should Buy: True / Should Sell: False\n",
            "********************\n",
            "Is Long: True / Should Buy: True / Should Sell: False\n",
            "Stopping trade after 2.0 minutes.\n"
          ]
        },
        {
          "name": "stderr",
          "output_type": "stream",
          "text": [
            "<ipython-input-18-57a669cd8a3e>:16: FutureWarning: Series.__getitem__ treating keys as positions is deprecated. In a future version, integer keys will always be treated as labels (consistent with DataFrame behavior). To access a value by position, use `ser.iloc[pos]`\n",
            "  should_buy = bars['MACD'][-1] > 0 and bars['Pct Change 30m'][-1] > 0\n",
            "<ipython-input-18-57a669cd8a3e>:17: FutureWarning: Series.__getitem__ treating keys as positions is deprecated. In a future version, integer keys will always be treated as labels (consistent with DataFrame behavior). To access a value by position, use `ser.iloc[pos]`\n",
            "  should_sell = bars['MACD'][-1] < 0 and bars['Pct Change 30m'][-1] < 0\n"
          ]
        }
      ],
      "source": [
        "import time\n",
        "\n",
        "ASSET = 'BTC'\n",
        "is_long = True\n",
        "\n",
        "# Record the start time\n",
        "start_time = time.time()\n",
        "duration = 2 * 60 # 2 minutes in seconds\n",
        "# default settings would be 30 minutes\n",
        "\n",
        "while True:\n",
        "    # Get historical data\n",
        "    bars = get_bars(asset=ASSET)\n",
        "\n",
        "    # Check if we should buy or sell\n",
        "    should_buy = bars['MACD'][-1] > 0 and bars['Pct Change 30m'][-1] > 0\n",
        "    should_sell = bars['MACD'][-1] < 0 and bars['Pct Change 30m'][-1] < 0\n",
        "    print(f\"Is Long: {is_long} / Should Buy: {should_buy} / Should Sell: {should_sell}\")\n",
        "\n",
        "    if not is_long and should_buy:\n",
        "        # We should buy the asset\n",
        "        print(f'Symbol: {ASSET} / Side: BUY')\n",
        "\n",
        "        # Update status of our holding\n",
        "        is_long = True\n",
        "\n",
        "    elif is_long and should_sell:\n",
        "        # We should sell the asset\n",
        "        print(f'Symbol: {ASSET} / Side: SELL')\n",
        "\n",
        "        # Update status of our holding\n",
        "        is_long = False\n",
        "\n",
        "    # Check if the duration has passed\n",
        "    elapsed_time = time.time() - start_time\n",
        "    if elapsed_time > duration:\n",
        "        print(f\"Stopping trade after {duration / 60} minutes.\")\n",
        "        break # Exit the while loop\n",
        "\n",
        "    # Pause before iterating again\n",
        "    time.sleep(10)\n",
        "    print(\"*\" * 20)\n"
      ]
    },
    {
      "cell_type": "markdown",
      "metadata": {
        "id": "MMOU3NZKF1nq"
      },
      "source": [
        "`Explanation`:\n",
        "\n",
        "`Assets List`: Contains multiple assets with initial states and order sizes.\n",
        "\n",
        "`execute_trade Functio`n: Handles the logic for deciding whether to buy or sell based on MACD and percentage change.\n",
        "\n",
        "`Main Loop`: Iterates through each asset, executing the trade logic for each one and pausing between iterations."
      ]
    },
    {
      "cell_type": "code",
      "execution_count": null,
      "metadata": {
        "colab": {
          "base_uri": "https://localhost:8080/",
          "height": 1000
        },
        "id": "xCO63o6MGNXQ",
        "outputId": "ac2f4874-471c-4981-c183-84057672cd91"
      },
      "outputs": [
        {
          "name": "stderr",
          "output_type": "stream",
          "text": [
            "<ipython-input-19-7d389308acd4>:18: FutureWarning: Series.__getitem__ treating keys as positions is deprecated. In a future version, integer keys will always be treated as labels (consistent with DataFrame behavior). To access a value by position, use `ser.iloc[pos]`\n",
            "  should_buy = bars['MACD'][-1] > 0 and bars['Pct Change 30m'][-1] > 0\n",
            "<ipython-input-19-7d389308acd4>:19: FutureWarning: Series.__getitem__ treating keys as positions is deprecated. In a future version, integer keys will always be treated as labels (consistent with DataFrame behavior). To access a value by position, use `ser.iloc[pos]`\n",
            "  should_sell = bars['MACD'][-1] < 0 and bars['Pct Change 30m'][-1] < 0\n"
          ]
        },
        {
          "name": "stdout",
          "output_type": "stream",
          "text": [
            "BTC - Is Long: False / Should Buy: True / Should Sell: False\n",
            "Symbol: BTC / Side: BUY - Indicators suggest a bullish trend (MACD > 0 and 30m % Change > 0)\n"
          ]
        },
        {
          "name": "stderr",
          "output_type": "stream",
          "text": [
            "<ipython-input-19-7d389308acd4>:18: FutureWarning: Series.__getitem__ treating keys as positions is deprecated. In a future version, integer keys will always be treated as labels (consistent with DataFrame behavior). To access a value by position, use `ser.iloc[pos]`\n",
            "  should_buy = bars['MACD'][-1] > 0 and bars['Pct Change 30m'][-1] > 0\n",
            "<ipython-input-19-7d389308acd4>:19: FutureWarning: Series.__getitem__ treating keys as positions is deprecated. In a future version, integer keys will always be treated as labels (consistent with DataFrame behavior). To access a value by position, use `ser.iloc[pos]`\n",
            "  should_sell = bars['MACD'][-1] < 0 and bars['Pct Change 30m'][-1] < 0\n"
          ]
        },
        {
          "name": "stdout",
          "output_type": "stream",
          "text": [
            "LTC - Is Long: False / Should Buy: False / Should Sell: True\n"
          ]
        },
        {
          "name": "stderr",
          "output_type": "stream",
          "text": [
            "<ipython-input-19-7d389308acd4>:18: FutureWarning: Series.__getitem__ treating keys as positions is deprecated. In a future version, integer keys will always be treated as labels (consistent with DataFrame behavior). To access a value by position, use `ser.iloc[pos]`\n",
            "  should_buy = bars['MACD'][-1] > 0 and bars['Pct Change 30m'][-1] > 0\n",
            "<ipython-input-19-7d389308acd4>:19: FutureWarning: Series.__getitem__ treating keys as positions is deprecated. In a future version, integer keys will always be treated as labels (consistent with DataFrame behavior). To access a value by position, use `ser.iloc[pos]`\n",
            "  should_sell = bars['MACD'][-1] < 0 and bars['Pct Change 30m'][-1] < 0\n"
          ]
        },
        {
          "name": "stdout",
          "output_type": "stream",
          "text": [
            "TRX - Is Long: False / Should Buy: False / Should Sell: True\n"
          ]
        },
        {
          "name": "stderr",
          "output_type": "stream",
          "text": [
            "<ipython-input-19-7d389308acd4>:18: FutureWarning: Series.__getitem__ treating keys as positions is deprecated. In a future version, integer keys will always be treated as labels (consistent with DataFrame behavior). To access a value by position, use `ser.iloc[pos]`\n",
            "  should_buy = bars['MACD'][-1] > 0 and bars['Pct Change 30m'][-1] > 0\n",
            "<ipython-input-19-7d389308acd4>:19: FutureWarning: Series.__getitem__ treating keys as positions is deprecated. In a future version, integer keys will always be treated as labels (consistent with DataFrame behavior). To access a value by position, use `ser.iloc[pos]`\n",
            "  should_sell = bars['MACD'][-1] < 0 and bars['Pct Change 30m'][-1] < 0\n"
          ]
        },
        {
          "name": "stdout",
          "output_type": "stream",
          "text": [
            "ETH - Is Long: False / Should Buy: False / Should Sell: True\n"
          ]
        },
        {
          "name": "stderr",
          "output_type": "stream",
          "text": [
            "<ipython-input-19-7d389308acd4>:18: FutureWarning: Series.__getitem__ treating keys as positions is deprecated. In a future version, integer keys will always be treated as labels (consistent with DataFrame behavior). To access a value by position, use `ser.iloc[pos]`\n",
            "  should_buy = bars['MACD'][-1] > 0 and bars['Pct Change 30m'][-1] > 0\n",
            "<ipython-input-19-7d389308acd4>:19: FutureWarning: Series.__getitem__ treating keys as positions is deprecated. In a future version, integer keys will always be treated as labels (consistent with DataFrame behavior). To access a value by position, use `ser.iloc[pos]`\n",
            "  should_sell = bars['MACD'][-1] < 0 and bars['Pct Change 30m'][-1] < 0\n"
          ]
        },
        {
          "name": "stdout",
          "output_type": "stream",
          "text": [
            "BNB - Is Long: False / Should Buy: False / Should Sell: False\n"
          ]
        },
        {
          "name": "stderr",
          "output_type": "stream",
          "text": [
            "<ipython-input-19-7d389308acd4>:18: FutureWarning: Series.__getitem__ treating keys as positions is deprecated. In a future version, integer keys will always be treated as labels (consistent with DataFrame behavior). To access a value by position, use `ser.iloc[pos]`\n",
            "  should_buy = bars['MACD'][-1] > 0 and bars['Pct Change 30m'][-1] > 0\n",
            "<ipython-input-19-7d389308acd4>:19: FutureWarning: Series.__getitem__ treating keys as positions is deprecated. In a future version, integer keys will always be treated as labels (consistent with DataFrame behavior). To access a value by position, use `ser.iloc[pos]`\n",
            "  should_sell = bars['MACD'][-1] < 0 and bars['Pct Change 30m'][-1] < 0\n"
          ]
        },
        {
          "name": "stdout",
          "output_type": "stream",
          "text": [
            "XRP - Is Long: False / Should Buy: False / Should Sell: False\n",
            "********************\n"
          ]
        },
        {
          "name": "stderr",
          "output_type": "stream",
          "text": [
            "<ipython-input-19-7d389308acd4>:18: FutureWarning: Series.__getitem__ treating keys as positions is deprecated. In a future version, integer keys will always be treated as labels (consistent with DataFrame behavior). To access a value by position, use `ser.iloc[pos]`\n",
            "  should_buy = bars['MACD'][-1] > 0 and bars['Pct Change 30m'][-1] > 0\n",
            "<ipython-input-19-7d389308acd4>:19: FutureWarning: Series.__getitem__ treating keys as positions is deprecated. In a future version, integer keys will always be treated as labels (consistent with DataFrame behavior). To access a value by position, use `ser.iloc[pos]`\n",
            "  should_sell = bars['MACD'][-1] < 0 and bars['Pct Change 30m'][-1] < 0\n"
          ]
        },
        {
          "name": "stdout",
          "output_type": "stream",
          "text": [
            "BTC - Is Long: True / Should Buy: True / Should Sell: False\n"
          ]
        },
        {
          "name": "stderr",
          "output_type": "stream",
          "text": [
            "<ipython-input-19-7d389308acd4>:18: FutureWarning: Series.__getitem__ treating keys as positions is deprecated. In a future version, integer keys will always be treated as labels (consistent with DataFrame behavior). To access a value by position, use `ser.iloc[pos]`\n",
            "  should_buy = bars['MACD'][-1] > 0 and bars['Pct Change 30m'][-1] > 0\n",
            "<ipython-input-19-7d389308acd4>:19: FutureWarning: Series.__getitem__ treating keys as positions is deprecated. In a future version, integer keys will always be treated as labels (consistent with DataFrame behavior). To access a value by position, use `ser.iloc[pos]`\n",
            "  should_sell = bars['MACD'][-1] < 0 and bars['Pct Change 30m'][-1] < 0\n"
          ]
        },
        {
          "name": "stdout",
          "output_type": "stream",
          "text": [
            "LTC - Is Long: False / Should Buy: False / Should Sell: True\n"
          ]
        },
        {
          "name": "stderr",
          "output_type": "stream",
          "text": [
            "<ipython-input-19-7d389308acd4>:18: FutureWarning: Series.__getitem__ treating keys as positions is deprecated. In a future version, integer keys will always be treated as labels (consistent with DataFrame behavior). To access a value by position, use `ser.iloc[pos]`\n",
            "  should_buy = bars['MACD'][-1] > 0 and bars['Pct Change 30m'][-1] > 0\n",
            "<ipython-input-19-7d389308acd4>:19: FutureWarning: Series.__getitem__ treating keys as positions is deprecated. In a future version, integer keys will always be treated as labels (consistent with DataFrame behavior). To access a value by position, use `ser.iloc[pos]`\n",
            "  should_sell = bars['MACD'][-1] < 0 and bars['Pct Change 30m'][-1] < 0\n"
          ]
        },
        {
          "name": "stdout",
          "output_type": "stream",
          "text": [
            "TRX - Is Long: False / Should Buy: False / Should Sell: True\n"
          ]
        },
        {
          "name": "stderr",
          "output_type": "stream",
          "text": [
            "<ipython-input-19-7d389308acd4>:18: FutureWarning: Series.__getitem__ treating keys as positions is deprecated. In a future version, integer keys will always be treated as labels (consistent with DataFrame behavior). To access a value by position, use `ser.iloc[pos]`\n",
            "  should_buy = bars['MACD'][-1] > 0 and bars['Pct Change 30m'][-1] > 0\n",
            "<ipython-input-19-7d389308acd4>:19: FutureWarning: Series.__getitem__ treating keys as positions is deprecated. In a future version, integer keys will always be treated as labels (consistent with DataFrame behavior). To access a value by position, use `ser.iloc[pos]`\n",
            "  should_sell = bars['MACD'][-1] < 0 and bars['Pct Change 30m'][-1] < 0\n"
          ]
        },
        {
          "name": "stdout",
          "output_type": "stream",
          "text": [
            "ETH - Is Long: False / Should Buy: False / Should Sell: True\n"
          ]
        },
        {
          "name": "stderr",
          "output_type": "stream",
          "text": [
            "<ipython-input-19-7d389308acd4>:18: FutureWarning: Series.__getitem__ treating keys as positions is deprecated. In a future version, integer keys will always be treated as labels (consistent with DataFrame behavior). To access a value by position, use `ser.iloc[pos]`\n",
            "  should_buy = bars['MACD'][-1] > 0 and bars['Pct Change 30m'][-1] > 0\n",
            "<ipython-input-19-7d389308acd4>:19: FutureWarning: Series.__getitem__ treating keys as positions is deprecated. In a future version, integer keys will always be treated as labels (consistent with DataFrame behavior). To access a value by position, use `ser.iloc[pos]`\n",
            "  should_sell = bars['MACD'][-1] < 0 and bars['Pct Change 30m'][-1] < 0\n"
          ]
        },
        {
          "name": "stdout",
          "output_type": "stream",
          "text": [
            "BNB - Is Long: False / Should Buy: False / Should Sell: False\n"
          ]
        },
        {
          "name": "stderr",
          "output_type": "stream",
          "text": [
            "<ipython-input-19-7d389308acd4>:18: FutureWarning: Series.__getitem__ treating keys as positions is deprecated. In a future version, integer keys will always be treated as labels (consistent with DataFrame behavior). To access a value by position, use `ser.iloc[pos]`\n",
            "  should_buy = bars['MACD'][-1] > 0 and bars['Pct Change 30m'][-1] > 0\n",
            "<ipython-input-19-7d389308acd4>:19: FutureWarning: Series.__getitem__ treating keys as positions is deprecated. In a future version, integer keys will always be treated as labels (consistent with DataFrame behavior). To access a value by position, use `ser.iloc[pos]`\n",
            "  should_sell = bars['MACD'][-1] < 0 and bars['Pct Change 30m'][-1] < 0\n"
          ]
        },
        {
          "name": "stdout",
          "output_type": "stream",
          "text": [
            "XRP - Is Long: False / Should Buy: False / Should Sell: False\n",
            "********************\n"
          ]
        },
        {
          "name": "stderr",
          "output_type": "stream",
          "text": [
            "<ipython-input-19-7d389308acd4>:18: FutureWarning: Series.__getitem__ treating keys as positions is deprecated. In a future version, integer keys will always be treated as labels (consistent with DataFrame behavior). To access a value by position, use `ser.iloc[pos]`\n",
            "  should_buy = bars['MACD'][-1] > 0 and bars['Pct Change 30m'][-1] > 0\n",
            "<ipython-input-19-7d389308acd4>:19: FutureWarning: Series.__getitem__ treating keys as positions is deprecated. In a future version, integer keys will always be treated as labels (consistent with DataFrame behavior). To access a value by position, use `ser.iloc[pos]`\n",
            "  should_sell = bars['MACD'][-1] < 0 and bars['Pct Change 30m'][-1] < 0\n"
          ]
        },
        {
          "name": "stdout",
          "output_type": "stream",
          "text": [
            "BTC - Is Long: True / Should Buy: True / Should Sell: False\n"
          ]
        },
        {
          "name": "stderr",
          "output_type": "stream",
          "text": [
            "<ipython-input-19-7d389308acd4>:18: FutureWarning: Series.__getitem__ treating keys as positions is deprecated. In a future version, integer keys will always be treated as labels (consistent with DataFrame behavior). To access a value by position, use `ser.iloc[pos]`\n",
            "  should_buy = bars['MACD'][-1] > 0 and bars['Pct Change 30m'][-1] > 0\n",
            "<ipython-input-19-7d389308acd4>:19: FutureWarning: Series.__getitem__ treating keys as positions is deprecated. In a future version, integer keys will always be treated as labels (consistent with DataFrame behavior). To access a value by position, use `ser.iloc[pos]`\n",
            "  should_sell = bars['MACD'][-1] < 0 and bars['Pct Change 30m'][-1] < 0\n"
          ]
        },
        {
          "name": "stdout",
          "output_type": "stream",
          "text": [
            "LTC - Is Long: False / Should Buy: False / Should Sell: True\n"
          ]
        },
        {
          "name": "stderr",
          "output_type": "stream",
          "text": [
            "<ipython-input-19-7d389308acd4>:18: FutureWarning: Series.__getitem__ treating keys as positions is deprecated. In a future version, integer keys will always be treated as labels (consistent with DataFrame behavior). To access a value by position, use `ser.iloc[pos]`\n",
            "  should_buy = bars['MACD'][-1] > 0 and bars['Pct Change 30m'][-1] > 0\n",
            "<ipython-input-19-7d389308acd4>:19: FutureWarning: Series.__getitem__ treating keys as positions is deprecated. In a future version, integer keys will always be treated as labels (consistent with DataFrame behavior). To access a value by position, use `ser.iloc[pos]`\n",
            "  should_sell = bars['MACD'][-1] < 0 and bars['Pct Change 30m'][-1] < 0\n"
          ]
        },
        {
          "name": "stdout",
          "output_type": "stream",
          "text": [
            "TRX - Is Long: False / Should Buy: False / Should Sell: True\n"
          ]
        },
        {
          "name": "stderr",
          "output_type": "stream",
          "text": [
            "<ipython-input-19-7d389308acd4>:18: FutureWarning: Series.__getitem__ treating keys as positions is deprecated. In a future version, integer keys will always be treated as labels (consistent with DataFrame behavior). To access a value by position, use `ser.iloc[pos]`\n",
            "  should_buy = bars['MACD'][-1] > 0 and bars['Pct Change 30m'][-1] > 0\n",
            "<ipython-input-19-7d389308acd4>:19: FutureWarning: Series.__getitem__ treating keys as positions is deprecated. In a future version, integer keys will always be treated as labels (consistent with DataFrame behavior). To access a value by position, use `ser.iloc[pos]`\n",
            "  should_sell = bars['MACD'][-1] < 0 and bars['Pct Change 30m'][-1] < 0\n"
          ]
        },
        {
          "name": "stdout",
          "output_type": "stream",
          "text": [
            "ETH - Is Long: False / Should Buy: False / Should Sell: True\n"
          ]
        },
        {
          "name": "stderr",
          "output_type": "stream",
          "text": [
            "<ipython-input-19-7d389308acd4>:18: FutureWarning: Series.__getitem__ treating keys as positions is deprecated. In a future version, integer keys will always be treated as labels (consistent with DataFrame behavior). To access a value by position, use `ser.iloc[pos]`\n",
            "  should_buy = bars['MACD'][-1] > 0 and bars['Pct Change 30m'][-1] > 0\n",
            "<ipython-input-19-7d389308acd4>:19: FutureWarning: Series.__getitem__ treating keys as positions is deprecated. In a future version, integer keys will always be treated as labels (consistent with DataFrame behavior). To access a value by position, use `ser.iloc[pos]`\n",
            "  should_sell = bars['MACD'][-1] < 0 and bars['Pct Change 30m'][-1] < 0\n"
          ]
        },
        {
          "name": "stdout",
          "output_type": "stream",
          "text": [
            "BNB - Is Long: False / Should Buy: False / Should Sell: False\n"
          ]
        },
        {
          "name": "stderr",
          "output_type": "stream",
          "text": [
            "<ipython-input-19-7d389308acd4>:18: FutureWarning: Series.__getitem__ treating keys as positions is deprecated. In a future version, integer keys will always be treated as labels (consistent with DataFrame behavior). To access a value by position, use `ser.iloc[pos]`\n",
            "  should_buy = bars['MACD'][-1] > 0 and bars['Pct Change 30m'][-1] > 0\n",
            "<ipython-input-19-7d389308acd4>:19: FutureWarning: Series.__getitem__ treating keys as positions is deprecated. In a future version, integer keys will always be treated as labels (consistent with DataFrame behavior). To access a value by position, use `ser.iloc[pos]`\n",
            "  should_sell = bars['MACD'][-1] < 0 and bars['Pct Change 30m'][-1] < 0\n"
          ]
        },
        {
          "name": "stdout",
          "output_type": "stream",
          "text": [
            "XRP - Is Long: False / Should Buy: False / Should Sell: False\n",
            "********************\n"
          ]
        },
        {
          "name": "stderr",
          "output_type": "stream",
          "text": [
            "<ipython-input-19-7d389308acd4>:18: FutureWarning: Series.__getitem__ treating keys as positions is deprecated. In a future version, integer keys will always be treated as labels (consistent with DataFrame behavior). To access a value by position, use `ser.iloc[pos]`\n",
            "  should_buy = bars['MACD'][-1] > 0 and bars['Pct Change 30m'][-1] > 0\n",
            "<ipython-input-19-7d389308acd4>:19: FutureWarning: Series.__getitem__ treating keys as positions is deprecated. In a future version, integer keys will always be treated as labels (consistent with DataFrame behavior). To access a value by position, use `ser.iloc[pos]`\n",
            "  should_sell = bars['MACD'][-1] < 0 and bars['Pct Change 30m'][-1] < 0\n"
          ]
        },
        {
          "name": "stdout",
          "output_type": "stream",
          "text": [
            "BTC - Is Long: True / Should Buy: False / Should Sell: False\n"
          ]
        },
        {
          "name": "stderr",
          "output_type": "stream",
          "text": [
            "<ipython-input-19-7d389308acd4>:18: FutureWarning: Series.__getitem__ treating keys as positions is deprecated. In a future version, integer keys will always be treated as labels (consistent with DataFrame behavior). To access a value by position, use `ser.iloc[pos]`\n",
            "  should_buy = bars['MACD'][-1] > 0 and bars['Pct Change 30m'][-1] > 0\n",
            "<ipython-input-19-7d389308acd4>:19: FutureWarning: Series.__getitem__ treating keys as positions is deprecated. In a future version, integer keys will always be treated as labels (consistent with DataFrame behavior). To access a value by position, use `ser.iloc[pos]`\n",
            "  should_sell = bars['MACD'][-1] < 0 and bars['Pct Change 30m'][-1] < 0\n"
          ]
        },
        {
          "name": "stdout",
          "output_type": "stream",
          "text": [
            "LTC - Is Long: False / Should Buy: False / Should Sell: True\n"
          ]
        },
        {
          "name": "stderr",
          "output_type": "stream",
          "text": [
            "<ipython-input-19-7d389308acd4>:18: FutureWarning: Series.__getitem__ treating keys as positions is deprecated. In a future version, integer keys will always be treated as labels (consistent with DataFrame behavior). To access a value by position, use `ser.iloc[pos]`\n",
            "  should_buy = bars['MACD'][-1] > 0 and bars['Pct Change 30m'][-1] > 0\n",
            "<ipython-input-19-7d389308acd4>:19: FutureWarning: Series.__getitem__ treating keys as positions is deprecated. In a future version, integer keys will always be treated as labels (consistent with DataFrame behavior). To access a value by position, use `ser.iloc[pos]`\n",
            "  should_sell = bars['MACD'][-1] < 0 and bars['Pct Change 30m'][-1] < 0\n"
          ]
        },
        {
          "name": "stdout",
          "output_type": "stream",
          "text": [
            "TRX - Is Long: False / Should Buy: False / Should Sell: True\n"
          ]
        },
        {
          "name": "stderr",
          "output_type": "stream",
          "text": [
            "<ipython-input-19-7d389308acd4>:18: FutureWarning: Series.__getitem__ treating keys as positions is deprecated. In a future version, integer keys will always be treated as labels (consistent with DataFrame behavior). To access a value by position, use `ser.iloc[pos]`\n",
            "  should_buy = bars['MACD'][-1] > 0 and bars['Pct Change 30m'][-1] > 0\n",
            "<ipython-input-19-7d389308acd4>:19: FutureWarning: Series.__getitem__ treating keys as positions is deprecated. In a future version, integer keys will always be treated as labels (consistent with DataFrame behavior). To access a value by position, use `ser.iloc[pos]`\n",
            "  should_sell = bars['MACD'][-1] < 0 and bars['Pct Change 30m'][-1] < 0\n"
          ]
        },
        {
          "name": "stdout",
          "output_type": "stream",
          "text": [
            "ETH - Is Long: False / Should Buy: False / Should Sell: True\n"
          ]
        },
        {
          "name": "stderr",
          "output_type": "stream",
          "text": [
            "<ipython-input-19-7d389308acd4>:18: FutureWarning: Series.__getitem__ treating keys as positions is deprecated. In a future version, integer keys will always be treated as labels (consistent with DataFrame behavior). To access a value by position, use `ser.iloc[pos]`\n",
            "  should_buy = bars['MACD'][-1] > 0 and bars['Pct Change 30m'][-1] > 0\n",
            "<ipython-input-19-7d389308acd4>:19: FutureWarning: Series.__getitem__ treating keys as positions is deprecated. In a future version, integer keys will always be treated as labels (consistent with DataFrame behavior). To access a value by position, use `ser.iloc[pos]`\n",
            "  should_sell = bars['MACD'][-1] < 0 and bars['Pct Change 30m'][-1] < 0\n"
          ]
        },
        {
          "name": "stdout",
          "output_type": "stream",
          "text": [
            "BNB - Is Long: False / Should Buy: False / Should Sell: False\n"
          ]
        },
        {
          "name": "stderr",
          "output_type": "stream",
          "text": [
            "<ipython-input-19-7d389308acd4>:18: FutureWarning: Series.__getitem__ treating keys as positions is deprecated. In a future version, integer keys will always be treated as labels (consistent with DataFrame behavior). To access a value by position, use `ser.iloc[pos]`\n",
            "  should_buy = bars['MACD'][-1] > 0 and bars['Pct Change 30m'][-1] > 0\n",
            "<ipython-input-19-7d389308acd4>:19: FutureWarning: Series.__getitem__ treating keys as positions is deprecated. In a future version, integer keys will always be treated as labels (consistent with DataFrame behavior). To access a value by position, use `ser.iloc[pos]`\n",
            "  should_sell = bars['MACD'][-1] < 0 and bars['Pct Change 30m'][-1] < 0\n"
          ]
        },
        {
          "name": "stdout",
          "output_type": "stream",
          "text": [
            "XRP - Is Long: False / Should Buy: False / Should Sell: False\n",
            "********************\n"
          ]
        },
        {
          "name": "stderr",
          "output_type": "stream",
          "text": [
            "<ipython-input-19-7d389308acd4>:18: FutureWarning: Series.__getitem__ treating keys as positions is deprecated. In a future version, integer keys will always be treated as labels (consistent with DataFrame behavior). To access a value by position, use `ser.iloc[pos]`\n",
            "  should_buy = bars['MACD'][-1] > 0 and bars['Pct Change 30m'][-1] > 0\n",
            "<ipython-input-19-7d389308acd4>:19: FutureWarning: Series.__getitem__ treating keys as positions is deprecated. In a future version, integer keys will always be treated as labels (consistent with DataFrame behavior). To access a value by position, use `ser.iloc[pos]`\n",
            "  should_sell = bars['MACD'][-1] < 0 and bars['Pct Change 30m'][-1] < 0\n"
          ]
        },
        {
          "name": "stdout",
          "output_type": "stream",
          "text": [
            "BTC - Is Long: True / Should Buy: False / Should Sell: False\n"
          ]
        },
        {
          "name": "stderr",
          "output_type": "stream",
          "text": [
            "<ipython-input-19-7d389308acd4>:18: FutureWarning: Series.__getitem__ treating keys as positions is deprecated. In a future version, integer keys will always be treated as labels (consistent with DataFrame behavior). To access a value by position, use `ser.iloc[pos]`\n",
            "  should_buy = bars['MACD'][-1] > 0 and bars['Pct Change 30m'][-1] > 0\n",
            "<ipython-input-19-7d389308acd4>:19: FutureWarning: Series.__getitem__ treating keys as positions is deprecated. In a future version, integer keys will always be treated as labels (consistent with DataFrame behavior). To access a value by position, use `ser.iloc[pos]`\n",
            "  should_sell = bars['MACD'][-1] < 0 and bars['Pct Change 30m'][-1] < 0\n"
          ]
        },
        {
          "name": "stdout",
          "output_type": "stream",
          "text": [
            "LTC - Is Long: False / Should Buy: False / Should Sell: True\n"
          ]
        },
        {
          "name": "stderr",
          "output_type": "stream",
          "text": [
            "<ipython-input-19-7d389308acd4>:18: FutureWarning: Series.__getitem__ treating keys as positions is deprecated. In a future version, integer keys will always be treated as labels (consistent with DataFrame behavior). To access a value by position, use `ser.iloc[pos]`\n",
            "  should_buy = bars['MACD'][-1] > 0 and bars['Pct Change 30m'][-1] > 0\n",
            "<ipython-input-19-7d389308acd4>:19: FutureWarning: Series.__getitem__ treating keys as positions is deprecated. In a future version, integer keys will always be treated as labels (consistent with DataFrame behavior). To access a value by position, use `ser.iloc[pos]`\n",
            "  should_sell = bars['MACD'][-1] < 0 and bars['Pct Change 30m'][-1] < 0\n"
          ]
        },
        {
          "name": "stdout",
          "output_type": "stream",
          "text": [
            "TRX - Is Long: False / Should Buy: False / Should Sell: True\n"
          ]
        },
        {
          "name": "stderr",
          "output_type": "stream",
          "text": [
            "<ipython-input-19-7d389308acd4>:18: FutureWarning: Series.__getitem__ treating keys as positions is deprecated. In a future version, integer keys will always be treated as labels (consistent with DataFrame behavior). To access a value by position, use `ser.iloc[pos]`\n",
            "  should_buy = bars['MACD'][-1] > 0 and bars['Pct Change 30m'][-1] > 0\n",
            "<ipython-input-19-7d389308acd4>:19: FutureWarning: Series.__getitem__ treating keys as positions is deprecated. In a future version, integer keys will always be treated as labels (consistent with DataFrame behavior). To access a value by position, use `ser.iloc[pos]`\n",
            "  should_sell = bars['MACD'][-1] < 0 and bars['Pct Change 30m'][-1] < 0\n"
          ]
        },
        {
          "name": "stdout",
          "output_type": "stream",
          "text": [
            "ETH - Is Long: False / Should Buy: False / Should Sell: True\n"
          ]
        },
        {
          "name": "stderr",
          "output_type": "stream",
          "text": [
            "<ipython-input-19-7d389308acd4>:18: FutureWarning: Series.__getitem__ treating keys as positions is deprecated. In a future version, integer keys will always be treated as labels (consistent with DataFrame behavior). To access a value by position, use `ser.iloc[pos]`\n",
            "  should_buy = bars['MACD'][-1] > 0 and bars['Pct Change 30m'][-1] > 0\n",
            "<ipython-input-19-7d389308acd4>:19: FutureWarning: Series.__getitem__ treating keys as positions is deprecated. In a future version, integer keys will always be treated as labels (consistent with DataFrame behavior). To access a value by position, use `ser.iloc[pos]`\n",
            "  should_sell = bars['MACD'][-1] < 0 and bars['Pct Change 30m'][-1] < 0\n"
          ]
        },
        {
          "name": "stdout",
          "output_type": "stream",
          "text": [
            "BNB - Is Long: False / Should Buy: False / Should Sell: False\n"
          ]
        },
        {
          "name": "stderr",
          "output_type": "stream",
          "text": [
            "<ipython-input-19-7d389308acd4>:18: FutureWarning: Series.__getitem__ treating keys as positions is deprecated. In a future version, integer keys will always be treated as labels (consistent with DataFrame behavior). To access a value by position, use `ser.iloc[pos]`\n",
            "  should_buy = bars['MACD'][-1] > 0 and bars['Pct Change 30m'][-1] > 0\n",
            "<ipython-input-19-7d389308acd4>:19: FutureWarning: Series.__getitem__ treating keys as positions is deprecated. In a future version, integer keys will always be treated as labels (consistent with DataFrame behavior). To access a value by position, use `ser.iloc[pos]`\n",
            "  should_sell = bars['MACD'][-1] < 0 and bars['Pct Change 30m'][-1] < 0\n"
          ]
        },
        {
          "name": "stdout",
          "output_type": "stream",
          "text": [
            "XRP - Is Long: False / Should Buy: False / Should Sell: False\n"
          ]
        },
        {
          "ename": "KeyboardInterrupt",
          "evalue": "",
          "output_type": "error",
          "traceback": [
            "\u001b[0;31m---------------------------------------------------------------------------\u001b[0m",
            "\u001b[0;31mKeyboardInterrupt\u001b[0m                         Traceback (most recent call last)",
            "\u001b[0;32m<ipython-input-19-7d389308acd4>\u001b[0m in \u001b[0;36m<cell line: 0>\u001b[0;34m()\u001b[0m\n\u001b[1;32m     40\u001b[0m \u001b[0;34m\u001b[0m\u001b[0m\n\u001b[1;32m     41\u001b[0m     \u001b[0;31m# Pause for 10 seconds before iterating again\u001b[0m\u001b[0;34m\u001b[0m\u001b[0;34m\u001b[0m\u001b[0m\n\u001b[0;32m---> 42\u001b[0;31m     \u001b[0mtime\u001b[0m\u001b[0;34m.\u001b[0m\u001b[0msleep\u001b[0m\u001b[0;34m(\u001b[0m\u001b[0;36m10\u001b[0m\u001b[0;34m)\u001b[0m\u001b[0;34m\u001b[0m\u001b[0;34m\u001b[0m\u001b[0m\n\u001b[0m\u001b[1;32m     43\u001b[0m     \u001b[0mprint\u001b[0m\u001b[0;34m(\u001b[0m\u001b[0;34m\"*\"\u001b[0m \u001b[0;34m*\u001b[0m \u001b[0;36m20\u001b[0m\u001b[0;34m)\u001b[0m\u001b[0;34m\u001b[0m\u001b[0;34m\u001b[0m\u001b[0m\n",
            "\u001b[0;31mKeyboardInterrupt\u001b[0m: "
          ]
        }
      ],
      "source": [
        "import time\n",
        "\n",
        "# List of assets to trade with their order sizes\n",
        "assets = [\n",
        "    {'asset': 'BTC', 'is_long': False, 'order_size': 0.0025},\n",
        "    {'asset': 'LTC', 'is_long': False, 'order_size': 100},\n",
        "    {'asset': 'TRX', 'is_long': False, 'order_size': 1000},\n",
        "    {'asset': 'ETH', 'is_long': False, 'order_size': 0.03},\n",
        "    {'asset': 'BNB', 'is_long': False, 'order_size': 0.25},\n",
        "    {'asset': 'XRP', 'is_long': False, 'order_size': 100},\n",
        "]\n",
        "\n",
        "# Function to perform buy or sell based on MACD and percentage change\n",
        "def execute_trade(asset_info):\n",
        "    bars = get_bars(asset=asset_info['asset'])\n",
        "\n",
        "    # Check if we should buy or sell\n",
        "    should_buy = bars['MACD'][-1] > 0 and bars['Pct Change 30m'][-1] > 0\n",
        "    should_sell = bars['MACD'][-1] < 0 and bars['Pct Change 30m'][-1] < 0\n",
        "\n",
        "    print(f\"{asset_info['asset']} - Is Long: {asset_info['is_long']} / Should Buy: {should_buy} / Should Sell: {should_sell}\")\n",
        "\n",
        "    if not asset_info['is_long'] and should_buy:\n",
        "        # Buy the asset\n",
        "        print(f\"Symbol: {asset_info['asset']} / Side: BUY - Indicators suggest a bullish trend (MACD > 0 and 30m % Change > 0)\")\n",
        "\n",
        "        # Update status of our holding\n",
        "        asset_info['is_long'] = True\n",
        "\n",
        "    elif asset_info['is_long'] and should_sell:\n",
        "        # Sell the asset\n",
        "        print(f\"Symbol: {asset_info['asset']} / Side: SELL - Indicators suggest a bearish trend (MACD < 0 and 30m % Change < 0)\")\n",
        "\n",
        "        # Update status of our holding\n",
        "        asset_info['is_long'] = False\n",
        "\n",
        "while True:\n",
        "    for asset in assets:\n",
        "        execute_trade(asset)\n",
        "\n",
        "    # Pause for 10 seconds before iterating again\n",
        "    time.sleep(10)\n",
        "    print(\"*\" * 20)\n"
      ]
    },
    {
      "cell_type": "markdown",
      "metadata": {
        "id": "rTrEEZpHGslE"
      },
      "source": [
        "- `Setup`: You configured the trading environment using Google Colab and connected to Binance using the ccxt and python-binance libraries. This involved fetching historical data and managing API keys securely.\n",
        "\n",
        "- `Data Handling`: You retrieved and processed historical data for various assets, converting it into a pandas DataFrame, and ensured data types were consistent. This included converting timestamps to datetime objects and setting the 'Open time' as the index.\n",
        "\n",
        "- `Technical Indicators`: You calculated key technical indicators such as MACD (Moving Average Convergence Divergence) and percentage price changes to inform your trading strategy.\n",
        "\n",
        "- `Buy/Sell Logic`: Developed logic to determine buy and sell signals based on MACD and percentage price change conditions. These signals help identify bullish and bearish trends for trading decisions.\n",
        "\n",
        "- `Multi-Asset Capability`: Extended the trading bot to handle multiple assets using a list of dictionaries to track each asset's status and order size.\n",
        "\n",
        "- `Prototype Testing`: Built a prototype to simulate the trading logic in a loop, printing out desired behavior for buying and selling without placing real orders, ensuring functionality and debugging."
      ]
    },
    {
      "cell_type": "markdown",
      "metadata": {
        "id": "Hqev6OJ1HUyR"
      },
      "source": []
    },
    {
      "cell_type": "code",
      "execution_count": null,
      "metadata": {
        "colab": {
          "base_uri": "https://localhost:8080/",
          "height": 1000
        },
        "id": "JAjyMCztG_KG",
        "outputId": "5b49e62f-3b10-4ea8-cb70-07697733aa20"
      },
      "outputs": [
        {
          "name": "stderr",
          "output_type": "stream",
          "text": [
            "<ipython-input-20-592de29752fe>:50: FutureWarning: Series.__getitem__ treating keys as positions is deprecated. In a future version, integer keys will always be treated as labels (consistent with DataFrame behavior). To access a value by position, use `ser.iloc[pos]`\n",
            "  should_buy = bars['MACD'][-1] > 0 and bars['Pct Change 30m'][-1] > 0\n",
            "<ipython-input-20-592de29752fe>:51: FutureWarning: Series.__getitem__ treating keys as positions is deprecated. In a future version, integer keys will always be treated as labels (consistent with DataFrame behavior). To access a value by position, use `ser.iloc[pos]`\n",
            "  should_sell = bars['MACD'][-1] < 0 and bars['Pct Change 30m'][-1] < 0\n"
          ]
        },
        {
          "name": "stdout",
          "output_type": "stream",
          "text": [
            "Asset: BTC / Is Long: False / Should Buy: False / Should Sell: False\n"
          ]
        },
        {
          "name": "stderr",
          "output_type": "stream",
          "text": [
            "<ipython-input-20-592de29752fe>:50: FutureWarning: Series.__getitem__ treating keys as positions is deprecated. In a future version, integer keys will always be treated as labels (consistent with DataFrame behavior). To access a value by position, use `ser.iloc[pos]`\n",
            "  should_buy = bars['MACD'][-1] > 0 and bars['Pct Change 30m'][-1] > 0\n",
            "<ipython-input-20-592de29752fe>:51: FutureWarning: Series.__getitem__ treating keys as positions is deprecated. In a future version, integer keys will always be treated as labels (consistent with DataFrame behavior). To access a value by position, use `ser.iloc[pos]`\n",
            "  should_sell = bars['MACD'][-1] < 0 and bars['Pct Change 30m'][-1] < 0\n"
          ]
        },
        {
          "name": "stdout",
          "output_type": "stream",
          "text": [
            "Asset: LTC / Is Long: False / Should Buy: False / Should Sell: True\n"
          ]
        },
        {
          "name": "stderr",
          "output_type": "stream",
          "text": [
            "<ipython-input-20-592de29752fe>:50: FutureWarning: Series.__getitem__ treating keys as positions is deprecated. In a future version, integer keys will always be treated as labels (consistent with DataFrame behavior). To access a value by position, use `ser.iloc[pos]`\n",
            "  should_buy = bars['MACD'][-1] > 0 and bars['Pct Change 30m'][-1] > 0\n",
            "<ipython-input-20-592de29752fe>:51: FutureWarning: Series.__getitem__ treating keys as positions is deprecated. In a future version, integer keys will always be treated as labels (consistent with DataFrame behavior). To access a value by position, use `ser.iloc[pos]`\n",
            "  should_sell = bars['MACD'][-1] < 0 and bars['Pct Change 30m'][-1] < 0\n"
          ]
        },
        {
          "name": "stdout",
          "output_type": "stream",
          "text": [
            "Asset: TRX / Is Long: False / Should Buy: False / Should Sell: True\n"
          ]
        },
        {
          "name": "stderr",
          "output_type": "stream",
          "text": [
            "<ipython-input-20-592de29752fe>:50: FutureWarning: Series.__getitem__ treating keys as positions is deprecated. In a future version, integer keys will always be treated as labels (consistent with DataFrame behavior). To access a value by position, use `ser.iloc[pos]`\n",
            "  should_buy = bars['MACD'][-1] > 0 and bars['Pct Change 30m'][-1] > 0\n",
            "<ipython-input-20-592de29752fe>:51: FutureWarning: Series.__getitem__ treating keys as positions is deprecated. In a future version, integer keys will always be treated as labels (consistent with DataFrame behavior). To access a value by position, use `ser.iloc[pos]`\n",
            "  should_sell = bars['MACD'][-1] < 0 and bars['Pct Change 30m'][-1] < 0\n"
          ]
        },
        {
          "name": "stdout",
          "output_type": "stream",
          "text": [
            "Asset: ETH / Is Long: False / Should Buy: False / Should Sell: True\n"
          ]
        },
        {
          "name": "stderr",
          "output_type": "stream",
          "text": [
            "<ipython-input-20-592de29752fe>:50: FutureWarning: Series.__getitem__ treating keys as positions is deprecated. In a future version, integer keys will always be treated as labels (consistent with DataFrame behavior). To access a value by position, use `ser.iloc[pos]`\n",
            "  should_buy = bars['MACD'][-1] > 0 and bars['Pct Change 30m'][-1] > 0\n",
            "<ipython-input-20-592de29752fe>:51: FutureWarning: Series.__getitem__ treating keys as positions is deprecated. In a future version, integer keys will always be treated as labels (consistent with DataFrame behavior). To access a value by position, use `ser.iloc[pos]`\n",
            "  should_sell = bars['MACD'][-1] < 0 and bars['Pct Change 30m'][-1] < 0\n"
          ]
        },
        {
          "name": "stdout",
          "output_type": "stream",
          "text": [
            "Asset: BNB / Is Long: False / Should Buy: False / Should Sell: False\n"
          ]
        },
        {
          "name": "stderr",
          "output_type": "stream",
          "text": [
            "<ipython-input-20-592de29752fe>:50: FutureWarning: Series.__getitem__ treating keys as positions is deprecated. In a future version, integer keys will always be treated as labels (consistent with DataFrame behavior). To access a value by position, use `ser.iloc[pos]`\n",
            "  should_buy = bars['MACD'][-1] > 0 and bars['Pct Change 30m'][-1] > 0\n",
            "<ipython-input-20-592de29752fe>:51: FutureWarning: Series.__getitem__ treating keys as positions is deprecated. In a future version, integer keys will always be treated as labels (consistent with DataFrame behavior). To access a value by position, use `ser.iloc[pos]`\n",
            "  should_sell = bars['MACD'][-1] < 0 and bars['Pct Change 30m'][-1] < 0\n"
          ]
        },
        {
          "name": "stdout",
          "output_type": "stream",
          "text": [
            "Asset: XRP / Is Long: False / Should Buy: False / Should Sell: False\n",
            "Iteration ended\n",
            "[{'asset': 'BTC', 'is_long': False, 'order_size': 0.0025}, {'asset': 'LTC', 'is_long': False, 'order_size': 100}, {'asset': 'TRX', 'is_long': False, 'order_size': 1000}, {'asset': 'ETH', 'is_long': False, 'order_size': 0.03}, {'asset': 'BNB', 'is_long': False, 'order_size': 0.25}, {'asset': 'XRP', 'is_long': False, 'order_size': 100}]\n",
            "********************\n"
          ]
        },
        {
          "name": "stderr",
          "output_type": "stream",
          "text": [
            "<ipython-input-20-592de29752fe>:50: FutureWarning: Series.__getitem__ treating keys as positions is deprecated. In a future version, integer keys will always be treated as labels (consistent with DataFrame behavior). To access a value by position, use `ser.iloc[pos]`\n",
            "  should_buy = bars['MACD'][-1] > 0 and bars['Pct Change 30m'][-1] > 0\n",
            "<ipython-input-20-592de29752fe>:51: FutureWarning: Series.__getitem__ treating keys as positions is deprecated. In a future version, integer keys will always be treated as labels (consistent with DataFrame behavior). To access a value by position, use `ser.iloc[pos]`\n",
            "  should_sell = bars['MACD'][-1] < 0 and bars['Pct Change 30m'][-1] < 0\n"
          ]
        },
        {
          "name": "stdout",
          "output_type": "stream",
          "text": [
            "Asset: BTC / Is Long: False / Should Buy: False / Should Sell: False\n"
          ]
        },
        {
          "name": "stderr",
          "output_type": "stream",
          "text": [
            "<ipython-input-20-592de29752fe>:50: FutureWarning: Series.__getitem__ treating keys as positions is deprecated. In a future version, integer keys will always be treated as labels (consistent with DataFrame behavior). To access a value by position, use `ser.iloc[pos]`\n",
            "  should_buy = bars['MACD'][-1] > 0 and bars['Pct Change 30m'][-1] > 0\n",
            "<ipython-input-20-592de29752fe>:51: FutureWarning: Series.__getitem__ treating keys as positions is deprecated. In a future version, integer keys will always be treated as labels (consistent with DataFrame behavior). To access a value by position, use `ser.iloc[pos]`\n",
            "  should_sell = bars['MACD'][-1] < 0 and bars['Pct Change 30m'][-1] < 0\n"
          ]
        },
        {
          "name": "stdout",
          "output_type": "stream",
          "text": [
            "Asset: LTC / Is Long: False / Should Buy: False / Should Sell: True\n"
          ]
        },
        {
          "name": "stderr",
          "output_type": "stream",
          "text": [
            "<ipython-input-20-592de29752fe>:50: FutureWarning: Series.__getitem__ treating keys as positions is deprecated. In a future version, integer keys will always be treated as labels (consistent with DataFrame behavior). To access a value by position, use `ser.iloc[pos]`\n",
            "  should_buy = bars['MACD'][-1] > 0 and bars['Pct Change 30m'][-1] > 0\n",
            "<ipython-input-20-592de29752fe>:51: FutureWarning: Series.__getitem__ treating keys as positions is deprecated. In a future version, integer keys will always be treated as labels (consistent with DataFrame behavior). To access a value by position, use `ser.iloc[pos]`\n",
            "  should_sell = bars['MACD'][-1] < 0 and bars['Pct Change 30m'][-1] < 0\n"
          ]
        },
        {
          "name": "stdout",
          "output_type": "stream",
          "text": [
            "Asset: TRX / Is Long: False / Should Buy: False / Should Sell: True\n"
          ]
        },
        {
          "name": "stderr",
          "output_type": "stream",
          "text": [
            "<ipython-input-20-592de29752fe>:50: FutureWarning: Series.__getitem__ treating keys as positions is deprecated. In a future version, integer keys will always be treated as labels (consistent with DataFrame behavior). To access a value by position, use `ser.iloc[pos]`\n",
            "  should_buy = bars['MACD'][-1] > 0 and bars['Pct Change 30m'][-1] > 0\n",
            "<ipython-input-20-592de29752fe>:51: FutureWarning: Series.__getitem__ treating keys as positions is deprecated. In a future version, integer keys will always be treated as labels (consistent with DataFrame behavior). To access a value by position, use `ser.iloc[pos]`\n",
            "  should_sell = bars['MACD'][-1] < 0 and bars['Pct Change 30m'][-1] < 0\n"
          ]
        },
        {
          "name": "stdout",
          "output_type": "stream",
          "text": [
            "Asset: ETH / Is Long: False / Should Buy: False / Should Sell: True\n"
          ]
        },
        {
          "name": "stderr",
          "output_type": "stream",
          "text": [
            "<ipython-input-20-592de29752fe>:50: FutureWarning: Series.__getitem__ treating keys as positions is deprecated. In a future version, integer keys will always be treated as labels (consistent with DataFrame behavior). To access a value by position, use `ser.iloc[pos]`\n",
            "  should_buy = bars['MACD'][-1] > 0 and bars['Pct Change 30m'][-1] > 0\n",
            "<ipython-input-20-592de29752fe>:51: FutureWarning: Series.__getitem__ treating keys as positions is deprecated. In a future version, integer keys will always be treated as labels (consistent with DataFrame behavior). To access a value by position, use `ser.iloc[pos]`\n",
            "  should_sell = bars['MACD'][-1] < 0 and bars['Pct Change 30m'][-1] < 0\n"
          ]
        },
        {
          "name": "stdout",
          "output_type": "stream",
          "text": [
            "Asset: BNB / Is Long: False / Should Buy: False / Should Sell: False\n"
          ]
        },
        {
          "name": "stderr",
          "output_type": "stream",
          "text": [
            "<ipython-input-20-592de29752fe>:50: FutureWarning: Series.__getitem__ treating keys as positions is deprecated. In a future version, integer keys will always be treated as labels (consistent with DataFrame behavior). To access a value by position, use `ser.iloc[pos]`\n",
            "  should_buy = bars['MACD'][-1] > 0 and bars['Pct Change 30m'][-1] > 0\n",
            "<ipython-input-20-592de29752fe>:51: FutureWarning: Series.__getitem__ treating keys as positions is deprecated. In a future version, integer keys will always be treated as labels (consistent with DataFrame behavior). To access a value by position, use `ser.iloc[pos]`\n",
            "  should_sell = bars['MACD'][-1] < 0 and bars['Pct Change 30m'][-1] < 0\n"
          ]
        },
        {
          "name": "stdout",
          "output_type": "stream",
          "text": [
            "Asset: XRP / Is Long: False / Should Buy: False / Should Sell: False\n",
            "Iteration ended\n",
            "[{'asset': 'BTC', 'is_long': False, 'order_size': 0.0025}, {'asset': 'LTC', 'is_long': False, 'order_size': 100}, {'asset': 'TRX', 'is_long': False, 'order_size': 1000}, {'asset': 'ETH', 'is_long': False, 'order_size': 0.03}, {'asset': 'BNB', 'is_long': False, 'order_size': 0.25}, {'asset': 'XRP', 'is_long': False, 'order_size': 100}]\n",
            "********************\n"
          ]
        },
        {
          "name": "stderr",
          "output_type": "stream",
          "text": [
            "<ipython-input-20-592de29752fe>:50: FutureWarning: Series.__getitem__ treating keys as positions is deprecated. In a future version, integer keys will always be treated as labels (consistent with DataFrame behavior). To access a value by position, use `ser.iloc[pos]`\n",
            "  should_buy = bars['MACD'][-1] > 0 and bars['Pct Change 30m'][-1] > 0\n",
            "<ipython-input-20-592de29752fe>:51: FutureWarning: Series.__getitem__ treating keys as positions is deprecated. In a future version, integer keys will always be treated as labels (consistent with DataFrame behavior). To access a value by position, use `ser.iloc[pos]`\n",
            "  should_sell = bars['MACD'][-1] < 0 and bars['Pct Change 30m'][-1] < 0\n"
          ]
        },
        {
          "name": "stdout",
          "output_type": "stream",
          "text": [
            "Asset: BTC / Is Long: False / Should Buy: False / Should Sell: False\n"
          ]
        },
        {
          "name": "stderr",
          "output_type": "stream",
          "text": [
            "<ipython-input-20-592de29752fe>:50: FutureWarning: Series.__getitem__ treating keys as positions is deprecated. In a future version, integer keys will always be treated as labels (consistent with DataFrame behavior). To access a value by position, use `ser.iloc[pos]`\n",
            "  should_buy = bars['MACD'][-1] > 0 and bars['Pct Change 30m'][-1] > 0\n",
            "<ipython-input-20-592de29752fe>:51: FutureWarning: Series.__getitem__ treating keys as positions is deprecated. In a future version, integer keys will always be treated as labels (consistent with DataFrame behavior). To access a value by position, use `ser.iloc[pos]`\n",
            "  should_sell = bars['MACD'][-1] < 0 and bars['Pct Change 30m'][-1] < 0\n"
          ]
        },
        {
          "name": "stdout",
          "output_type": "stream",
          "text": [
            "Asset: LTC / Is Long: False / Should Buy: False / Should Sell: True\n"
          ]
        },
        {
          "name": "stderr",
          "output_type": "stream",
          "text": [
            "<ipython-input-20-592de29752fe>:50: FutureWarning: Series.__getitem__ treating keys as positions is deprecated. In a future version, integer keys will always be treated as labels (consistent with DataFrame behavior). To access a value by position, use `ser.iloc[pos]`\n",
            "  should_buy = bars['MACD'][-1] > 0 and bars['Pct Change 30m'][-1] > 0\n",
            "<ipython-input-20-592de29752fe>:51: FutureWarning: Series.__getitem__ treating keys as positions is deprecated. In a future version, integer keys will always be treated as labels (consistent with DataFrame behavior). To access a value by position, use `ser.iloc[pos]`\n",
            "  should_sell = bars['MACD'][-1] < 0 and bars['Pct Change 30m'][-1] < 0\n"
          ]
        },
        {
          "name": "stdout",
          "output_type": "stream",
          "text": [
            "Asset: TRX / Is Long: False / Should Buy: False / Should Sell: True\n"
          ]
        },
        {
          "name": "stderr",
          "output_type": "stream",
          "text": [
            "<ipython-input-20-592de29752fe>:50: FutureWarning: Series.__getitem__ treating keys as positions is deprecated. In a future version, integer keys will always be treated as labels (consistent with DataFrame behavior). To access a value by position, use `ser.iloc[pos]`\n",
            "  should_buy = bars['MACD'][-1] > 0 and bars['Pct Change 30m'][-1] > 0\n",
            "<ipython-input-20-592de29752fe>:51: FutureWarning: Series.__getitem__ treating keys as positions is deprecated. In a future version, integer keys will always be treated as labels (consistent with DataFrame behavior). To access a value by position, use `ser.iloc[pos]`\n",
            "  should_sell = bars['MACD'][-1] < 0 and bars['Pct Change 30m'][-1] < 0\n"
          ]
        },
        {
          "name": "stdout",
          "output_type": "stream",
          "text": [
            "Asset: ETH / Is Long: False / Should Buy: False / Should Sell: True\n"
          ]
        },
        {
          "name": "stderr",
          "output_type": "stream",
          "text": [
            "<ipython-input-20-592de29752fe>:50: FutureWarning: Series.__getitem__ treating keys as positions is deprecated. In a future version, integer keys will always be treated as labels (consistent with DataFrame behavior). To access a value by position, use `ser.iloc[pos]`\n",
            "  should_buy = bars['MACD'][-1] > 0 and bars['Pct Change 30m'][-1] > 0\n",
            "<ipython-input-20-592de29752fe>:51: FutureWarning: Series.__getitem__ treating keys as positions is deprecated. In a future version, integer keys will always be treated as labels (consistent with DataFrame behavior). To access a value by position, use `ser.iloc[pos]`\n",
            "  should_sell = bars['MACD'][-1] < 0 and bars['Pct Change 30m'][-1] < 0\n"
          ]
        },
        {
          "name": "stdout",
          "output_type": "stream",
          "text": [
            "Asset: BNB / Is Long: False / Should Buy: False / Should Sell: False\n"
          ]
        },
        {
          "name": "stderr",
          "output_type": "stream",
          "text": [
            "<ipython-input-20-592de29752fe>:50: FutureWarning: Series.__getitem__ treating keys as positions is deprecated. In a future version, integer keys will always be treated as labels (consistent with DataFrame behavior). To access a value by position, use `ser.iloc[pos]`\n",
            "  should_buy = bars['MACD'][-1] > 0 and bars['Pct Change 30m'][-1] > 0\n",
            "<ipython-input-20-592de29752fe>:51: FutureWarning: Series.__getitem__ treating keys as positions is deprecated. In a future version, integer keys will always be treated as labels (consistent with DataFrame behavior). To access a value by position, use `ser.iloc[pos]`\n",
            "  should_sell = bars['MACD'][-1] < 0 and bars['Pct Change 30m'][-1] < 0\n"
          ]
        },
        {
          "name": "stdout",
          "output_type": "stream",
          "text": [
            "Asset: XRP / Is Long: False / Should Buy: False / Should Sell: False\n",
            "Iteration ended\n",
            "[{'asset': 'BTC', 'is_long': False, 'order_size': 0.0025}, {'asset': 'LTC', 'is_long': False, 'order_size': 100}, {'asset': 'TRX', 'is_long': False, 'order_size': 1000}, {'asset': 'ETH', 'is_long': False, 'order_size': 0.03}, {'asset': 'BNB', 'is_long': False, 'order_size': 0.25}, {'asset': 'XRP', 'is_long': False, 'order_size': 100}]\n",
            "********************\n"
          ]
        },
        {
          "name": "stderr",
          "output_type": "stream",
          "text": [
            "<ipython-input-20-592de29752fe>:50: FutureWarning: Series.__getitem__ treating keys as positions is deprecated. In a future version, integer keys will always be treated as labels (consistent with DataFrame behavior). To access a value by position, use `ser.iloc[pos]`\n",
            "  should_buy = bars['MACD'][-1] > 0 and bars['Pct Change 30m'][-1] > 0\n",
            "<ipython-input-20-592de29752fe>:51: FutureWarning: Series.__getitem__ treating keys as positions is deprecated. In a future version, integer keys will always be treated as labels (consistent with DataFrame behavior). To access a value by position, use `ser.iloc[pos]`\n",
            "  should_sell = bars['MACD'][-1] < 0 and bars['Pct Change 30m'][-1] < 0\n"
          ]
        },
        {
          "name": "stdout",
          "output_type": "stream",
          "text": [
            "Asset: BTC / Is Long: False / Should Buy: False / Should Sell: False\n"
          ]
        },
        {
          "name": "stderr",
          "output_type": "stream",
          "text": [
            "<ipython-input-20-592de29752fe>:50: FutureWarning: Series.__getitem__ treating keys as positions is deprecated. In a future version, integer keys will always be treated as labels (consistent with DataFrame behavior). To access a value by position, use `ser.iloc[pos]`\n",
            "  should_buy = bars['MACD'][-1] > 0 and bars['Pct Change 30m'][-1] > 0\n",
            "<ipython-input-20-592de29752fe>:51: FutureWarning: Series.__getitem__ treating keys as positions is deprecated. In a future version, integer keys will always be treated as labels (consistent with DataFrame behavior). To access a value by position, use `ser.iloc[pos]`\n",
            "  should_sell = bars['MACD'][-1] < 0 and bars['Pct Change 30m'][-1] < 0\n"
          ]
        },
        {
          "name": "stdout",
          "output_type": "stream",
          "text": [
            "Asset: LTC / Is Long: False / Should Buy: False / Should Sell: True\n"
          ]
        },
        {
          "name": "stderr",
          "output_type": "stream",
          "text": [
            "<ipython-input-20-592de29752fe>:50: FutureWarning: Series.__getitem__ treating keys as positions is deprecated. In a future version, integer keys will always be treated as labels (consistent with DataFrame behavior). To access a value by position, use `ser.iloc[pos]`\n",
            "  should_buy = bars['MACD'][-1] > 0 and bars['Pct Change 30m'][-1] > 0\n",
            "<ipython-input-20-592de29752fe>:51: FutureWarning: Series.__getitem__ treating keys as positions is deprecated. In a future version, integer keys will always be treated as labels (consistent with DataFrame behavior). To access a value by position, use `ser.iloc[pos]`\n",
            "  should_sell = bars['MACD'][-1] < 0 and bars['Pct Change 30m'][-1] < 0\n"
          ]
        },
        {
          "name": "stdout",
          "output_type": "stream",
          "text": [
            "Asset: TRX / Is Long: False / Should Buy: False / Should Sell: True\n"
          ]
        },
        {
          "name": "stderr",
          "output_type": "stream",
          "text": [
            "<ipython-input-20-592de29752fe>:50: FutureWarning: Series.__getitem__ treating keys as positions is deprecated. In a future version, integer keys will always be treated as labels (consistent with DataFrame behavior). To access a value by position, use `ser.iloc[pos]`\n",
            "  should_buy = bars['MACD'][-1] > 0 and bars['Pct Change 30m'][-1] > 0\n",
            "<ipython-input-20-592de29752fe>:51: FutureWarning: Series.__getitem__ treating keys as positions is deprecated. In a future version, integer keys will always be treated as labels (consistent with DataFrame behavior). To access a value by position, use `ser.iloc[pos]`\n",
            "  should_sell = bars['MACD'][-1] < 0 and bars['Pct Change 30m'][-1] < 0\n"
          ]
        },
        {
          "name": "stdout",
          "output_type": "stream",
          "text": [
            "Asset: ETH / Is Long: False / Should Buy: False / Should Sell: True\n"
          ]
        },
        {
          "name": "stderr",
          "output_type": "stream",
          "text": [
            "<ipython-input-20-592de29752fe>:50: FutureWarning: Series.__getitem__ treating keys as positions is deprecated. In a future version, integer keys will always be treated as labels (consistent with DataFrame behavior). To access a value by position, use `ser.iloc[pos]`\n",
            "  should_buy = bars['MACD'][-1] > 0 and bars['Pct Change 30m'][-1] > 0\n",
            "<ipython-input-20-592de29752fe>:51: FutureWarning: Series.__getitem__ treating keys as positions is deprecated. In a future version, integer keys will always be treated as labels (consistent with DataFrame behavior). To access a value by position, use `ser.iloc[pos]`\n",
            "  should_sell = bars['MACD'][-1] < 0 and bars['Pct Change 30m'][-1] < 0\n"
          ]
        },
        {
          "name": "stdout",
          "output_type": "stream",
          "text": [
            "Asset: BNB / Is Long: False / Should Buy: False / Should Sell: False\n"
          ]
        },
        {
          "name": "stderr",
          "output_type": "stream",
          "text": [
            "<ipython-input-20-592de29752fe>:50: FutureWarning: Series.__getitem__ treating keys as positions is deprecated. In a future version, integer keys will always be treated as labels (consistent with DataFrame behavior). To access a value by position, use `ser.iloc[pos]`\n",
            "  should_buy = bars['MACD'][-1] > 0 and bars['Pct Change 30m'][-1] > 0\n",
            "<ipython-input-20-592de29752fe>:51: FutureWarning: Series.__getitem__ treating keys as positions is deprecated. In a future version, integer keys will always be treated as labels (consistent with DataFrame behavior). To access a value by position, use `ser.iloc[pos]`\n",
            "  should_sell = bars['MACD'][-1] < 0 and bars['Pct Change 30m'][-1] < 0\n"
          ]
        },
        {
          "name": "stdout",
          "output_type": "stream",
          "text": [
            "Asset: XRP / Is Long: False / Should Buy: False / Should Sell: True\n",
            "Iteration ended\n",
            "[{'asset': 'BTC', 'is_long': False, 'order_size': 0.0025}, {'asset': 'LTC', 'is_long': False, 'order_size': 100}, {'asset': 'TRX', 'is_long': False, 'order_size': 1000}, {'asset': 'ETH', 'is_long': False, 'order_size': 0.03}, {'asset': 'BNB', 'is_long': False, 'order_size': 0.25}, {'asset': 'XRP', 'is_long': False, 'order_size': 100}]\n",
            "********************\n"
          ]
        },
        {
          "name": "stderr",
          "output_type": "stream",
          "text": [
            "<ipython-input-20-592de29752fe>:50: FutureWarning: Series.__getitem__ treating keys as positions is deprecated. In a future version, integer keys will always be treated as labels (consistent with DataFrame behavior). To access a value by position, use `ser.iloc[pos]`\n",
            "  should_buy = bars['MACD'][-1] > 0 and bars['Pct Change 30m'][-1] > 0\n",
            "<ipython-input-20-592de29752fe>:51: FutureWarning: Series.__getitem__ treating keys as positions is deprecated. In a future version, integer keys will always be treated as labels (consistent with DataFrame behavior). To access a value by position, use `ser.iloc[pos]`\n",
            "  should_sell = bars['MACD'][-1] < 0 and bars['Pct Change 30m'][-1] < 0\n"
          ]
        },
        {
          "name": "stdout",
          "output_type": "stream",
          "text": [
            "Asset: BTC / Is Long: False / Should Buy: False / Should Sell: False\n"
          ]
        },
        {
          "name": "stderr",
          "output_type": "stream",
          "text": [
            "<ipython-input-20-592de29752fe>:50: FutureWarning: Series.__getitem__ treating keys as positions is deprecated. In a future version, integer keys will always be treated as labels (consistent with DataFrame behavior). To access a value by position, use `ser.iloc[pos]`\n",
            "  should_buy = bars['MACD'][-1] > 0 and bars['Pct Change 30m'][-1] > 0\n",
            "<ipython-input-20-592de29752fe>:51: FutureWarning: Series.__getitem__ treating keys as positions is deprecated. In a future version, integer keys will always be treated as labels (consistent with DataFrame behavior). To access a value by position, use `ser.iloc[pos]`\n",
            "  should_sell = bars['MACD'][-1] < 0 and bars['Pct Change 30m'][-1] < 0\n"
          ]
        },
        {
          "name": "stdout",
          "output_type": "stream",
          "text": [
            "Asset: LTC / Is Long: False / Should Buy: False / Should Sell: True\n"
          ]
        },
        {
          "name": "stderr",
          "output_type": "stream",
          "text": [
            "<ipython-input-20-592de29752fe>:50: FutureWarning: Series.__getitem__ treating keys as positions is deprecated. In a future version, integer keys will always be treated as labels (consistent with DataFrame behavior). To access a value by position, use `ser.iloc[pos]`\n",
            "  should_buy = bars['MACD'][-1] > 0 and bars['Pct Change 30m'][-1] > 0\n",
            "<ipython-input-20-592de29752fe>:51: FutureWarning: Series.__getitem__ treating keys as positions is deprecated. In a future version, integer keys will always be treated as labels (consistent with DataFrame behavior). To access a value by position, use `ser.iloc[pos]`\n",
            "  should_sell = bars['MACD'][-1] < 0 and bars['Pct Change 30m'][-1] < 0\n"
          ]
        },
        {
          "name": "stdout",
          "output_type": "stream",
          "text": [
            "Asset: TRX / Is Long: False / Should Buy: False / Should Sell: True\n"
          ]
        },
        {
          "name": "stderr",
          "output_type": "stream",
          "text": [
            "<ipython-input-20-592de29752fe>:50: FutureWarning: Series.__getitem__ treating keys as positions is deprecated. In a future version, integer keys will always be treated as labels (consistent with DataFrame behavior). To access a value by position, use `ser.iloc[pos]`\n",
            "  should_buy = bars['MACD'][-1] > 0 and bars['Pct Change 30m'][-1] > 0\n",
            "<ipython-input-20-592de29752fe>:51: FutureWarning: Series.__getitem__ treating keys as positions is deprecated. In a future version, integer keys will always be treated as labels (consistent with DataFrame behavior). To access a value by position, use `ser.iloc[pos]`\n",
            "  should_sell = bars['MACD'][-1] < 0 and bars['Pct Change 30m'][-1] < 0\n"
          ]
        },
        {
          "name": "stdout",
          "output_type": "stream",
          "text": [
            "Asset: ETH / Is Long: False / Should Buy: False / Should Sell: True\n"
          ]
        },
        {
          "name": "stderr",
          "output_type": "stream",
          "text": [
            "<ipython-input-20-592de29752fe>:50: FutureWarning: Series.__getitem__ treating keys as positions is deprecated. In a future version, integer keys will always be treated as labels (consistent with DataFrame behavior). To access a value by position, use `ser.iloc[pos]`\n",
            "  should_buy = bars['MACD'][-1] > 0 and bars['Pct Change 30m'][-1] > 0\n",
            "<ipython-input-20-592de29752fe>:51: FutureWarning: Series.__getitem__ treating keys as positions is deprecated. In a future version, integer keys will always be treated as labels (consistent with DataFrame behavior). To access a value by position, use `ser.iloc[pos]`\n",
            "  should_sell = bars['MACD'][-1] < 0 and bars['Pct Change 30m'][-1] < 0\n"
          ]
        },
        {
          "name": "stdout",
          "output_type": "stream",
          "text": [
            "Asset: BNB / Is Long: False / Should Buy: False / Should Sell: False\n"
          ]
        },
        {
          "name": "stderr",
          "output_type": "stream",
          "text": [
            "<ipython-input-20-592de29752fe>:50: FutureWarning: Series.__getitem__ treating keys as positions is deprecated. In a future version, integer keys will always be treated as labels (consistent with DataFrame behavior). To access a value by position, use `ser.iloc[pos]`\n",
            "  should_buy = bars['MACD'][-1] > 0 and bars['Pct Change 30m'][-1] > 0\n",
            "<ipython-input-20-592de29752fe>:51: FutureWarning: Series.__getitem__ treating keys as positions is deprecated. In a future version, integer keys will always be treated as labels (consistent with DataFrame behavior). To access a value by position, use `ser.iloc[pos]`\n",
            "  should_sell = bars['MACD'][-1] < 0 and bars['Pct Change 30m'][-1] < 0\n"
          ]
        },
        {
          "name": "stdout",
          "output_type": "stream",
          "text": [
            "Asset: XRP / Is Long: False / Should Buy: False / Should Sell: True\n",
            "Iteration ended\n",
            "[{'asset': 'BTC', 'is_long': False, 'order_size': 0.0025}, {'asset': 'LTC', 'is_long': False, 'order_size': 100}, {'asset': 'TRX', 'is_long': False, 'order_size': 1000}, {'asset': 'ETH', 'is_long': False, 'order_size': 0.03}, {'asset': 'BNB', 'is_long': False, 'order_size': 0.25}, {'asset': 'XRP', 'is_long': False, 'order_size': 100}]\n",
            "********************\n"
          ]
        },
        {
          "name": "stderr",
          "output_type": "stream",
          "text": [
            "<ipython-input-20-592de29752fe>:50: FutureWarning: Series.__getitem__ treating keys as positions is deprecated. In a future version, integer keys will always be treated as labels (consistent with DataFrame behavior). To access a value by position, use `ser.iloc[pos]`\n",
            "  should_buy = bars['MACD'][-1] > 0 and bars['Pct Change 30m'][-1] > 0\n",
            "<ipython-input-20-592de29752fe>:51: FutureWarning: Series.__getitem__ treating keys as positions is deprecated. In a future version, integer keys will always be treated as labels (consistent with DataFrame behavior). To access a value by position, use `ser.iloc[pos]`\n",
            "  should_sell = bars['MACD'][-1] < 0 and bars['Pct Change 30m'][-1] < 0\n"
          ]
        },
        {
          "name": "stdout",
          "output_type": "stream",
          "text": [
            "Asset: BTC / Is Long: False / Should Buy: False / Should Sell: False\n"
          ]
        },
        {
          "name": "stderr",
          "output_type": "stream",
          "text": [
            "<ipython-input-20-592de29752fe>:50: FutureWarning: Series.__getitem__ treating keys as positions is deprecated. In a future version, integer keys will always be treated as labels (consistent with DataFrame behavior). To access a value by position, use `ser.iloc[pos]`\n",
            "  should_buy = bars['MACD'][-1] > 0 and bars['Pct Change 30m'][-1] > 0\n",
            "<ipython-input-20-592de29752fe>:51: FutureWarning: Series.__getitem__ treating keys as positions is deprecated. In a future version, integer keys will always be treated as labels (consistent with DataFrame behavior). To access a value by position, use `ser.iloc[pos]`\n",
            "  should_sell = bars['MACD'][-1] < 0 and bars['Pct Change 30m'][-1] < 0\n"
          ]
        },
        {
          "name": "stdout",
          "output_type": "stream",
          "text": [
            "Asset: LTC / Is Long: False / Should Buy: False / Should Sell: True\n"
          ]
        },
        {
          "name": "stderr",
          "output_type": "stream",
          "text": [
            "<ipython-input-20-592de29752fe>:50: FutureWarning: Series.__getitem__ treating keys as positions is deprecated. In a future version, integer keys will always be treated as labels (consistent with DataFrame behavior). To access a value by position, use `ser.iloc[pos]`\n",
            "  should_buy = bars['MACD'][-1] > 0 and bars['Pct Change 30m'][-1] > 0\n",
            "<ipython-input-20-592de29752fe>:51: FutureWarning: Series.__getitem__ treating keys as positions is deprecated. In a future version, integer keys will always be treated as labels (consistent with DataFrame behavior). To access a value by position, use `ser.iloc[pos]`\n",
            "  should_sell = bars['MACD'][-1] < 0 and bars['Pct Change 30m'][-1] < 0\n"
          ]
        },
        {
          "name": "stdout",
          "output_type": "stream",
          "text": [
            "Asset: TRX / Is Long: False / Should Buy: False / Should Sell: True\n"
          ]
        },
        {
          "name": "stderr",
          "output_type": "stream",
          "text": [
            "<ipython-input-20-592de29752fe>:50: FutureWarning: Series.__getitem__ treating keys as positions is deprecated. In a future version, integer keys will always be treated as labels (consistent with DataFrame behavior). To access a value by position, use `ser.iloc[pos]`\n",
            "  should_buy = bars['MACD'][-1] > 0 and bars['Pct Change 30m'][-1] > 0\n",
            "<ipython-input-20-592de29752fe>:51: FutureWarning: Series.__getitem__ treating keys as positions is deprecated. In a future version, integer keys will always be treated as labels (consistent with DataFrame behavior). To access a value by position, use `ser.iloc[pos]`\n",
            "  should_sell = bars['MACD'][-1] < 0 and bars['Pct Change 30m'][-1] < 0\n"
          ]
        },
        {
          "name": "stdout",
          "output_type": "stream",
          "text": [
            "Asset: ETH / Is Long: False / Should Buy: False / Should Sell: True\n"
          ]
        },
        {
          "name": "stderr",
          "output_type": "stream",
          "text": [
            "<ipython-input-20-592de29752fe>:50: FutureWarning: Series.__getitem__ treating keys as positions is deprecated. In a future version, integer keys will always be treated as labels (consistent with DataFrame behavior). To access a value by position, use `ser.iloc[pos]`\n",
            "  should_buy = bars['MACD'][-1] > 0 and bars['Pct Change 30m'][-1] > 0\n",
            "<ipython-input-20-592de29752fe>:51: FutureWarning: Series.__getitem__ treating keys as positions is deprecated. In a future version, integer keys will always be treated as labels (consistent with DataFrame behavior). To access a value by position, use `ser.iloc[pos]`\n",
            "  should_sell = bars['MACD'][-1] < 0 and bars['Pct Change 30m'][-1] < 0\n"
          ]
        },
        {
          "name": "stdout",
          "output_type": "stream",
          "text": [
            "Asset: BNB / Is Long: False / Should Buy: False / Should Sell: False\n"
          ]
        },
        {
          "name": "stderr",
          "output_type": "stream",
          "text": [
            "<ipython-input-20-592de29752fe>:50: FutureWarning: Series.__getitem__ treating keys as positions is deprecated. In a future version, integer keys will always be treated as labels (consistent with DataFrame behavior). To access a value by position, use `ser.iloc[pos]`\n",
            "  should_buy = bars['MACD'][-1] > 0 and bars['Pct Change 30m'][-1] > 0\n",
            "<ipython-input-20-592de29752fe>:51: FutureWarning: Series.__getitem__ treating keys as positions is deprecated. In a future version, integer keys will always be treated as labels (consistent with DataFrame behavior). To access a value by position, use `ser.iloc[pos]`\n",
            "  should_sell = bars['MACD'][-1] < 0 and bars['Pct Change 30m'][-1] < 0\n"
          ]
        },
        {
          "name": "stdout",
          "output_type": "stream",
          "text": [
            "Asset: XRP / Is Long: False / Should Buy: False / Should Sell: True\n",
            "Iteration ended\n",
            "[{'asset': 'BTC', 'is_long': False, 'order_size': 0.0025}, {'asset': 'LTC', 'is_long': False, 'order_size': 100}, {'asset': 'TRX', 'is_long': False, 'order_size': 1000}, {'asset': 'ETH', 'is_long': False, 'order_size': 0.03}, {'asset': 'BNB', 'is_long': False, 'order_size': 0.25}, {'asset': 'XRP', 'is_long': False, 'order_size': 100}]\n",
            "********************\n"
          ]
        },
        {
          "name": "stderr",
          "output_type": "stream",
          "text": [
            "<ipython-input-20-592de29752fe>:50: FutureWarning: Series.__getitem__ treating keys as positions is deprecated. In a future version, integer keys will always be treated as labels (consistent with DataFrame behavior). To access a value by position, use `ser.iloc[pos]`\n",
            "  should_buy = bars['MACD'][-1] > 0 and bars['Pct Change 30m'][-1] > 0\n",
            "<ipython-input-20-592de29752fe>:51: FutureWarning: Series.__getitem__ treating keys as positions is deprecated. In a future version, integer keys will always be treated as labels (consistent with DataFrame behavior). To access a value by position, use `ser.iloc[pos]`\n",
            "  should_sell = bars['MACD'][-1] < 0 and bars['Pct Change 30m'][-1] < 0\n"
          ]
        },
        {
          "name": "stdout",
          "output_type": "stream",
          "text": [
            "Asset: BTC / Is Long: False / Should Buy: False / Should Sell: False\n"
          ]
        },
        {
          "name": "stderr",
          "output_type": "stream",
          "text": [
            "<ipython-input-20-592de29752fe>:50: FutureWarning: Series.__getitem__ treating keys as positions is deprecated. In a future version, integer keys will always be treated as labels (consistent with DataFrame behavior). To access a value by position, use `ser.iloc[pos]`\n",
            "  should_buy = bars['MACD'][-1] > 0 and bars['Pct Change 30m'][-1] > 0\n",
            "<ipython-input-20-592de29752fe>:51: FutureWarning: Series.__getitem__ treating keys as positions is deprecated. In a future version, integer keys will always be treated as labels (consistent with DataFrame behavior). To access a value by position, use `ser.iloc[pos]`\n",
            "  should_sell = bars['MACD'][-1] < 0 and bars['Pct Change 30m'][-1] < 0\n"
          ]
        },
        {
          "name": "stdout",
          "output_type": "stream",
          "text": [
            "Asset: LTC / Is Long: False / Should Buy: False / Should Sell: True\n"
          ]
        },
        {
          "name": "stderr",
          "output_type": "stream",
          "text": [
            "<ipython-input-20-592de29752fe>:50: FutureWarning: Series.__getitem__ treating keys as positions is deprecated. In a future version, integer keys will always be treated as labels (consistent with DataFrame behavior). To access a value by position, use `ser.iloc[pos]`\n",
            "  should_buy = bars['MACD'][-1] > 0 and bars['Pct Change 30m'][-1] > 0\n",
            "<ipython-input-20-592de29752fe>:51: FutureWarning: Series.__getitem__ treating keys as positions is deprecated. In a future version, integer keys will always be treated as labels (consistent with DataFrame behavior). To access a value by position, use `ser.iloc[pos]`\n",
            "  should_sell = bars['MACD'][-1] < 0 and bars['Pct Change 30m'][-1] < 0\n"
          ]
        },
        {
          "name": "stdout",
          "output_type": "stream",
          "text": [
            "Asset: TRX / Is Long: False / Should Buy: False / Should Sell: True\n"
          ]
        },
        {
          "name": "stderr",
          "output_type": "stream",
          "text": [
            "<ipython-input-20-592de29752fe>:50: FutureWarning: Series.__getitem__ treating keys as positions is deprecated. In a future version, integer keys will always be treated as labels (consistent with DataFrame behavior). To access a value by position, use `ser.iloc[pos]`\n",
            "  should_buy = bars['MACD'][-1] > 0 and bars['Pct Change 30m'][-1] > 0\n",
            "<ipython-input-20-592de29752fe>:51: FutureWarning: Series.__getitem__ treating keys as positions is deprecated. In a future version, integer keys will always be treated as labels (consistent with DataFrame behavior). To access a value by position, use `ser.iloc[pos]`\n",
            "  should_sell = bars['MACD'][-1] < 0 and bars['Pct Change 30m'][-1] < 0\n"
          ]
        },
        {
          "name": "stdout",
          "output_type": "stream",
          "text": [
            "Asset: ETH / Is Long: False / Should Buy: False / Should Sell: True\n"
          ]
        },
        {
          "name": "stderr",
          "output_type": "stream",
          "text": [
            "<ipython-input-20-592de29752fe>:50: FutureWarning: Series.__getitem__ treating keys as positions is deprecated. In a future version, integer keys will always be treated as labels (consistent with DataFrame behavior). To access a value by position, use `ser.iloc[pos]`\n",
            "  should_buy = bars['MACD'][-1] > 0 and bars['Pct Change 30m'][-1] > 0\n",
            "<ipython-input-20-592de29752fe>:51: FutureWarning: Series.__getitem__ treating keys as positions is deprecated. In a future version, integer keys will always be treated as labels (consistent with DataFrame behavior). To access a value by position, use `ser.iloc[pos]`\n",
            "  should_sell = bars['MACD'][-1] < 0 and bars['Pct Change 30m'][-1] < 0\n"
          ]
        },
        {
          "name": "stdout",
          "output_type": "stream",
          "text": [
            "Asset: BNB / Is Long: False / Should Buy: False / Should Sell: False\n"
          ]
        },
        {
          "name": "stderr",
          "output_type": "stream",
          "text": [
            "<ipython-input-20-592de29752fe>:50: FutureWarning: Series.__getitem__ treating keys as positions is deprecated. In a future version, integer keys will always be treated as labels (consistent with DataFrame behavior). To access a value by position, use `ser.iloc[pos]`\n",
            "  should_buy = bars['MACD'][-1] > 0 and bars['Pct Change 30m'][-1] > 0\n",
            "<ipython-input-20-592de29752fe>:51: FutureWarning: Series.__getitem__ treating keys as positions is deprecated. In a future version, integer keys will always be treated as labels (consistent with DataFrame behavior). To access a value by position, use `ser.iloc[pos]`\n",
            "  should_sell = bars['MACD'][-1] < 0 and bars['Pct Change 30m'][-1] < 0\n"
          ]
        },
        {
          "name": "stdout",
          "output_type": "stream",
          "text": [
            "Asset: XRP / Is Long: False / Should Buy: False / Should Sell: True\n",
            "Iteration ended\n",
            "[{'asset': 'BTC', 'is_long': False, 'order_size': 0.0025}, {'asset': 'LTC', 'is_long': False, 'order_size': 100}, {'asset': 'TRX', 'is_long': False, 'order_size': 1000}, {'asset': 'ETH', 'is_long': False, 'order_size': 0.03}, {'asset': 'BNB', 'is_long': False, 'order_size': 0.25}, {'asset': 'XRP', 'is_long': False, 'order_size': 100}]\n",
            "********************\n"
          ]
        },
        {
          "name": "stderr",
          "output_type": "stream",
          "text": [
            "<ipython-input-20-592de29752fe>:50: FutureWarning: Series.__getitem__ treating keys as positions is deprecated. In a future version, integer keys will always be treated as labels (consistent with DataFrame behavior). To access a value by position, use `ser.iloc[pos]`\n",
            "  should_buy = bars['MACD'][-1] > 0 and bars['Pct Change 30m'][-1] > 0\n",
            "<ipython-input-20-592de29752fe>:51: FutureWarning: Series.__getitem__ treating keys as positions is deprecated. In a future version, integer keys will always be treated as labels (consistent with DataFrame behavior). To access a value by position, use `ser.iloc[pos]`\n",
            "  should_sell = bars['MACD'][-1] < 0 and bars['Pct Change 30m'][-1] < 0\n"
          ]
        },
        {
          "name": "stdout",
          "output_type": "stream",
          "text": [
            "Asset: BTC / Is Long: False / Should Buy: False / Should Sell: False\n"
          ]
        },
        {
          "name": "stderr",
          "output_type": "stream",
          "text": [
            "<ipython-input-20-592de29752fe>:50: FutureWarning: Series.__getitem__ treating keys as positions is deprecated. In a future version, integer keys will always be treated as labels (consistent with DataFrame behavior). To access a value by position, use `ser.iloc[pos]`\n",
            "  should_buy = bars['MACD'][-1] > 0 and bars['Pct Change 30m'][-1] > 0\n",
            "<ipython-input-20-592de29752fe>:51: FutureWarning: Series.__getitem__ treating keys as positions is deprecated. In a future version, integer keys will always be treated as labels (consistent with DataFrame behavior). To access a value by position, use `ser.iloc[pos]`\n",
            "  should_sell = bars['MACD'][-1] < 0 and bars['Pct Change 30m'][-1] < 0\n"
          ]
        },
        {
          "name": "stdout",
          "output_type": "stream",
          "text": [
            "Asset: LTC / Is Long: False / Should Buy: False / Should Sell: True\n"
          ]
        },
        {
          "name": "stderr",
          "output_type": "stream",
          "text": [
            "<ipython-input-20-592de29752fe>:50: FutureWarning: Series.__getitem__ treating keys as positions is deprecated. In a future version, integer keys will always be treated as labels (consistent with DataFrame behavior). To access a value by position, use `ser.iloc[pos]`\n",
            "  should_buy = bars['MACD'][-1] > 0 and bars['Pct Change 30m'][-1] > 0\n",
            "<ipython-input-20-592de29752fe>:51: FutureWarning: Series.__getitem__ treating keys as positions is deprecated. In a future version, integer keys will always be treated as labels (consistent with DataFrame behavior). To access a value by position, use `ser.iloc[pos]`\n",
            "  should_sell = bars['MACD'][-1] < 0 and bars['Pct Change 30m'][-1] < 0\n"
          ]
        },
        {
          "name": "stdout",
          "output_type": "stream",
          "text": [
            "Asset: TRX / Is Long: False / Should Buy: False / Should Sell: True\n"
          ]
        },
        {
          "name": "stderr",
          "output_type": "stream",
          "text": [
            "<ipython-input-20-592de29752fe>:50: FutureWarning: Series.__getitem__ treating keys as positions is deprecated. In a future version, integer keys will always be treated as labels (consistent with DataFrame behavior). To access a value by position, use `ser.iloc[pos]`\n",
            "  should_buy = bars['MACD'][-1] > 0 and bars['Pct Change 30m'][-1] > 0\n",
            "<ipython-input-20-592de29752fe>:51: FutureWarning: Series.__getitem__ treating keys as positions is deprecated. In a future version, integer keys will always be treated as labels (consistent with DataFrame behavior). To access a value by position, use `ser.iloc[pos]`\n",
            "  should_sell = bars['MACD'][-1] < 0 and bars['Pct Change 30m'][-1] < 0\n"
          ]
        },
        {
          "name": "stdout",
          "output_type": "stream",
          "text": [
            "Asset: ETH / Is Long: False / Should Buy: False / Should Sell: True\n"
          ]
        },
        {
          "name": "stderr",
          "output_type": "stream",
          "text": [
            "<ipython-input-20-592de29752fe>:50: FutureWarning: Series.__getitem__ treating keys as positions is deprecated. In a future version, integer keys will always be treated as labels (consistent with DataFrame behavior). To access a value by position, use `ser.iloc[pos]`\n",
            "  should_buy = bars['MACD'][-1] > 0 and bars['Pct Change 30m'][-1] > 0\n",
            "<ipython-input-20-592de29752fe>:51: FutureWarning: Series.__getitem__ treating keys as positions is deprecated. In a future version, integer keys will always be treated as labels (consistent with DataFrame behavior). To access a value by position, use `ser.iloc[pos]`\n",
            "  should_sell = bars['MACD'][-1] < 0 and bars['Pct Change 30m'][-1] < 0\n"
          ]
        },
        {
          "name": "stdout",
          "output_type": "stream",
          "text": [
            "Asset: BNB / Is Long: False / Should Buy: False / Should Sell: True\n"
          ]
        },
        {
          "name": "stderr",
          "output_type": "stream",
          "text": [
            "<ipython-input-20-592de29752fe>:50: FutureWarning: Series.__getitem__ treating keys as positions is deprecated. In a future version, integer keys will always be treated as labels (consistent with DataFrame behavior). To access a value by position, use `ser.iloc[pos]`\n",
            "  should_buy = bars['MACD'][-1] > 0 and bars['Pct Change 30m'][-1] > 0\n",
            "<ipython-input-20-592de29752fe>:51: FutureWarning: Series.__getitem__ treating keys as positions is deprecated. In a future version, integer keys will always be treated as labels (consistent with DataFrame behavior). To access a value by position, use `ser.iloc[pos]`\n",
            "  should_sell = bars['MACD'][-1] < 0 and bars['Pct Change 30m'][-1] < 0\n"
          ]
        },
        {
          "name": "stdout",
          "output_type": "stream",
          "text": [
            "Asset: XRP / Is Long: False / Should Buy: False / Should Sell: True\n",
            "Iteration ended\n",
            "[{'asset': 'BTC', 'is_long': False, 'order_size': 0.0025}, {'asset': 'LTC', 'is_long': False, 'order_size': 100}, {'asset': 'TRX', 'is_long': False, 'order_size': 1000}, {'asset': 'ETH', 'is_long': False, 'order_size': 0.03}, {'asset': 'BNB', 'is_long': False, 'order_size': 0.25}, {'asset': 'XRP', 'is_long': False, 'order_size': 100}]\n",
            "********************\n"
          ]
        },
        {
          "name": "stderr",
          "output_type": "stream",
          "text": [
            "<ipython-input-20-592de29752fe>:50: FutureWarning: Series.__getitem__ treating keys as positions is deprecated. In a future version, integer keys will always be treated as labels (consistent with DataFrame behavior). To access a value by position, use `ser.iloc[pos]`\n",
            "  should_buy = bars['MACD'][-1] > 0 and bars['Pct Change 30m'][-1] > 0\n",
            "<ipython-input-20-592de29752fe>:51: FutureWarning: Series.__getitem__ treating keys as positions is deprecated. In a future version, integer keys will always be treated as labels (consistent with DataFrame behavior). To access a value by position, use `ser.iloc[pos]`\n",
            "  should_sell = bars['MACD'][-1] < 0 and bars['Pct Change 30m'][-1] < 0\n"
          ]
        },
        {
          "name": "stdout",
          "output_type": "stream",
          "text": [
            "Asset: BTC / Is Long: False / Should Buy: False / Should Sell: False\n"
          ]
        },
        {
          "name": "stderr",
          "output_type": "stream",
          "text": [
            "<ipython-input-20-592de29752fe>:50: FutureWarning: Series.__getitem__ treating keys as positions is deprecated. In a future version, integer keys will always be treated as labels (consistent with DataFrame behavior). To access a value by position, use `ser.iloc[pos]`\n",
            "  should_buy = bars['MACD'][-1] > 0 and bars['Pct Change 30m'][-1] > 0\n",
            "<ipython-input-20-592de29752fe>:51: FutureWarning: Series.__getitem__ treating keys as positions is deprecated. In a future version, integer keys will always be treated as labels (consistent with DataFrame behavior). To access a value by position, use `ser.iloc[pos]`\n",
            "  should_sell = bars['MACD'][-1] < 0 and bars['Pct Change 30m'][-1] < 0\n"
          ]
        },
        {
          "name": "stdout",
          "output_type": "stream",
          "text": [
            "Asset: LTC / Is Long: False / Should Buy: False / Should Sell: True\n"
          ]
        },
        {
          "name": "stderr",
          "output_type": "stream",
          "text": [
            "<ipython-input-20-592de29752fe>:50: FutureWarning: Series.__getitem__ treating keys as positions is deprecated. In a future version, integer keys will always be treated as labels (consistent with DataFrame behavior). To access a value by position, use `ser.iloc[pos]`\n",
            "  should_buy = bars['MACD'][-1] > 0 and bars['Pct Change 30m'][-1] > 0\n",
            "<ipython-input-20-592de29752fe>:51: FutureWarning: Series.__getitem__ treating keys as positions is deprecated. In a future version, integer keys will always be treated as labels (consistent with DataFrame behavior). To access a value by position, use `ser.iloc[pos]`\n",
            "  should_sell = bars['MACD'][-1] < 0 and bars['Pct Change 30m'][-1] < 0\n"
          ]
        },
        {
          "name": "stdout",
          "output_type": "stream",
          "text": [
            "Asset: TRX / Is Long: False / Should Buy: False / Should Sell: True\n"
          ]
        },
        {
          "name": "stderr",
          "output_type": "stream",
          "text": [
            "<ipython-input-20-592de29752fe>:50: FutureWarning: Series.__getitem__ treating keys as positions is deprecated. In a future version, integer keys will always be treated as labels (consistent with DataFrame behavior). To access a value by position, use `ser.iloc[pos]`\n",
            "  should_buy = bars['MACD'][-1] > 0 and bars['Pct Change 30m'][-1] > 0\n",
            "<ipython-input-20-592de29752fe>:51: FutureWarning: Series.__getitem__ treating keys as positions is deprecated. In a future version, integer keys will always be treated as labels (consistent with DataFrame behavior). To access a value by position, use `ser.iloc[pos]`\n",
            "  should_sell = bars['MACD'][-1] < 0 and bars['Pct Change 30m'][-1] < 0\n"
          ]
        },
        {
          "name": "stdout",
          "output_type": "stream",
          "text": [
            "Asset: ETH / Is Long: False / Should Buy: False / Should Sell: True\n"
          ]
        },
        {
          "name": "stderr",
          "output_type": "stream",
          "text": [
            "<ipython-input-20-592de29752fe>:50: FutureWarning: Series.__getitem__ treating keys as positions is deprecated. In a future version, integer keys will always be treated as labels (consistent with DataFrame behavior). To access a value by position, use `ser.iloc[pos]`\n",
            "  should_buy = bars['MACD'][-1] > 0 and bars['Pct Change 30m'][-1] > 0\n",
            "<ipython-input-20-592de29752fe>:51: FutureWarning: Series.__getitem__ treating keys as positions is deprecated. In a future version, integer keys will always be treated as labels (consistent with DataFrame behavior). To access a value by position, use `ser.iloc[pos]`\n",
            "  should_sell = bars['MACD'][-1] < 0 and bars['Pct Change 30m'][-1] < 0\n"
          ]
        },
        {
          "name": "stdout",
          "output_type": "stream",
          "text": [
            "Asset: BNB / Is Long: False / Should Buy: False / Should Sell: True\n"
          ]
        },
        {
          "name": "stderr",
          "output_type": "stream",
          "text": [
            "<ipython-input-20-592de29752fe>:50: FutureWarning: Series.__getitem__ treating keys as positions is deprecated. In a future version, integer keys will always be treated as labels (consistent with DataFrame behavior). To access a value by position, use `ser.iloc[pos]`\n",
            "  should_buy = bars['MACD'][-1] > 0 and bars['Pct Change 30m'][-1] > 0\n",
            "<ipython-input-20-592de29752fe>:51: FutureWarning: Series.__getitem__ treating keys as positions is deprecated. In a future version, integer keys will always be treated as labels (consistent with DataFrame behavior). To access a value by position, use `ser.iloc[pos]`\n",
            "  should_sell = bars['MACD'][-1] < 0 and bars['Pct Change 30m'][-1] < 0\n"
          ]
        },
        {
          "name": "stdout",
          "output_type": "stream",
          "text": [
            "Asset: XRP / Is Long: False / Should Buy: False / Should Sell: True\n",
            "Iteration ended\n",
            "[{'asset': 'BTC', 'is_long': False, 'order_size': 0.0025}, {'asset': 'LTC', 'is_long': False, 'order_size': 100}, {'asset': 'TRX', 'is_long': False, 'order_size': 1000}, {'asset': 'ETH', 'is_long': False, 'order_size': 0.03}, {'asset': 'BNB', 'is_long': False, 'order_size': 0.25}, {'asset': 'XRP', 'is_long': False, 'order_size': 100}]\n",
            "********************\n"
          ]
        },
        {
          "name": "stderr",
          "output_type": "stream",
          "text": [
            "<ipython-input-20-592de29752fe>:50: FutureWarning: Series.__getitem__ treating keys as positions is deprecated. In a future version, integer keys will always be treated as labels (consistent with DataFrame behavior). To access a value by position, use `ser.iloc[pos]`\n",
            "  should_buy = bars['MACD'][-1] > 0 and bars['Pct Change 30m'][-1] > 0\n",
            "<ipython-input-20-592de29752fe>:51: FutureWarning: Series.__getitem__ treating keys as positions is deprecated. In a future version, integer keys will always be treated as labels (consistent with DataFrame behavior). To access a value by position, use `ser.iloc[pos]`\n",
            "  should_sell = bars['MACD'][-1] < 0 and bars['Pct Change 30m'][-1] < 0\n"
          ]
        },
        {
          "name": "stdout",
          "output_type": "stream",
          "text": [
            "Asset: BTC / Is Long: False / Should Buy: False / Should Sell: False\n"
          ]
        },
        {
          "name": "stderr",
          "output_type": "stream",
          "text": [
            "<ipython-input-20-592de29752fe>:50: FutureWarning: Series.__getitem__ treating keys as positions is deprecated. In a future version, integer keys will always be treated as labels (consistent with DataFrame behavior). To access a value by position, use `ser.iloc[pos]`\n",
            "  should_buy = bars['MACD'][-1] > 0 and bars['Pct Change 30m'][-1] > 0\n",
            "<ipython-input-20-592de29752fe>:51: FutureWarning: Series.__getitem__ treating keys as positions is deprecated. In a future version, integer keys will always be treated as labels (consistent with DataFrame behavior). To access a value by position, use `ser.iloc[pos]`\n",
            "  should_sell = bars['MACD'][-1] < 0 and bars['Pct Change 30m'][-1] < 0\n"
          ]
        },
        {
          "name": "stdout",
          "output_type": "stream",
          "text": [
            "Asset: LTC / Is Long: False / Should Buy: False / Should Sell: True\n"
          ]
        },
        {
          "name": "stderr",
          "output_type": "stream",
          "text": [
            "<ipython-input-20-592de29752fe>:50: FutureWarning: Series.__getitem__ treating keys as positions is deprecated. In a future version, integer keys will always be treated as labels (consistent with DataFrame behavior). To access a value by position, use `ser.iloc[pos]`\n",
            "  should_buy = bars['MACD'][-1] > 0 and bars['Pct Change 30m'][-1] > 0\n",
            "<ipython-input-20-592de29752fe>:51: FutureWarning: Series.__getitem__ treating keys as positions is deprecated. In a future version, integer keys will always be treated as labels (consistent with DataFrame behavior). To access a value by position, use `ser.iloc[pos]`\n",
            "  should_sell = bars['MACD'][-1] < 0 and bars['Pct Change 30m'][-1] < 0\n"
          ]
        },
        {
          "name": "stdout",
          "output_type": "stream",
          "text": [
            "Asset: TRX / Is Long: False / Should Buy: False / Should Sell: True\n"
          ]
        },
        {
          "name": "stderr",
          "output_type": "stream",
          "text": [
            "<ipython-input-20-592de29752fe>:50: FutureWarning: Series.__getitem__ treating keys as positions is deprecated. In a future version, integer keys will always be treated as labels (consistent with DataFrame behavior). To access a value by position, use `ser.iloc[pos]`\n",
            "  should_buy = bars['MACD'][-1] > 0 and bars['Pct Change 30m'][-1] > 0\n",
            "<ipython-input-20-592de29752fe>:51: FutureWarning: Series.__getitem__ treating keys as positions is deprecated. In a future version, integer keys will always be treated as labels (consistent with DataFrame behavior). To access a value by position, use `ser.iloc[pos]`\n",
            "  should_sell = bars['MACD'][-1] < 0 and bars['Pct Change 30m'][-1] < 0\n"
          ]
        },
        {
          "name": "stdout",
          "output_type": "stream",
          "text": [
            "Asset: ETH / Is Long: False / Should Buy: False / Should Sell: True\n"
          ]
        },
        {
          "name": "stderr",
          "output_type": "stream",
          "text": [
            "<ipython-input-20-592de29752fe>:50: FutureWarning: Series.__getitem__ treating keys as positions is deprecated. In a future version, integer keys will always be treated as labels (consistent with DataFrame behavior). To access a value by position, use `ser.iloc[pos]`\n",
            "  should_buy = bars['MACD'][-1] > 0 and bars['Pct Change 30m'][-1] > 0\n",
            "<ipython-input-20-592de29752fe>:51: FutureWarning: Series.__getitem__ treating keys as positions is deprecated. In a future version, integer keys will always be treated as labels (consistent with DataFrame behavior). To access a value by position, use `ser.iloc[pos]`\n",
            "  should_sell = bars['MACD'][-1] < 0 and bars['Pct Change 30m'][-1] < 0\n"
          ]
        },
        {
          "name": "stdout",
          "output_type": "stream",
          "text": [
            "Asset: BNB / Is Long: False / Should Buy: False / Should Sell: True\n"
          ]
        },
        {
          "name": "stderr",
          "output_type": "stream",
          "text": [
            "<ipython-input-20-592de29752fe>:50: FutureWarning: Series.__getitem__ treating keys as positions is deprecated. In a future version, integer keys will always be treated as labels (consistent with DataFrame behavior). To access a value by position, use `ser.iloc[pos]`\n",
            "  should_buy = bars['MACD'][-1] > 0 and bars['Pct Change 30m'][-1] > 0\n",
            "<ipython-input-20-592de29752fe>:51: FutureWarning: Series.__getitem__ treating keys as positions is deprecated. In a future version, integer keys will always be treated as labels (consistent with DataFrame behavior). To access a value by position, use `ser.iloc[pos]`\n",
            "  should_sell = bars['MACD'][-1] < 0 and bars['Pct Change 30m'][-1] < 0\n"
          ]
        },
        {
          "name": "stdout",
          "output_type": "stream",
          "text": [
            "Asset: XRP / Is Long: False / Should Buy: False / Should Sell: True\n",
            "Iteration ended\n",
            "[{'asset': 'BTC', 'is_long': False, 'order_size': 0.0025}, {'asset': 'LTC', 'is_long': False, 'order_size': 100}, {'asset': 'TRX', 'is_long': False, 'order_size': 1000}, {'asset': 'ETH', 'is_long': False, 'order_size': 0.03}, {'asset': 'BNB', 'is_long': False, 'order_size': 0.25}, {'asset': 'XRP', 'is_long': False, 'order_size': 100}]\n",
            "********************\n"
          ]
        },
        {
          "ename": "KeyboardInterrupt",
          "evalue": "",
          "output_type": "error",
          "traceback": [
            "\u001b[0;31m---------------------------------------------------------------------------\u001b[0m",
            "\u001b[0;31mKeyboardInterrupt\u001b[0m                         Traceback (most recent call last)",
            "\u001b[0;32m<ipython-input-20-592de29752fe>\u001b[0m in \u001b[0;36m<cell line: 0>\u001b[0;34m()\u001b[0m\n\u001b[1;32m     74\u001b[0m     \u001b[0mprint\u001b[0m\u001b[0;34m(\u001b[0m\u001b[0massets\u001b[0m\u001b[0;34m)\u001b[0m\u001b[0;34m\u001b[0m\u001b[0;34m\u001b[0m\u001b[0m\n\u001b[1;32m     75\u001b[0m     \u001b[0mprint\u001b[0m\u001b[0;34m(\u001b[0m\u001b[0;34m\"*\"\u001b[0m \u001b[0;34m*\u001b[0m \u001b[0;36m20\u001b[0m\u001b[0;34m)\u001b[0m\u001b[0;34m\u001b[0m\u001b[0;34m\u001b[0m\u001b[0m\n\u001b[0;32m---> 76\u001b[0;31m     \u001b[0mtime\u001b[0m\u001b[0;34m.\u001b[0m\u001b[0msleep\u001b[0m\u001b[0;34m(\u001b[0m\u001b[0;36m10\u001b[0m\u001b[0;34m)\u001b[0m  \u001b[0;31m# Pause for 10 seconds before the next iteration\u001b[0m\u001b[0;34m\u001b[0m\u001b[0;34m\u001b[0m\u001b[0m\n\u001b[0m",
            "\u001b[0;31mKeyboardInterrupt\u001b[0m: "
          ]
        }
      ],
      "source": [
        "# List of assets to trade with their initial status and order sizes\n",
        "assets = [\n",
        "    {'asset': 'BTC', 'is_long': False, 'order_size': 0.0025},\n",
        "    {'asset': 'LTC', 'is_long': False, 'order_size': 100},\n",
        "    {'asset': 'TRX', 'is_long': False, 'order_size': 1000},\n",
        "    {'asset': 'ETH', 'is_long': False, 'order_size': 0.03},\n",
        "    {'asset': 'BNB', 'is_long': False, 'order_size': 0.25},\n",
        "    {'asset': 'XRP', 'is_long': False, 'order_size': 100},\n",
        "]\n",
        "\n",
        "# Function to fetch historical 1-minute klines and calculate indicators\n",
        "def get_bars(asset='ETH'):\n",
        "    # Fetch historical data for the asset against USDT\n",
        "    bars = client.get_historical_klines(\n",
        "        f\"{asset}USDT\", Client.KLINE_INTERVAL_1MINUTE, start_str=\"1 hour ago UTC\")\n",
        "\n",
        "    # Load data into DataFrame and set column names\n",
        "    df = pd.DataFrame(bars)\n",
        "    df.columns = [\n",
        "        \"Open time\", \"Open\", \"High\", \"Low\", \"Close\", \"Volume\", \"Close time\",\n",
        "        \"Quote asset volume\", \"Number of trades\", \"Taker buy base asset volume\",\n",
        "        \"Taker buy quote asset volume\", \"Ignore\"]\n",
        "\n",
        "    # Convert timestamps to datetime and set index\n",
        "    df['Open time'] = pd.to_datetime(df['Open time'], unit='ms')\n",
        "    df.set_index('Open time', inplace=True)\n",
        "    df = df.iloc[:, :5]  # Keep relevant columns only\n",
        "\n",
        "    # Convert all columns to numeric to avoid type issues\n",
        "    for col in df.columns:\n",
        "        df[col] = pd.to_numeric(df[col], errors='coerce')\n",
        "\n",
        "    # Add MACD and percentage change indicators\n",
        "    df['MACD'] = get_macd(df[\"Close\"])\n",
        "    df['Pct Change 30m'] = df['Close'].pct_change(30)\n",
        "\n",
        "    return df\n",
        "\n",
        "# Function to calculate MACD using pandas_ta\n",
        "def get_macd(data, slow=26, fast=12, signal=9):\n",
        "    macd = ta.macd(data, slow=slow, fast=fast, signal=signal)\n",
        "    return macd.iloc[:, -1]\n",
        "\n",
        "# Function to execute trade logic for a given asset\n",
        "def execute_trade(asset_info, index):\n",
        "    symbol = f\"{asset_info['asset']}USDT\"\n",
        "    bars = get_bars(asset=asset_info['asset'])\n",
        "\n",
        "    # Determine buy/sell conditions based on MACD and percentage change\n",
        "    should_buy = bars['MACD'][-1] > 0 and bars['Pct Change 30m'][-1] > 0\n",
        "    should_sell = bars['MACD'][-1] < 0 and bars['Pct Change 30m'][-1] < 0\n",
        "\n",
        "    # Print status for debugging\n",
        "    print(f\"Asset: {asset_info['asset']} / Is Long: {asset_info['is_long']} / Should Buy: {should_buy} / Should Sell: {should_sell}\")\n",
        "\n",
        "    if not asset_info['is_long'] and should_buy:\n",
        "        # Buy the asset if conditions are met\n",
        "        print(f\"We are buying {asset_info['order_size']} {asset_info['asset']}\")\n",
        "        order = client.order_market_buy(symbol=symbol, quantity=asset_info['order_size'])\n",
        "        assets[index]['is_long'] = True\n",
        "\n",
        "    elif asset_info['is_long'] and should_sell:\n",
        "        # Sell the asset if conditions are met\n",
        "        print(f\"We are selling {asset_info['order_size']} {asset_info['asset']}\")\n",
        "        order = client.order_market_sell(symbol=symbol, quantity=asset_info['order_size'])\n",
        "        assets[index]['is_long'] = False\n",
        "\n",
        "# Main loop to iterate through each asset and execute trading logic\n",
        "while True:\n",
        "    for index, asset_info in enumerate(assets):\n",
        "        execute_trade(asset_info, index)\n",
        "\n",
        "    print('Iteration ended')\n",
        "    print(assets)\n",
        "    print(\"*\" * 20)\n",
        "    time.sleep(10)  # Pause for 10 seconds before the next iteration\n"
      ]
    },
    {
      "cell_type": "code",
      "execution_count": null,
      "metadata": {
        "colab": {
          "base_uri": "https://localhost:8080/",
          "height": 1000
        },
        "id": "Ygl2F-ZN0wmS",
        "outputId": "cc376fbf-32f5-4c3a-aad5-191517f3b7d4"
      },
      "outputs": [
        {
          "name": "stdout",
          "output_type": "stream",
          "text": [
            "Bars DataFrame after get_bars:\n",
            "                          Open       High        Low      Close   Volume  \\\n",
            "Open time                                                                  \n",
            "2025-05-18 23:32:00  105868.74  105881.27  105762.71  105762.72  2.04540   \n",
            "2025-05-18 23:33:00  105762.72  105764.37  105750.00  105764.37  1.65480   \n",
            "2025-05-18 23:34:00  105764.01  105764.01  105725.08  105733.18  1.55874   \n",
            "2025-05-18 23:35:00  105725.08  105733.18  105651.54  105686.98  1.42607   \n",
            "2025-05-18 23:36:00  105688.01  105688.01  105665.39  105665.39  1.62982   \n",
            "\n",
            "                     MACD  Pct Change 30m  \n",
            "Open time                                  \n",
            "2025-05-18 23:32:00   NaN             NaN  \n",
            "2025-05-18 23:33:00   NaN             NaN  \n",
            "2025-05-18 23:34:00   NaN             NaN  \n",
            "2025-05-18 23:35:00   NaN             NaN  \n",
            "2025-05-18 23:36:00   NaN             NaN  \n",
            "\n",
            "Bars DataFrame info:\n",
            "<class 'pandas.core.frame.DataFrame'>\n",
            "DatetimeIndex: 60 entries, 2025-05-18 23:32:00 to 2025-05-19 00:31:00\n",
            "Data columns (total 7 columns):\n",
            " #   Column          Non-Null Count  Dtype  \n",
            "---  ------          --------------  -----  \n",
            " 0   Open            60 non-null     float64\n",
            " 1   High            60 non-null     float64\n",
            " 2   Low             60 non-null     float64\n",
            " 3   Close           60 non-null     float64\n",
            " 4   Volume          60 non-null     float64\n",
            " 5   MACD            27 non-null     float64\n",
            " 6   Pct Change 30m  30 non-null     float64\n",
            "dtypes: float64(7)\n",
            "memory usage: 5.8 KB\n",
            "\n",
            "Bars DataFrame index:\n",
            "DatetimeIndex(['2025-05-18 23:32:00', '2025-05-18 23:33:00',\n",
            "               '2025-05-18 23:34:00', '2025-05-18 23:35:00',\n",
            "               '2025-05-18 23:36:00', '2025-05-18 23:37:00',\n",
            "               '2025-05-18 23:38:00', '2025-05-18 23:39:00',\n",
            "               '2025-05-18 23:40:00', '2025-05-18 23:41:00',\n",
            "               '2025-05-18 23:42:00', '2025-05-18 23:43:00',\n",
            "               '2025-05-18 23:44:00', '2025-05-18 23:45:00',\n",
            "               '2025-05-18 23:46:00', '2025-05-18 23:47:00',\n",
            "               '2025-05-18 23:48:00', '2025-05-18 23:49:00',\n",
            "               '2025-05-18 23:50:00', '2025-05-18 23:51:00',\n",
            "               '2025-05-18 23:52:00', '2025-05-18 23:53:00',\n",
            "               '2025-05-18 23:54:00', '2025-05-18 23:55:00',\n",
            "               '2025-05-18 23:56:00', '2025-05-18 23:57:00',\n",
            "               '2025-05-18 23:58:00', '2025-05-18 23:59:00',\n",
            "               '2025-05-19 00:00:00', '2025-05-19 00:01:00',\n",
            "               '2025-05-19 00:02:00', '2025-05-19 00:03:00',\n",
            "               '2025-05-19 00:04:00', '2025-05-19 00:05:00',\n",
            "               '2025-05-19 00:06:00', '2025-05-19 00:07:00',\n",
            "               '2025-05-19 00:08:00', '2025-05-19 00:09:00',\n",
            "               '2025-05-19 00:10:00', '2025-05-19 00:11:00',\n",
            "               '2025-05-19 00:12:00', '2025-05-19 00:13:00',\n",
            "               '2025-05-19 00:14:00', '2025-05-19 00:15:00',\n",
            "               '2025-05-19 00:16:00', '2025-05-19 00:17:00',\n",
            "               '2025-05-19 00:18:00', '2025-05-19 00:19:00',\n",
            "               '2025-05-19 00:20:00', '2025-05-19 00:21:00',\n",
            "               '2025-05-19 00:22:00', '2025-05-19 00:23:00',\n",
            "               '2025-05-19 00:24:00', '2025-05-19 00:25:00',\n",
            "               '2025-05-19 00:26:00', '2025-05-19 00:27:00',\n",
            "               '2025-05-19 00:28:00', '2025-05-19 00:29:00',\n",
            "               '2025-05-19 00:30:00', '2025-05-19 00:31:00'],\n",
            "              dtype='datetime64[ns]', name='Open time', freq=None)\n"
          ]
        },
        {
          "data": {
            "image/png": "[encoded data removed]",
            "text/plain": [
              "<Figure size 1200x600 with 1 Axes>"
            ]
          },
          "metadata": {},
          "output_type": "display_data"
        }
      ],
      "source": [
        "# Fetch data for BTC and calculate indicators to prepare for plotting\n",
        "# We use get_bars here to get the DataFrame with MACD and Pct Change\n",
        "bars = get_bars(asset='BTC')\n",
        "\n",
        "if not bars.empty:\n",
        "    # Calculate buy and sell conditions for all rows\n",
        "    # These will be boolean Series\n",
        "    should_buy_series = (bars['MACD'] > 0) & (bars['Pct Change 30m'] > 0)\n",
        "    should_sell_series = (bars['MACD'] < 0) & (bars['Pct Change 30m'] < 0)\n",
        "\n",
        "    # Add buy/sell signals to the plot\n",
        "    # Use the boolean series to directly index the DataFrame\n",
        "    # Filter the bars DataFrame where the buy/sell conditions are True\n",
        "    buy_signals = bars.loc[should_buy_series]\n",
        "    sell_signals = bars.loc[should_sell_series]\n",
        "\n",
        "    # Plot the closing price\n",
        "    plt.figure(figsize=(12, 6))\n",
        "    plt.plot(bars.index, bars['Close'], label='Close Price', color='blue')\n",
        "\n",
        "    # Plot buy and sell signals on the closing price chart\n",
        "    if not buy_signals.empty:\n",
        "        plt.scatter(buy_signals.index, buy_signals['Close'], marker='^', color='g', s=100, label='Buy Signal', zorder=5)\n",
        "    else:\n",
        "        print(\"No buy signals to plot.\")\n",
        "\n",
        "    if not sell_signals.empty:\n",
        "        plt.scatter(sell_signals.index, sell_signals['Close'], marker='v', color='r', s=100, label='Sell Signal', zorder=5)\n",
        "    else:\n",
        "        print(\"No sell signals to plot.\")\n",
        "\n",
        "    print(\"Bars DataFrame after get_bars:\")\n",
        "    print(bars.head()) # Print the head of the DataFrame\n",
        "    print(\"\\nBars DataFrame info:\")\n",
        "    bars.info() # Print DataFrame info including index type\n",
        "    print(\"\\nBars DataFrame index:\")\n",
        "    print(bars.index) # Print the index\n",
        "    plt.title('BTCUSDT Closing Price with Buy/Sell Signals')\n",
        "    plt.xlabel('Date')\n",
        "    plt.ylabel('Close Price')\n",
        "    plt.legend()\n",
        "    plt.grid(True)\n",
        "    plt.show()\n",
        "else:\n",
        "    print(\"Could not fetch or process data to plot signals.\")"
      ]
    },
    {
      "cell_type": "code",
      "execution_count": null,
      "metadata": {
        "id": "1mk56GEE0xP8"
      },
      "outputs": [],
      "source": []
    }
  ],
  "metadata": {
    "colab": {
      "provenance": []
    },
    "kernelspec": {
      "display_name": "Python 3",
      "name": "python3"
    },
    "language_info": {
      "name": "python"
    }
  },
  "nbformat": 4,
  "nbformat_minor": 0
}
